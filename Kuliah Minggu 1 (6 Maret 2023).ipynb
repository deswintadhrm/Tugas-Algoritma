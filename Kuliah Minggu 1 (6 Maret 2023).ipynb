{
 "cells": [
  {
   "cell_type": "markdown",
   "id": "fc7d8f7b",
   "metadata": {},
   "source": [
    "# Pengenalan Python"
   ]
  },
  {
   "cell_type": "code",
   "execution_count": 2,
   "id": "7332459c",
   "metadata": {},
   "outputs": [
    {
     "name": "stdout",
     "output_type": "stream",
     "text": [
      "Hari ini saya mulai belajar Python\n"
     ]
    }
   ],
   "source": [
    "print(\"Hari ini saya mulai belajar Python\")\n",
    "#Saya mencoba buku referensi yang dikirimkan Pak Made Eka"
   ]
  },
  {
   "cell_type": "code",
   "execution_count": 4,
   "id": "b980bae2",
   "metadata": {},
   "outputs": [
    {
     "name": "stdout",
     "output_type": "stream",
     "text": [
      "Perkuliahan hari ini kami menyampaikan kesulitan saat instalasi Anaconda\n"
     ]
    }
   ],
   "source": [
    "print('Perkuliahan hari ini kami menyampaikan kesulitan saat instalasi Anaconda')"
   ]
  },
  {
   "cell_type": "code",
   "execution_count": 5,
   "id": "0e772de4",
   "metadata": {},
   "outputs": [
    {
     "name": "stdout",
     "output_type": "stream",
     "text": [
      "Python itu sangat simple broo\n"
     ]
    }
   ],
   "source": [
    "print('Python itu sangat simple broo');\n",
    "#Ada percobaan dengan menggunakan tanda semicolon (;) dan tidak berpengaruh apa-apa."
   ]
  },
  {
   "cell_type": "markdown",
   "id": "bf12d944",
   "metadata": {},
   "source": [
    "# Tipe Data"
   ]
  },
  {
   "cell_type": "raw",
   "id": "8087c77e",
   "metadata": {},
   "source": [
    "Menambah cell dapat dilakukan hanya dengan klik huruf \"B\" pada keyboard, wow\n",
    "Ketika ingin run code, kita bisa klik \"Ctrl + Enter\" pada keyboard\n",
    "Pada buku dijelaskan mengenai tipe data\n",
    "Tipe data yang digunakan tidak jauh beda dengan tipe data pada C++"
   ]
  },
  {
   "cell_type": "code",
   "execution_count": 11,
   "id": "916e1f0a",
   "metadata": {
    "scrolled": true
   },
   "outputs": [
    {
     "name": "stdout",
     "output_type": "stream",
     "text": [
      "True\n",
      "False\n",
      "FMIPA UNUD, Prodi Matematika\n",
      "FT UNUD, Prodi Teknik Sipil\n",
      "80\n",
      "11\n",
      "3.14\n",
      "12.23\n",
      "5j\n",
      "3j\n",
      "[2, 3, 5, 7]\n",
      "['satu', 'dua', 'tiga']\n",
      "(1, 1, 2, 3, 5)\n",
      "(1, 2, 2, 4, 3, 6)\n",
      "('satu', 'dua', 'tiga')\n",
      "{'nama': 'Deswinta', 'umur': 19}\n",
      "{'nama': 'Yuni', 'umur': 19}\n"
     ]
    },
    {
     "data": {
      "text/plain": [
       "dict"
      ]
     },
     "execution_count": 11,
     "metadata": {},
     "output_type": "execute_result"
    }
   ],
   "source": [
    "#tipe data Boolean\n",
    "print(True)\n",
    "print (False)\n",
    "\n",
    "#tipe data String\n",
    "print('FMIPA UNUD, Prodi Matematika')\n",
    "print('FT UNUD, Prodi Teknik Sipil')\n",
    "\n",
    "#tipe data Integer\n",
    "print (80)\n",
    "print(11)\n",
    "\n",
    "#tipe data Float\n",
    "print (3.14)\n",
    "print(12.23)\n",
    "\n",
    "#tipe data Complex\n",
    "print(5j)\n",
    "print (3j) #saya coba gunakan huruf selain j, namun error/tidak valid\n",
    "\n",
    "\n",
    "#tipe data List\n",
    "print([2,3,5,7])\n",
    "print (['satu', 'dua', 'tiga'])\n",
    "#tipe data Tuple\n",
    "print((1,1,2,3,5))\n",
    "print((1,2,2,4,3,6))\n",
    "print (('satu', 'dua', 'tiga'))\n",
    "\n",
    "#tipe data Dictionary\n",
    "print({'nama':'Deswinta', 'umur':19})\n",
    "#tipe data Dictionary dimasukan ke dalam variabel biodata\n",
    "biodata = {'nama':'Yuni', 'umur':19} #ini proses inisialisasi variabel biodata\n",
    "#proses pencetakan variabel biodata yang berisi tipe data Dictionary\n",
    "print(biodata)\n",
    "#fungsi untuk mengecek jenis tipe data akan tampil <class 'dict'>\n",
    "#berarti dict adalah tipe data dictionary\n",
    "type(biodata)"
   ]
  },
  {
   "cell_type": "markdown",
   "id": "96470ae9",
   "metadata": {},
   "source": [
    "setelah di-run, walaupun terdapat spasi setelah kata 'print' itu tidak berpengaruh"
   ]
  },
  {
   "cell_type": "markdown",
   "id": "e3bee6b3",
   "metadata": {},
   "source": [
    "# Variabel Python"
   ]
  },
  {
   "cell_type": "code",
   "execution_count": 12,
   "id": "c4cfdcca",
   "metadata": {},
   "outputs": [
    {
     "name": "stdout",
     "output_type": "stream",
     "text": [
      "Universitas Udayana\n"
     ]
    }
   ],
   "source": [
    "#memasukkan data ke dalam variabel\n",
    "univ = 'Universitas Udayana'\n",
    "#proses cetak variabel\n",
    "print(univ)"
   ]
  },
  {
   "cell_type": "code",
   "execution_count": 13,
   "id": "5442dabc",
   "metadata": {},
   "outputs": [
    {
     "name": "stdout",
     "output_type": "stream",
     "text": [
      "19\n",
      "sembilan belas tahun\n"
     ]
    },
    {
     "data": {
      "text/plain": [
       "str"
      ]
     },
     "execution_count": 13,
     "metadata": {},
     "output_type": "execute_result"
    }
   ],
   "source": [
    "#nilai dan tipe data dalam variabel dapat diubah\n",
    "umur = 19                        #nilai awal variabel\n",
    "print(umur)                      #print nilai umur\n",
    "type(umur)                       #mengecek tipe data umur\n",
    "umur = \"sembilan belas tahun\"    #nilai setelah diubah\n",
    "print(umur)                      #print nilai umur\n",
    "type(umur)                       #mengecek tipe data umur"
   ]
  },
  {
   "cell_type": "code",
   "execution_count": 8,
   "id": "636ae004",
   "metadata": {},
   "outputs": [
    {
     "name": "stdout",
     "output_type": "stream",
     "text": [
      "Biodata\n",
      " Luh Putu Deswinta \n",
      " 19 \n",
      " Memasak\n"
     ]
    }
   ],
   "source": [
    "namaDepan = 'Luh Putu'\n",
    "namaBelakang = 'Deswinta'\n",
    "nama = namaDepan + ' ' + namaBelakang\n",
    "umur = 19\n",
    "hobi = 'Memasak'\n",
    "print('Biodata\\n', nama,'\\n', umur, '\\n', hobi)"
   ]
  },
  {
   "cell_type": "raw",
   "id": "e6f7f765",
   "metadata": {},
   "source": [
    "sama seperti C++, '\\n' digunakan untuk print pada baris selanjutnya atau sama dengan fungsi enter"
   ]
  },
  {
   "cell_type": "code",
   "execution_count": 7,
   "id": "9dc2cfdc",
   "metadata": {},
   "outputs": [],
   "source": [
    "#contoh variabel lainnya\n",
    "inivariabel = 'Halo'\n",
    "ini_juga_variabel = 'Hai'\n",
    "_inivariabeljuga = 'Hi'\n",
    "inivariabel222 = 'Bye'"
   ]
  },
  {
   "cell_type": "markdown",
   "id": "b58cd2e6",
   "metadata": {},
   "source": [
    "dapat disimpulkan nama untuk suatu variabel itu adalah kata bebas yang tidak memiliki spasi, hindari juga penggunaan nama variabel yang sama karena nama variabel bersifat sensitif"
   ]
  },
  {
   "cell_type": "code",
   "execution_count": 6,
   "id": "86286812",
   "metadata": {},
   "outputs": [
    {
     "name": "stdout",
     "output_type": "stream",
     "text": [
      "50\n"
     ]
    }
   ],
   "source": [
    "panjang = 10\n",
    "lebar = 5\n",
    "luas = panjang * lebar\n",
    "print(luas)"
   ]
  }
 ],
 "metadata": {
  "kernelspec": {
   "display_name": "Python 3 (ipykernel)",
   "language": "python",
   "name": "python3"
  },
  "language_info": {
   "codemirror_mode": {
    "name": "ipython",
    "version": 3
   },
   "file_extension": ".py",
   "mimetype": "text/x-python",
   "name": "python",
   "nbconvert_exporter": "python",
   "pygments_lexer": "ipython3",
   "version": "3.9.13"
  }
 },
 "nbformat": 4,
 "nbformat_minor": 5
}
