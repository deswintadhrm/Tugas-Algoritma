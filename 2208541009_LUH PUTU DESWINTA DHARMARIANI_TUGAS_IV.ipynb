{
 "cells": [
  {
   "cell_type": "markdown",
   "id": "4af62a53",
   "metadata": {},
   "source": [
    "# 5.11 While loop"
   ]
  },
  {
   "cell_type": "raw",
   "id": "7b851077",
   "metadata": {},
   "source": [
    "Pada perulangan While Loop, kondisi akan dieksekusi berkali-kali selama nilainya True dan akan berhenti ketika kondisi bernilai False atau sampai kondisi tidak terpenuhi. \n",
    "Perulangan while juga bersifat tidak terbatas, jadi perlu ketelitian dan kehati-hatian saat menggunakannya\n",
    "\n",
    "Penulisan Sintaks\n",
    "  while <kondisi>:\n",
    "    #blok kode yang akan diulang-ulang\n",
    "\n",
    "kondisi bisa berupa variabel boolean atau ekspresi logika"
   ]
  },
  {
   "cell_type": "raw",
   "id": "d5de84ab",
   "metadata": {},
   "source": [
    "Contoh 1\n",
    "Perulangan tanpa batas\n",
    "\n",
    "   while (1 + 3 == 4)\n",
    "      print('Belajar Algoritma Seru Banget!')\n",
    "\n",
    "Ketika kita memberi perintah untuk menulis \"Belajar Algoritma Seru Banget!\" selama kondisi 1+3 sama dengan 4 yang dimana kondisi tersebut akan terus menghasilkan kondisi Ture, maka iterasi tak terbatas"
   ]
  },
  {
   "cell_type": "code",
   "execution_count": 14,
   "id": "ab6ad4a0",
   "metadata": {
    "scrolled": false
   },
   "outputs": [
    {
     "name": "stdout",
     "output_type": "stream",
     "text": [
      "Angka 0 masih dibawah 5\n",
      "Angka 1 masih dibawah 5\n",
      "Angka 2 masih dibawah 5\n",
      "Angka 3 masih dibawah 5\n",
      "Angka 4 masih dibawah 5\n",
      "\n",
      "\n",
      "Angka  0  masih dibawah 5\n",
      "Angka  1  masih dibawah 5\n",
      "Angka  2  masih dibawah 5\n",
      "Angka  3  masih dibawah 5\n",
      "Angka  4  masih dibawah 5\n"
     ]
    }
   ],
   "source": [
    "#Contoh 2\n",
    "a = 0\n",
    "while a < 5:\n",
    "    print(\"Angka \" + str(a) + \" masih dibawah 5\")\n",
    "    a += 1\n",
    "print(\"\\n\")\n",
    "\n",
    "a = 0\n",
    "while a < 5:\n",
    "    print(\"Angka \", a, \" masih dibawah 5\")\n",
    "    a += 1\n",
    "\n",
    "# Pada kode program di atas, kita mengintruksikan untuk melakukan perulangan selama variabel a kurang dari 5. \n",
    "# Setiap kali iterasi, sistem akan menampilkan nilai dari a. \n",
    "# Terakhir, sesuai dengan kode yang diulang, pada setiap iterasi, sistem akan menambahkan nilai a dengan angka 1.\n",
    "\n",
    "#Selain menggunakan '+str(p)' untuk memunculkan output kondisi, kita juga bisa menggunakan ',p'\n",
    "#saat menggunakan tanda koma, kita juga tidak perlu spasi pada kata yang ingin dimunculkan agar terlihat rapi\n",
    "#Kita bisa lihat perbedaannya pada output yang dihasilkan di bawah"
   ]
  },
  {
   "cell_type": "code",
   "execution_count": 17,
   "id": "c57b38e3",
   "metadata": {
    "scrolled": true
   },
   "outputs": [
    {
     "name": "stdout",
     "output_type": "stream",
     "text": [
      "1\n",
      "3\n",
      "5\n",
      "7\n",
      "9\n",
      "11\n",
      "13\n",
      "15\n",
      "17\n",
      "19\n",
      "21\n",
      "23\n",
      "25\n",
      "27\n"
     ]
    }
   ],
   "source": [
    "#Modifikasi Contoh 2\n",
    "a = 1\n",
    "while a <= 27:\n",
    "    print(a)\n",
    "    a += 2\n",
    "    \n",
    "# Pada kode program di atas, saya mengintruksikan untuk menampilan angka ganjil dari 1 sampai 27\n",
    "# untuk mencari angka ganjil saat suku pertama 1, maka setiap iterasi a ditambahkan dengan angka 2"
   ]
  },
  {
   "cell_type": "code",
   "execution_count": 12,
   "id": "458a715e",
   "metadata": {},
   "outputs": [
    {
     "name": "stdout",
     "output_type": "stream",
     "text": [
      "Mari menghitung bersama : 0\n",
      "Mari menghitung bersama : 1\n",
      "Mari menghitung bersama : 2\n",
      "Mari menghitung bersama : 3\n",
      "Mari menghitung bersama : 4\n",
      "Mari menghitung bersama : 5\n",
      "Mari menghitung bersama : 6\n",
      "Sampai Jumpa Lagi!\n"
     ]
    }
   ],
   "source": [
    "#Contoh 3\n",
    "p = 0\n",
    "while (p < 7):\n",
    "    print('Mari menghitung bersama :', p)\n",
    "    p += 1\n",
    "print (\"Sampai Jumpa Lagi!\")\n",
    "\n",
    "#Selain menggunakan '+str(p)' untuk memunculkan output kondisi, kita juga bisa menggunakan ',p'\n",
    "#Setelah kondisi bernilai False, maka output yang dihasilkan yaitu \"Sampai Jumpa Lagi!\" dan perulangan selesai."
   ]
  },
  {
   "cell_type": "code",
   "execution_count": 36,
   "id": "d1be2d98",
   "metadata": {
    "scrolled": false
   },
   "outputs": [
    {
     "name": "stdout",
     "output_type": "stream",
     "text": [
      "\n",
      "*\n",
      "**\n",
      "***\n",
      "****\n"
     ]
    }
   ],
   "source": [
    "#Contoh 4 membuat segitiga bintang siku-siku\n",
    "a = 0\n",
    "while a < 5:\n",
    "    print(a * '*')\n",
    "    a += 1\n",
    "#Pada contoh 4 di atas, karena kita akan membuat bintang dengan jumlah 1 untuk baris pertama, maka a dimulai dari 0\n",
    "#Selanjutnya tinggi segitiga yang kita inginkan adalah 4, maka kita gunakan a<5\n",
    "# a+=1 berarti perulangan akan ditambah 1 terus sampai kondisi bernilai False"
   ]
  },
  {
   "cell_type": "code",
   "execution_count": 37,
   "id": "2ea07bc1",
   "metadata": {
    "scrolled": true
   },
   "outputs": [
    {
     "name": "stdout",
     "output_type": "stream",
     "text": [
      "Ulang lagi tidak? Tidak\n",
      "Ulang lagi tidak? TIDAK\n",
      "Ulang lagi tidak? ya\n",
      "Ulang lagi tidak? tidak\n",
      "Total perulagan: 4\n"
     ]
    }
   ],
   "source": [
    "# Contoh 5\n",
    "jawab = 'ya'\n",
    "hitung = 0\n",
    "\n",
    "while(True):\n",
    "    hitung += 1\n",
    "    jawab = input(\"Ulang lagi tidak? \")\n",
    "    if jawab == 'tidak':\n",
    "        break\n",
    "\n",
    "print(\"Total perulagan: \" + str(hitung))\n",
    "\n",
    "# Case sensitif\n",
    "# Pada perulangan ini, jika kita menginput 'Tidak' ataupun 'TIDAK' maka iterasi akan terus berajalan\n",
    "# karena tidak sesuai dengan kondisi yang diberikan"
   ]
  },
  {
   "cell_type": "code",
   "execution_count": 50,
   "id": "a0e704ab",
   "metadata": {
    "scrolled": false
   },
   "outputs": [
    {
     "name": "stdout",
     "output_type": "stream",
     "text": [
      "Nasi Goreng\n",
      "Mie Goreng\n",
      "Kwetiauw\n",
      "Capcay\n",
      "Fuyung Hai\n",
      "Bihun Goreng\n",
      "\n",
      "\n",
      "Nasi Goreng\n",
      "Kwetiauw\n",
      "Fuyung Hai\n",
      "\n",
      "\n",
      "Nasi Goreng\n",
      "Mie Goreng\n",
      "Kwetiauw\n",
      "Capcay\n",
      "Fuyung Hai\n",
      "Bihun Goreng\n"
     ]
    }
   ],
   "source": [
    "# Contoh While untuk List\n",
    "\n",
    "listMenu = ['Nasi Goreng', 'Mie Goreng', 'Kwetiauw', 'Capcay', 'Fuyung Hai', 'Bihun Goreng']\n",
    "\n",
    "p = 0\n",
    "while p < len(listMenu):\n",
    "    print(listMenu[p])\n",
    "    p += 1\n",
    "    \n",
    "# Output yang dihasilkan sama\n",
    "# Ketika kondisi variabel p masih kurang dari 'len' / panjang list, \n",
    "# maka kondisi yang dijalankan yaitu menambahkan  p yang dimulai dari 0 dengan 1\n",
    "print(\"\\n\")\n",
    "\n",
    "# Kondisi lain\n",
    "p = 0\n",
    "while p < len(listMenu):\n",
    "    print(listMenu[p])\n",
    "    p += 2\n",
    "    \n",
    "# Ketika kondisi variabel p masih kurang dari 'len' / panjang list, \n",
    "# maka kondisi yang dijalankan yaitu menambahkan  p yang dimulai dari 0 dengan 2\n",
    "print(\"\\n\")\n",
    "\n",
    "# Fungsi lain yang bisa digunakan yaitu list.pop()\n",
    "while listMenu:\n",
    "    print(listMenu.pop(0))"
   ]
  },
  {
   "cell_type": "code",
   "execution_count": 63,
   "id": "856e3b65",
   "metadata": {
    "scrolled": false
   },
   "outputs": [
    {
     "name": "stdout",
     "output_type": "stream",
     "text": [
      "Menghitung rataan bilangan mengunakan perulangan While\n",
      "-------------------------------------------------------\n",
      "Masukkan -1 untuk menyelesaikan proses masukan\n",
      "\n",
      "Masukkan Bilangan: 2\n",
      "Masukkan Bilangan: 3\n",
      "Masukkan Bilangan: -1\n",
      "Rataan 2 bilangan = 2.5\n"
     ]
    }
   ],
   "source": [
    "Sum, a, x = 0, 0, 0\n",
    "\n",
    "\n",
    "print(\"Menghitung rataan bilangan mengunakan perulangan While\")\n",
    "print(\"-------------------------------------------------------\")\n",
    "print(\"Masukkan -1 untuk menyelesaikan proses masukan\\n\")\n",
    "\n",
    "while x != -1:\n",
    "    a += 1\n",
    "    Sum += x\n",
    "    x = float(input(\"Masukkan Bilangan: \"))\n",
    "if a != 0:\n",
    "    rata = Sum/(a-1)\n",
    "    print('Rataan', (a-1), 'bilangan =', rata)\n",
    "else:\n",
    "    print(\"Nilai tidak terdeteksi!\")"
   ]
  },
  {
   "cell_type": "markdown",
   "id": "c7460128",
   "metadata": {},
   "source": [
    "# 5.12 List di Python"
   ]
  },
  {
   "cell_type": "code",
   "execution_count": 68,
   "id": "4875ad8d",
   "metadata": {},
   "outputs": [
    {
     "name": "stdout",
     "output_type": "stream",
     "text": [
      "['mangga', 'pisang', 'rambutan', 'durian']\n",
      "\n",
      "\n",
      "mangga\n",
      "rambutan\n",
      "\n",
      "\n",
      "durian\n",
      "rambutan\n",
      "\n",
      "\n"
     ]
    }
   ],
   "source": [
    "buah = ['mangga', 'pisang', 'rambutan', 'durian']\n",
    "print(buah)\n",
    "\n",
    "# Pada contoh di atas, kita menampilkan seluruh unsur pada list\n",
    "print('\\n')\n",
    "\n",
    "print(buah[0])\n",
    "print(buah[2])\n",
    "\n",
    "# Pada contoh ini, kita menampilkan unsur sesuai indeks yang kita inginkan, demgan indeks pada list selalu dimulai dari 0\n",
    "print('\\n')\n",
    "\n",
    "print(buah[-1])\n",
    "print(buah[-2])\n",
    "\n",
    "# Kalo berindeks minus, maka unsur akan berjalan dari belakang\n",
    "print('\\n')"
   ]
  },
  {
   "cell_type": "code",
   "execution_count": 7,
   "id": "03b3a1f6",
   "metadata": {},
   "outputs": [
    {
     "name": "stdout",
     "output_type": "stream",
     "text": [
      "['salak', 'pisang', 'rambutan', 'durian']\n"
     ]
    }
   ],
   "source": [
    "buah[0] = 'salak'\n",
    "print(buah)\n",
    "\n",
    "### mengganti/merubah list buah dengan anggota baru ###"
   ]
  },
  {
   "cell_type": "code",
   "execution_count": 8,
   "id": "ed10f8ac",
   "metadata": {},
   "outputs": [
    {
     "name": "stdout",
     "output_type": "stream",
     "text": [
      "['salak', 'pisang', 'rambutan']\n"
     ]
    }
   ],
   "source": [
    "print(buah[0:3])\n",
    "\n",
    "### menampilkan indeks 0 sampai 3 ###"
   ]
  },
  {
   "cell_type": "code",
   "execution_count": 9,
   "id": "6775a052",
   "metadata": {
    "scrolled": false
   },
   "outputs": [
    {
     "name": "stdout",
     "output_type": "stream",
     "text": [
      "['salak', 'pisang', 'rambutan', 'durian']\n"
     ]
    }
   ],
   "source": [
    "## tidak merubah list ##\n",
    "print(buah)"
   ]
  },
  {
   "cell_type": "markdown",
   "id": "fac2311f",
   "metadata": {},
   "source": [
    "# 5.13 Metoda List"
   ]
  },
  {
   "cell_type": "code",
   "execution_count": 27,
   "id": "83040834",
   "metadata": {
    "scrolled": true
   },
   "outputs": [
    {
     "name": "stdout",
     "output_type": "stream",
     "text": [
      "['Made', 'Eka', 'Dwi', 'Sari']\n"
     ]
    }
   ],
   "source": [
    "nama = ['Made', 'Eka', 'Dwi']\n",
    "nama.append('Sari')\n",
    "print(nama)\n",
    "\n",
    "### append digunakan untuk menambah anggota baru pada list ###"
   ]
  },
  {
   "cell_type": "code",
   "execution_count": 32,
   "id": "57d05abb",
   "metadata": {
    "scrolled": true
   },
   "outputs": [
    {
     "name": "stdout",
     "output_type": "stream",
     "text": [
      "['Dewi', 'Made', 'Eka', 'Dwi', 'Sari']\n"
     ]
    }
   ],
   "source": [
    "nama.insert(0,'Dewi')\n",
    "print(nama)\n",
    "\n",
    "### insert digunakan untuk menambahkan anggota baru pada list ###\n",
    "### kita bisa mengatur posisi anggota baru tersebut, seperti contoh 0 (diletakkan pada indeks 0) ###"
   ]
  },
  {
   "cell_type": "code",
   "execution_count": 38,
   "id": "e490367f",
   "metadata": {
    "scrolled": true
   },
   "outputs": [
    {
     "name": "stdout",
     "output_type": "stream",
     "text": [
      "['Dewi', 'Made', 'Dwi', 'Sari']\n"
     ]
    }
   ],
   "source": [
    "nama.remove('Eka')\n",
    "print(nama)\n",
    "\n",
    "### remove digunakan untuk menghapus anggota yang dimaksud pada list ###"
   ]
  },
  {
   "cell_type": "code",
   "execution_count": 39,
   "id": "1edf0b42",
   "metadata": {},
   "outputs": [],
   "source": [
    "###              CATATAN                   ###\n",
    "# hati-hati saat run insert, karena akan terus menambah anggota pada list #\n",
    "# sebaiknya, jika ingin run ulang, remove terlebih dahulu kata yang dimaksud #"
   ]
  },
  {
   "cell_type": "code",
   "execution_count": 34,
   "id": "9152311d",
   "metadata": {},
   "outputs": [
    {
     "name": "stdout",
     "output_type": "stream",
     "text": [
      "False\n"
     ]
    }
   ],
   "source": [
    "print('Eka' in nama)"
   ]
  },
  {
   "cell_type": "code",
   "execution_count": 35,
   "id": "800fc19a",
   "metadata": {},
   "outputs": [
    {
     "name": "stdout",
     "output_type": "stream",
     "text": [
      "True\n"
     ]
    }
   ],
   "source": [
    "print('Dewi' in nama)"
   ]
  },
  {
   "cell_type": "code",
   "execution_count": null,
   "id": "9c08797f",
   "metadata": {},
   "outputs": [],
   "source": [
    "print(len(nama))"
   ]
  },
  {
   "cell_type": "markdown",
   "id": "1f3c836b",
   "metadata": {},
   "source": [
    "# 5.14 For Loop"
   ]
  },
  {
   "cell_type": "markdown",
   "id": "4d8bca9e",
   "metadata": {},
   "source": [
    "For loop dapat digunakan untuk memanggil semua isi list."
   ]
  },
  {
   "cell_type": "code",
   "execution_count": 40,
   "id": "63e6e57a",
   "metadata": {},
   "outputs": [
    {
     "name": "stdout",
     "output_type": "stream",
     "text": [
      "manggis\n",
      "durian\n",
      "salak\n",
      "jeruk\n"
     ]
    }
   ],
   "source": [
    "buah = ['manggis', 'durian', 'salak', 'jeruk']\n",
    "for jenis in buah:\n",
    "    print(jenis)"
   ]
  },
  {
   "cell_type": "code",
   "execution_count": 44,
   "id": "8166887b",
   "metadata": {},
   "outputs": [
    {
     "name": "stdout",
     "output_type": "stream",
     "text": [
      "manggis\n",
      "durian\n",
      "salak\n",
      "jeruk\n"
     ]
    }
   ],
   "source": [
    "i = 0\n",
    "while i < len(buah):\n",
    "    print(buah[i])\n",
    "    i += 1"
   ]
  },
  {
   "cell_type": "code",
   "execution_count": 54,
   "id": "aac1d4d8",
   "metadata": {},
   "outputs": [],
   "source": [
    "### hasil untuk for dan while sama ###"
   ]
  },
  {
   "cell_type": "code",
   "execution_count": 45,
   "id": "78bf5890",
   "metadata": {},
   "outputs": [
    {
     "name": "stdout",
     "output_type": "stream",
     "text": [
      "manggis\n",
      "salak\n"
     ]
    }
   ],
   "source": [
    "i = 0\n",
    "while i < len(buah):\n",
    "    print(buah[i])\n",
    "    i += 2"
   ]
  },
  {
   "cell_type": "markdown",
   "id": "f65bd9a4",
   "metadata": {},
   "source": [
    "# 5.15 Fungsi Range"
   ]
  },
  {
   "cell_type": "code",
   "execution_count": 46,
   "id": "bfdd01f2",
   "metadata": {},
   "outputs": [
    {
     "name": "stdout",
     "output_type": "stream",
     "text": [
      "range(0, 6)\n"
     ]
    }
   ],
   "source": [
    "angka = range(6)\n",
    "print(angka)"
   ]
  },
  {
   "cell_type": "code",
   "execution_count": 47,
   "id": "8b753e34",
   "metadata": {
    "scrolled": true
   },
   "outputs": [
    {
     "name": "stdout",
     "output_type": "stream",
     "text": [
      "0\n",
      "1\n",
      "2\n",
      "3\n",
      "4\n",
      "5\n"
     ]
    }
   ],
   "source": [
    "for isi in angka:\n",
    "    print(isi)"
   ]
  },
  {
   "cell_type": "code",
   "execution_count": 52,
   "id": "7ccfe956",
   "metadata": {},
   "outputs": [
    {
     "name": "stdout",
     "output_type": "stream",
     "text": [
      "5\n",
      "6\n",
      "7\n",
      "8\n",
      "9\n"
     ]
    }
   ],
   "source": [
    "for isi in range(5,10):\n",
    "    print(isi)\n",
    "    \n",
    "### menampilkan bilangan berurutan dari 5 sampai kurang dari 10 ###"
   ]
  },
  {
   "cell_type": "code",
   "execution_count": 51,
   "id": "663ee648",
   "metadata": {},
   "outputs": [
    {
     "name": "stdout",
     "output_type": "stream",
     "text": [
      "0\n",
      "2\n",
      "4\n",
      "6\n",
      "8\n"
     ]
    }
   ],
   "source": [
    "for isi in range(0,10,2):\n",
    "    print(isi)\n",
    "    \n",
    "### menampilkan bilangan berurutan dari 0 sampai kurang dari 10 dengan loncatan 2 ###"
   ]
  },
  {
   "cell_type": "markdown",
   "id": "e7ad820f",
   "metadata": {},
   "source": [
    "### Latihan "
   ]
  },
  {
   "cell_type": "raw",
   "id": "144d857a",
   "metadata": {},
   "source": [
    "1. Buatlah program untuk mencari nilai terbesar di dalam suatu list.\n",
    "   Jawaban:\n",
    "   Coba bandingkan 2 buah jawaban berikut:"
   ]
  },
  {
   "cell_type": "code",
   "execution_count": 53,
   "id": "f7d775f5",
   "metadata": {},
   "outputs": [
    {
     "name": "stdout",
     "output_type": "stream",
     "text": [
      "5\n"
     ]
    }
   ],
   "source": [
    "data = [1,2,3,4,5,4,3,2,1]\n",
    "terbesar = data[0]\n",
    "for i in range(len(data)):\n",
    "    if data[i] > terbesar:\n",
    "        terbesar = data[i]\n",
    "print(terbesar)"
   ]
  },
  {
   "cell_type": "code",
   "execution_count": 55,
   "id": "a11574a0",
   "metadata": {
    "scrolled": false
   },
   "outputs": [
    {
     "name": "stdout",
     "output_type": "stream",
     "text": [
      "5\n"
     ]
    }
   ],
   "source": [
    "data = [1,2,3,4,5,4,3,2,1]\n",
    "terbesar = data[0]\n",
    "for angka in data:\n",
    "    if angka > terbesar:\n",
    "        terbesar = angka\n",
    "print(terbesar)"
   ]
  },
  {
   "cell_type": "raw",
   "id": "a5255ed9",
   "metadata": {},
   "source": [
    "2. Buatlah program untuk membuat anggota list menjadi unik dengan kata\n",
    "   lain tidak ada anggota list yang kembar.\n",
    "   Jawaban:\n",
    "   Cara nya adalah dengan membandingkan setiap anggota list. Jika ternyata\n",
    "   ada anggota list yang kembar, anggota tersebut langsung dihapus dari\n",
    "   dalam list. Untuk lebih jelasnya dapat menjalankan program pada"
   ]
  },
  {
   "cell_type": "code",
   "execution_count": 59,
   "id": "3cdfa384",
   "metadata": {},
   "outputs": [
    {
     "name": "stdout",
     "output_type": "stream",
     "text": [
      "[1, 2, 3, 4, 5, 6, 7, 8]\n"
     ]
    }
   ],
   "source": [
    "angka = [1,2,3,4,5,6,3,4,5,7,8,7]\n",
    "angka_unik = []\n",
    "for anggota in angka:\n",
    "    if anggota not in angka_unik:\n",
    "        angka_unik.append(anggota)\n",
    "print(angka_unik)"
   ]
  }
 ],
 "metadata": {
  "kernelspec": {
   "display_name": "Python 3 (ipykernel)",
   "language": "python",
   "name": "python3"
  },
  "language_info": {
   "codemirror_mode": {
    "name": "ipython",
    "version": 3
   },
   "file_extension": ".py",
   "mimetype": "text/x-python",
   "name": "python",
   "nbconvert_exporter": "python",
   "pygments_lexer": "ipython3",
   "version": "3.9.13"
  }
 },
 "nbformat": 4,
 "nbformat_minor": 5
}
