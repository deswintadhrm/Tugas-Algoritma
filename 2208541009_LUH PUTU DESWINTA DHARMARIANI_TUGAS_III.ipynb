{
 "cells": [
  {
   "cell_type": "markdown",
   "id": "ea5845f2",
   "metadata": {},
   "source": [
    "# Pertemuan Ketiga 20 Maret 2023"
   ]
  },
  {
   "cell_type": "markdown",
   "id": "75ac94c3",
   "metadata": {},
   "source": [
    "pada pertemuan minggu ketiga kami belajar mengenai strings index (5.1) sampai dengan operator if (5.10) dalam python"
   ]
  },
  {
   "cell_type": "markdown",
   "id": "86d850e2",
   "metadata": {},
   "source": [
    "## 5.5 Strings Index"
   ]
  },
  {
   "cell_type": "code",
   "execution_count": 4,
   "id": "204fbb4e",
   "metadata": {},
   "outputs": [
    {
     "name": "stdout",
     "output_type": "stream",
     "text": [
      "Faculty[0]:  F\n"
     ]
    }
   ],
   "source": [
    "fac = 'Faculty of Mathematics and Natural Science Udayana University'\n",
    "print(\"Faculty[0]: \", fac[0])"
   ]
  },
  {
   "cell_type": "code",
   "execution_count": null,
   "id": "0ffd8fd5",
   "metadata": {},
   "outputs": [],
   "source": []
  },
  {
   "cell_type": "code",
   "execution_count": 2,
   "id": "d8292b9f",
   "metadata": {},
   "outputs": [],
   "source": [
    "mystring = 'Python Easy'"
   ]
  },
  {
   "cell_type": "code",
   "execution_count": 27,
   "id": "d2bfd9a7",
   "metadata": {},
   "outputs": [
    {
     "name": "stdout",
     "output_type": "stream",
     "text": [
      "yth\n"
     ]
    }
   ],
   "source": [
    "print(mystring[1:4])"
   ]
  },
  {
   "cell_type": "code",
   "execution_count": 28,
   "id": "ae6ac675",
   "metadata": {},
   "outputs": [
    {
     "name": "stdout",
     "output_type": "stream",
     "text": [
      "h\n"
     ]
    }
   ],
   "source": [
    "print(mystring[3:4])"
   ]
  },
  {
   "cell_type": "code",
   "execution_count": 29,
   "id": "d032c035",
   "metadata": {},
   "outputs": [
    {
     "name": "stdout",
     "output_type": "stream",
     "text": [
      "tho\n"
     ]
    }
   ],
   "source": [
    "print(mystring[2:-6])"
   ]
  },
  {
   "cell_type": "code",
   "execution_count": 35,
   "id": "4b12c5c8",
   "metadata": {},
   "outputs": [
    {
     "name": "stdout",
     "output_type": "stream",
     "text": [
      "tn\n"
     ]
    }
   ],
   "source": [
    "print(mystring[2:-3:3])"
   ]
  },
  {
   "cell_type": "code",
   "execution_count": 36,
   "id": "799ccdee",
   "metadata": {},
   "outputs": [
    {
     "name": "stdout",
     "output_type": "stream",
     "text": [
      "tna\n"
     ]
    }
   ],
   "source": [
    "print(mystring[2:-2:3])"
   ]
  },
  {
   "cell_type": "code",
   "execution_count": 3,
   "id": "daca685a",
   "metadata": {
    "scrolled": true
   },
   "outputs": [
    {
     "name": "stdout",
     "output_type": "stream",
     "text": [
      "\n"
     ]
    }
   ],
   "source": [
    "print(mystring[2:-2:-1])"
   ]
  },
  {
   "cell_type": "raw",
   "id": "dd0e6f37",
   "metadata": {},
   "source": [
    "###### UNTUK MEMPERMUDAH PEMAHAMAN #####\n",
    "CONTOH\n",
    "mystring = 'Python Easy'\n",
    "print(mystring[2:-3:3])\n",
    "P    y   t  h  o  n     E  a  s  y\n",
    "0    1   2  3  4  5  6  7  8  9  10\n",
    "-11 -10 -9 -8 -7 -6 -5 -4 -3 -2  -1\n",
    "\n",
    "#output : tn\n",
    "\n",
    "slicing string [2:-3:3] diatas bisa juga diartikan membuat string dari indeks 2 dari depan sampai indeks -5 dari belakang dan \"loncat\" 3 (dari indeks 2 sampai indeks -5)"
   ]
  },
  {
   "cell_type": "code",
   "execution_count": null,
   "id": "7d1656bf",
   "metadata": {},
   "outputs": [],
   "source": []
  },
  {
   "cell_type": "markdown",
   "id": "2e05fa33",
   "metadata": {},
   "source": [
    "## 5.6 Strings Methods"
   ]
  },
  {
   "cell_type": "code",
   "execution_count": 2,
   "id": "539bc6aa",
   "metadata": {},
   "outputs": [
    {
     "name": "stdout",
     "output_type": "stream",
     "text": [
      "21\n"
     ]
    }
   ],
   "source": [
    "judul = \"Pluto is not a planet\"\n",
    "print(len(judul))"
   ]
  },
  {
   "cell_type": "raw",
   "id": "647eee90",
   "metadata": {},
   "source": [
    "##### NOTES #####\n",
    "len digunakan untuk menghitung jumlah kata dan spasi"
   ]
  },
  {
   "cell_type": "code",
   "execution_count": 40,
   "id": "ee5cf580",
   "metadata": {},
   "outputs": [
    {
     "data": {
      "text/plain": [
       "'PLUTO IS NOT A PLANET'"
      ]
     },
     "execution_count": 40,
     "metadata": {},
     "output_type": "execute_result"
    }
   ],
   "source": [
    "judul.upper()"
   ]
  },
  {
   "cell_type": "raw",
   "id": "c685600a",
   "metadata": {},
   "source": [
    "##### NOTES #####\n",
    "upper untuk uppercase/membuat tulisan menjadi kapital"
   ]
  },
  {
   "cell_type": "code",
   "execution_count": 41,
   "id": "42e2ebea",
   "metadata": {},
   "outputs": [
    {
     "data": {
      "text/plain": [
       "'pluto is not a planet'"
      ]
     },
     "execution_count": 41,
     "metadata": {},
     "output_type": "execute_result"
    }
   ],
   "source": [
    "judul.lower()"
   ]
  },
  {
   "cell_type": "raw",
   "id": "e1c0e3e2",
   "metadata": {},
   "source": [
    "##### NOTES #####\n",
    "lower untuk lowercase/membuat tulisan menjadi huruf kecil"
   ]
  },
  {
   "cell_type": "code",
   "execution_count": 42,
   "id": "8422be4d",
   "metadata": {},
   "outputs": [
    {
     "data": {
      "text/plain": [
       "15"
      ]
     },
     "execution_count": 42,
     "metadata": {},
     "output_type": "execute_result"
    }
   ],
   "source": [
    "judul.find('planet')"
   ]
  },
  {
   "cell_type": "code",
   "execution_count": 50,
   "id": "bcd312a6",
   "metadata": {},
   "outputs": [
    {
     "data": {
      "text/plain": [
       "6"
      ]
     },
     "execution_count": 50,
     "metadata": {},
     "output_type": "execute_result"
    }
   ],
   "source": [
    "judul.find('is')"
   ]
  },
  {
   "cell_type": "raw",
   "id": "ba9bb90a",
   "metadata": {},
   "source": [
    "##### NOTES #####\n",
    "find untuk memunculkan letak indeks string yang diminta"
   ]
  },
  {
   "cell_type": "code",
   "execution_count": 51,
   "id": "9bacafb7",
   "metadata": {},
   "outputs": [
    {
     "data": {
      "text/plain": [
       "-1"
      ]
     },
     "execution_count": 51,
     "metadata": {},
     "output_type": "execute_result"
    }
   ],
   "source": [
    "judul.find('IS')"
   ]
  },
  {
   "cell_type": "code",
   "execution_count": 52,
   "id": "ebae2294",
   "metadata": {},
   "outputs": [
    {
     "data": {
      "text/plain": [
       "-1"
      ]
     },
     "execution_count": 52,
     "metadata": {},
     "output_type": "execute_result"
    }
   ],
   "source": [
    "judul.find('PLuto')"
   ]
  },
  {
   "cell_type": "code",
   "execution_count": 53,
   "id": "436521c1",
   "metadata": {},
   "outputs": [
    {
     "data": {
      "text/plain": [
       "-1"
      ]
     },
     "execution_count": 53,
     "metadata": {},
     "output_type": "execute_result"
    }
   ],
   "source": [
    "judul.find('PLUP')"
   ]
  },
  {
   "cell_type": "raw",
   "id": "9361f80c",
   "metadata": {},
   "source": [
    "##### NOTES #####\n",
    "python memiliki case sensitif,\n",
    "ketika kata yang dicari tidak sesuai dengan data yang ada, \n",
    "maka akan menghasilkan -1"
   ]
  },
  {
   "cell_type": "code",
   "execution_count": 54,
   "id": "24581624",
   "metadata": {},
   "outputs": [
    {
     "data": {
      "text/plain": [
       "'Venus is not a planet'"
      ]
     },
     "execution_count": 54,
     "metadata": {},
     "output_type": "execute_result"
    }
   ],
   "source": [
    "judul.replace('Pluto', 'Venus')"
   ]
  },
  {
   "cell_type": "code",
   "execution_count": 55,
   "id": "042b98d3",
   "metadata": {},
   "outputs": [
    {
     "data": {
      "text/plain": [
       "'Pluto is not a planet'"
      ]
     },
     "execution_count": 55,
     "metadata": {},
     "output_type": "execute_result"
    }
   ],
   "source": [
    "judul.replace('pluto', 'Venus')"
   ]
  },
  {
   "cell_type": "raw",
   "id": "42c04523",
   "metadata": {},
   "source": [
    "##### NOTES #####\n",
    "python memiliki case sensitif,\n",
    "ketika kata yang dimasukkan tidak sesuai dengan data yang ada\n",
    "termasuk perbedaan kapitalisasi\n",
    "maka, apapun inputnya tidak berjalan."
   ]
  },
  {
   "cell_type": "code",
   "execution_count": 57,
   "id": "48283cfd",
   "metadata": {},
   "outputs": [
    {
     "name": "stdout",
     "output_type": "stream",
     "text": [
      "True\n"
     ]
    }
   ],
   "source": [
    "print('planet' in judul)"
   ]
  },
  {
   "cell_type": "code",
   "execution_count": 58,
   "id": "fd169004",
   "metadata": {
    "scrolled": true
   },
   "outputs": [
    {
     "name": "stdout",
     "output_type": "stream",
     "text": [
      "False\n"
     ]
    }
   ],
   "source": [
    "print('Planet' in judul)"
   ]
  },
  {
   "cell_type": "code",
   "execution_count": 3,
   "id": "ae7aa331",
   "metadata": {
    "scrolled": true
   },
   "outputs": [
    {
     "name": "stdout",
     "output_type": "stream",
     "text": [
      "True\n"
     ]
    }
   ],
   "source": [
    "print('Pluto' in judul)"
   ]
  },
  {
   "cell_type": "code",
   "execution_count": 4,
   "id": "ab9bf8d0",
   "metadata": {},
   "outputs": [
    {
     "name": "stdout",
     "output_type": "stream",
     "text": [
      "False\n"
     ]
    }
   ],
   "source": [
    "print('Not' in judul)"
   ]
  },
  {
   "cell_type": "code",
   "execution_count": 5,
   "id": "f85fe9ec",
   "metadata": {},
   "outputs": [
    {
     "name": "stdout",
     "output_type": "stream",
     "text": [
      "True\n"
     ]
    }
   ],
   "source": [
    "print('is' in judul)"
   ]
  },
  {
   "cell_type": "markdown",
   "id": "f3dbc359",
   "metadata": {},
   "source": [
    "## 5.7 Operasi Matematika di Python"
   ]
  },
  {
   "cell_type": "markdown",
   "id": "3d1d6155",
   "metadata": {},
   "source": [
    "berikut adalah operasi matematika pada python"
   ]
  },
  {
   "cell_type": "code",
   "execution_count": 6,
   "id": "95cae9db",
   "metadata": {},
   "outputs": [
    {
     "name": "stdout",
     "output_type": "stream",
     "text": [
      "Masukkan nilai a:3\n",
      "Masukkan nilai b:6\n"
     ]
    }
   ],
   "source": [
    "a = input(\"Masukkan nilai a:\")\n",
    "b = input(\"Masukkan nilai b:\")"
   ]
  },
  {
   "cell_type": "code",
   "execution_count": 7,
   "id": "e05171c5",
   "metadata": {},
   "outputs": [
    {
     "name": "stdout",
     "output_type": "stream",
     "text": [
      "9.0\n",
      "-3.0\n",
      "18.0\n",
      "0.5\n",
      "0.0\n",
      "3.0\n",
      "729.0\n"
     ]
    }
   ],
   "source": [
    "# Operator penjumlahan\n",
    "print(float(a) + float(b))\n",
    "\n",
    "# Operator pengurangan\n",
    "print(float(a) - float(b))\n",
    "\n",
    "# Operator perkalian\n",
    "print(float(a) * float(b))\n",
    "\n",
    "# Operator pembagian\n",
    "print(float(a) / float(b))\n",
    "\n",
    "# Operator pembulatan pembagian\n",
    "print(float(a) // float(b))\n",
    "\n",
    "# Operator sisa bagi/modulo\n",
    "print(float(a) % float(b))\n",
    "\n",
    "# Operator pangkat\n",
    "print(float(a) ** float(b))"
   ]
  },
  {
   "cell_type": "code",
   "execution_count": 98,
   "id": "031f29a2",
   "metadata": {
    "scrolled": false
   },
   "outputs": [
    {
     "name": "stdout",
     "output_type": "stream",
     "text": [
      "9\n",
      "-1\n",
      "10\n"
     ]
    }
   ],
   "source": [
    "#Augmented operator\n",
    "x = 3\n",
    "y = 2\n",
    "z = 5\n",
    "x+=6\n",
    "y-=3\n",
    "z*=2\n",
    "print(x)\n",
    "print(y)\n",
    "print(z)"
   ]
  },
  {
   "cell_type": "markdown",
   "id": "b88f4e5b",
   "metadata": {},
   "source": [
    "Selanjutnya saya berlatih untuk menerapkan beberapa formula diatas pada operasi hitung luas dan volume untuk bidang datar dan ruang. Beberapa lalu terjadi error karena saya salah saat menginisialisasikan, error juga sempat terjadi karena algoritma yg disusun kurang sesuai. Berikut adalah hasil trial and error yang saya lakukan."
   ]
  },
  {
   "cell_type": "code",
   "execution_count": 36,
   "id": "85172b14",
   "metadata": {},
   "outputs": [
    {
     "name": "stdout",
     "output_type": "stream",
     "text": [
      "Input the side  : 2\n",
      "The Area of a Square is 4.0\n"
     ]
    }
   ],
   "source": [
    "# Formula for the Area of a Square #\n",
    "\n",
    "s = float(input(\"Input the side  : \"))\n",
    "\n",
    "area = s**2\n",
    "\n",
    "print(\"The Area of a Square is \" + str(area))"
   ]
  },
  {
   "cell_type": "code",
   "execution_count": 10,
   "id": "6092d149",
   "metadata": {
    "scrolled": false
   },
   "outputs": [
    {
     "name": "stdout",
     "output_type": "stream",
     "text": [
      "Input the base  : 13\n",
      "Input the height : 15\n",
      "The Area of a Triangle is 97.5\n"
     ]
    }
   ],
   "source": [
    "# Formula for the Area of a Triangle #\n",
    "\n",
    "b = float(input(\"Input the base  : \"))\n",
    "h = float(input(\"Input the height : \"))\n",
    "\n",
    "area = 0.5*b*h\n",
    "\n",
    "print(\"The Area of a Triangle is \" + str(area))"
   ]
  },
  {
   "cell_type": "code",
   "execution_count": 11,
   "id": "8ed08e73",
   "metadata": {
    "scrolled": true
   },
   "outputs": [
    {
     "name": "stdout",
     "output_type": "stream",
     "text": [
      "Input the lenght : 3\n",
      "Input the widht : 4\n",
      "The Area of a Rectangle is 12.0\n"
     ]
    }
   ],
   "source": [
    "# Formula for the Area of a Rectangle #\n",
    "\n",
    "l = float(input(\"Input the lenght : \"))\n",
    "w = float(input(\"Input the widht : \"))\n",
    "\n",
    "area = l*w\n",
    "\n",
    "print(\"The Area of a Rectangle is \" + str(area))"
   ]
  },
  {
   "cell_type": "code",
   "execution_count": 28,
   "id": "51ddb3ab",
   "metadata": {},
   "outputs": [
    {
     "name": "stdout",
     "output_type": "stream",
     "text": [
      "Input the radius of a circle : 10\n",
      "The Area of a Circle is 314.0\n"
     ]
    }
   ],
   "source": [
    "# Formula for the Area of a Circle #\n",
    "\n",
    "pi = 3.14\n",
    "r = float(input(\"Input the radius of a circle : \"))\n",
    "\n",
    "area = pi*(r**2)\n",
    "\n",
    "print(\"The Area of a Circle is \" + str(area))"
   ]
  },
  {
   "cell_type": "code",
   "execution_count": 37,
   "id": "009c17c0",
   "metadata": {
    "scrolled": true
   },
   "outputs": [
    {
     "name": "stdout",
     "output_type": "stream",
     "text": [
      "Input the base of triangle : 3\n",
      "Input the height of triangle : 4\n",
      "Input the height of triangular prism : 10\n",
      "The Volume of a Triangular Prism is 60.0\n"
     ]
    }
   ],
   "source": [
    "# Formula for the Volume of a Triangular Prism #\n",
    "\n",
    "b = float(input(\"Input the base of triangle : \"))\n",
    "hb = float(input(\"Input the height of triangle : \"))\n",
    "\n",
    "base_area = 0.5*b*hb\n",
    "\n",
    "h = float(input(\"Input the height of triangular prism : \"))\n",
    "volume = base_area*h\n",
    "\n",
    "print(\"The Volume of a Triangular Prism is \" + str(volume))"
   ]
  },
  {
   "cell_type": "code",
   "execution_count": 38,
   "id": "effa7835",
   "metadata": {
    "scrolled": true
   },
   "outputs": [
    {
     "name": "stdout",
     "output_type": "stream",
     "text": [
      "Input the lenght of rectangle : 3\n",
      "Input the widht rectangle : 4\n",
      "Input the height of rectangular tank : 5\n",
      "The Volume of a Rectangular Tank is 60.0\n"
     ]
    }
   ],
   "source": [
    "# Formula for the Volume of a Rectangular Tank #\n",
    "\n",
    "l = float(input(\"Input the lenght of rectangle : \"))\n",
    "w = float(input(\"Input the widht rectangle : \"))\n",
    "\n",
    "base_area = l*w\n",
    "\n",
    "h = float(input(\"Input the height of rectangular tank : \"))\n",
    "volume = base_area*h\n",
    "\n",
    "print(\"The Volume of a Rectangular Tank is \" + str(volume))"
   ]
  },
  {
   "cell_type": "code",
   "execution_count": 39,
   "id": "5f64f4e1",
   "metadata": {
    "scrolled": true
   },
   "outputs": [
    {
     "name": "stdout",
     "output_type": "stream",
     "text": [
      "Input the radius of a circle : 5\n",
      "Input the height of cylinder : 10\n",
      "The Volume of a Cylinder is 785.0\n"
     ]
    }
   ],
   "source": [
    "# Formula for the Volume of a Cylinder #\n",
    "\n",
    "pi = 3.14\n",
    "r = float(input(\"Input the radius of a circle : \"))\n",
    "\n",
    "base_area = pi*(r**2)\n",
    "\n",
    "h = float(input(\"Input the height of cylinder : \"))\n",
    "volume = base_area*h\n",
    "\n",
    "print(\"The Volume of a Cylinder is \" + str(volume))"
   ]
  },
  {
   "cell_type": "code",
   "execution_count": 40,
   "id": "1c67a747",
   "metadata": {},
   "outputs": [
    {
     "name": "stdout",
     "output_type": "stream",
     "text": [
      "Input the base of triangle : 5\n",
      "Input the height of triangle : 7\n",
      "Input the height of triangular pyramid : 9\n",
      "The Volume of a Triangular Pyramid is 52.5\n"
     ]
    }
   ],
   "source": [
    "# Formula for the Volume of a Triangular Pyramid #\n",
    "\n",
    "b = float(input(\"Input the base of triangle : \"))\n",
    "hb = float(input(\"Input the height of triangle : \"))\n",
    "\n",
    "base_area = 0.5*b*hb\n",
    "\n",
    "h = float(input(\"Input the height of triangular pyramid : \"))\n",
    "volume = (base_area*h)/3\n",
    "\n",
    "print(\"The Volume of a Triangular Pyramid is \" + str(volume))"
   ]
  },
  {
   "cell_type": "code",
   "execution_count": 41,
   "id": "0e0b0846",
   "metadata": {},
   "outputs": [
    {
     "name": "stdout",
     "output_type": "stream",
     "text": [
      "Input the lenght of rectangle : 5\n",
      "Input the widht rectangle : 7\n",
      "Input the height of rectangular piramyd : 8\n",
      "The Volume of a Rectangular Pyramid is 93.33333333333333\n"
     ]
    }
   ],
   "source": [
    "# Formula for the Volume of a Rectangular Pyramid #\n",
    "\n",
    "l = float(input(\"Input the lenght of rectangle : \"))\n",
    "w = float(input(\"Input the widht rectangle : \"))\n",
    "\n",
    "base_area = l*w\n",
    "\n",
    "h = float(input(\"Input the height of rectangular piramyd : \"))\n",
    "volume = (base_area*h)/3\n",
    "\n",
    "print(\"The Volume of a Rectangular Pyramid is \" + str(volume))"
   ]
  },
  {
   "cell_type": "code",
   "execution_count": 42,
   "id": "d9c1521d",
   "metadata": {},
   "outputs": [
    {
     "name": "stdout",
     "output_type": "stream",
     "text": [
      "Input the radius of a circle : 6\n",
      "Input the height of cylinder : 8\n",
      "The Volume of a Cone is 301.44\n"
     ]
    }
   ],
   "source": [
    "# Formula for the Volume of a Cone #\n",
    "\n",
    "pi = 3.14\n",
    "r = float(input(\"Input the radius of a circle : \"))\n",
    "\n",
    "base_area = pi*(r**2)\n",
    "\n",
    "h = float(input(\"Input the height of cylinder : \"))\n",
    "volume = (base_area*h)/3\n",
    "\n",
    "print(\"The Volume of a Cone is \" + str(volume))"
   ]
  },
  {
   "cell_type": "markdown",
   "id": "50c1e335",
   "metadata": {},
   "source": [
    "## 5.8 Operator Perbandingan di Python"
   ]
  },
  {
   "cell_type": "code",
   "execution_count": 26,
   "id": "f90eee19",
   "metadata": {},
   "outputs": [
    {
     "name": "stdout",
     "output_type": "stream",
     "text": [
      "False\n",
      "-1\n"
     ]
    }
   ],
   "source": [
    "x = 2>4\n",
    "print(x)\n",
    "print(~x)"
   ]
  },
  {
   "cell_type": "code",
   "execution_count": 117,
   "id": "6c55f4e2",
   "metadata": {},
   "outputs": [
    {
     "name": "stdout",
     "output_type": "stream",
     "text": [
      "True\n",
      "-2\n"
     ]
    }
   ],
   "source": [
    "x = 2<4\n",
    "print(x)\n",
    "print(~x)"
   ]
  },
  {
   "cell_type": "code",
   "execution_count": 115,
   "id": "b0e36552",
   "metadata": {},
   "outputs": [
    {
     "name": "stdout",
     "output_type": "stream",
     "text": [
      "False\n",
      "-1\n"
     ]
    }
   ],
   "source": [
    "x = 2>=4\n",
    "print(x)\n",
    "print(~x)"
   ]
  },
  {
   "cell_type": "code",
   "execution_count": 25,
   "id": "fb505022",
   "metadata": {},
   "outputs": [
    {
     "name": "stdout",
     "output_type": "stream",
     "text": [
      "True\n",
      "-2\n"
     ]
    }
   ],
   "source": [
    "x = 2<=4\n",
    "print(x)\n",
    "print(~x)"
   ]
  },
  {
   "cell_type": "code",
   "execution_count": 110,
   "id": "7ad00bb3",
   "metadata": {},
   "outputs": [
    {
     "name": "stdout",
     "output_type": "stream",
     "text": [
      "False\n",
      "-1\n"
     ]
    }
   ],
   "source": [
    "x = 2==4\n",
    "print(x)\n",
    "print(~x)"
   ]
  },
  {
   "cell_type": "code",
   "execution_count": 112,
   "id": "42ae2b1b",
   "metadata": {},
   "outputs": [
    {
     "name": "stdout",
     "output_type": "stream",
     "text": [
      "True\n",
      "-2\n"
     ]
    }
   ],
   "source": [
    "x = 2!=4\n",
    "print(x)\n",
    "print(~x)"
   ]
  },
  {
   "cell_type": "markdown",
   "id": "436cfa77",
   "metadata": {},
   "source": [
    "saya masih belum paham mengapa True = -2 dan False = -1 "
   ]
  },
  {
   "cell_type": "code",
   "execution_count": 23,
   "id": "175be4ac",
   "metadata": {
    "scrolled": true
   },
   "outputs": [
    {
     "name": "stdout",
     "output_type": "stream",
     "text": [
      "True\n",
      "-2\n",
      "False\n",
      "-1\n",
      "False\n",
      "True\n",
      "False\n",
      "True\n"
     ]
    }
   ],
   "source": [
    "p = a<b\n",
    "print (p)\n",
    "print (~p)\n",
    "p = a>b\n",
    "print (p)\n",
    "print (~p)\n",
    "p = a >= b\n",
    "print (p)\n",
    "p = a <= b\n",
    "print (p)\n",
    "p = a == b\n",
    "print (p)\n",
    "p = a != b\n",
    "print (p)"
   ]
  },
  {
   "cell_type": "raw",
   "id": "8b69e29e",
   "metadata": {},
   "source": [
    "Dari contoh diatas, terlihat bahwa tidak hanya angka yang bisa dibandingkan, huruf juga.\n",
    "Terlihat juga bahwa jika bernilai True sama artinya dengan (-2) dan bernilai False sama dengan (-1)"
   ]
  },
  {
   "cell_type": "markdown",
   "id": "89e4bcdc",
   "metadata": {},
   "source": [
    "## 5.9 Operator Logika di Python"
   ]
  },
  {
   "cell_type": "code",
   "execution_count": 122,
   "id": "54d583f5",
   "metadata": {},
   "outputs": [
    {
     "name": "stdout",
     "output_type": "stream",
     "text": [
      "False\n"
     ]
    }
   ],
   "source": [
    "starfruit = 7\n",
    "mango = 4\n",
    "print(starfruit > 8 and mango < 12)"
   ]
  },
  {
   "cell_type": "code",
   "execution_count": 123,
   "id": "2cacb916",
   "metadata": {},
   "outputs": [
    {
     "name": "stdout",
     "output_type": "stream",
     "text": [
      "True\n"
     ]
    }
   ],
   "source": [
    "print(starfruit > 8 or mango < 12)"
   ]
  },
  {
   "cell_type": "code",
   "execution_count": 125,
   "id": "d6117287",
   "metadata": {},
   "outputs": [
    {
     "name": "stdout",
     "output_type": "stream",
     "text": [
      "True\n"
     ]
    }
   ],
   "source": [
    "print(starfruit < 8 or mango > 12)"
   ]
  },
  {
   "cell_type": "code",
   "execution_count": 126,
   "id": "19e89d7c",
   "metadata": {
    "scrolled": true
   },
   "outputs": [
    {
     "name": "stdout",
     "output_type": "stream",
     "text": [
      "True\n"
     ]
    }
   ],
   "source": [
    "print(not(starfruit > 8 and mango < 12))"
   ]
  },
  {
   "cell_type": "code",
   "execution_count": 44,
   "id": "3cdc7a88",
   "metadata": {},
   "outputs": [
    {
     "name": "stdout",
     "output_type": "stream",
     "text": [
      "False\n",
      "True\n",
      "False\n",
      "True\n"
     ]
    }
   ],
   "source": [
    "bil_1 = 23\n",
    "bil_2 = 39\n",
    "print(bil_1 > 20 and bil_2 < 2)\n",
    "print(bil_1 > 20 or bil_2 < 2)\n",
    "print(bil_1 < 20 and bil_2 > 2)\n",
    "print(bil_1 < 20 or bil_2 > 2)"
   ]
  },
  {
   "cell_type": "markdown",
   "id": "d80a658e",
   "metadata": {},
   "source": [
    "## 5.10 Operator if di Python"
   ]
  },
  {
   "cell_type": "code",
   "execution_count": 45,
   "id": "3eb07ed0",
   "metadata": {},
   "outputs": [
    {
     "name": "stdout",
     "output_type": "stream",
     "text": [
      "Input your grade 89\n",
      "You got an A grade\n",
      "Amazing, congratulation!\n"
     ]
    }
   ],
   "source": [
    "grade = float(input(\"Input your grade \"))\n",
    "if grade >= 80:\n",
    "    print(\"You got an A grade\")\n",
    "    print(\"Amazing, congratulation!\")\n",
    "if grade < 80 and grade >= 70:\n",
    "    print(\"You got a B grade\")\n",
    "    print(\"Keep it up!\")\n",
    "if grade < 70 and grade >= 60:\n",
    "    print(\"You got a C grade\")\n",
    "    print(\"Good, upgrade it.\")\n",
    "if grade < 70 and grade >= 60:\n",
    "    print(\"You got a D grade\")\n",
    "    print(\"Huft, let's fix it next year.\")\n",
    "if grade < 60 and grade >= 50:\n",
    "    print(\"You got a E grade\")\n",
    "    print(\"fix it next year\")"
   ]
  },
  {
   "cell_type": "code",
   "execution_count": 47,
   "id": "df15d325",
   "metadata": {},
   "outputs": [
    {
     "name": "stdout",
     "output_type": "stream",
     "text": [
      "Input your grade 89\n",
      "You got an A grade\n",
      "Amazing, congratulation!\n"
     ]
    }
   ],
   "source": [
    "grade = float(input(\"Input your grade \"))\n",
    "if grade >= 80:\n",
    "    print(\"You got an A grade\")\n",
    "    print(\"Amazing, congratulation!\")\n",
    "elif grade < 80 and grade >= 70:\n",
    "    print(\"You got a B grade\")\n",
    "    print(\"Keep it up!\")\n",
    "elif grade < 70 and grade >= 60:\n",
    "    print(\"You got a C grade\")\n",
    "    print(\"Good, upgrade it.\")\n",
    "elif grade < 70 and grade >= 60:\n",
    "    print(\"You got a D grade\")\n",
    "    print(\"Huft, let's fix it next year.\")\n",
    "if grade < 60 and grade >= 50:\n",
    "    print(\"You got a E grade\")\n",
    "    print(\"fix it next year\")"
   ]
  },
  {
   "cell_type": "code",
   "execution_count": 46,
   "id": "80653a79",
   "metadata": {
    "scrolled": true
   },
   "outputs": [
    {
     "name": "stdout",
     "output_type": "stream",
     "text": [
      "Masukan nilai anda 75\n",
      "Nilai B\n",
      "Sudah Baik, tingkatkan\n"
     ]
    }
   ],
   "source": [
    "nilai = float(input(\"Masukan nilai anda \"))\n",
    "if nilai >= 80:\n",
    "    print(\"Nilai A\")\n",
    "    print(\"Anda sangat hebat\")\n",
    "if nilai < 80 and nilai >= 70:\n",
    "    print(\"Nilai B\")\n",
    "    print(\"Sudah Baik, tingkatkan\")\n",
    "if nilai < 70 and nilai >= 60:\n",
    "    print(\"Nilai C\")\n",
    "    print(\"Cukup, tingkatkan\")\n",
    "if nilai < 60 and nilai >= 50:\n",
    "    print(\"Nilai D\")\n",
    "    print(\"Mari perbaiki ditahun depan\")\n",
    "if nilai < 50:\n",
    "    print(\"Nilai E\")\n",
    "    print(\"Perbaiki tahun depan\")"
   ]
  },
  {
   "cell_type": "code",
   "execution_count": 48,
   "id": "605ed15b",
   "metadata": {
    "scrolled": true
   },
   "outputs": [
    {
     "name": "stdout",
     "output_type": "stream",
     "text": [
      "Masukan nilai anda 75\n",
      "Nilai B\n",
      "Sudah Baik, tingkatkan\n"
     ]
    }
   ],
   "source": [
    "nilai = float(input(\"Masukan nilai anda \"))\n",
    "if nilai >= 80:\n",
    "    print(\"Nilai A\")\n",
    "    print(\"Anda sangat hebat\")\n",
    "elif nilai < 80 and nilai >= 70:\n",
    "    print(\"Nilai B\")\n",
    "    print(\"Sudah Baik, tingkatkan\")\n",
    "elif nilai < 70 and nilai >= 60:\n",
    "    print(\"Nilai C\")\n",
    "    print(\"Cukup, tingkatkan\")\n",
    "elif nilai < 60 and nilai >= 50:\n",
    "    print(\"Nilai D\")\n",
    "    print(\"Mari perbaiki ditahun depan\")\n",
    "if nilai < 50:\n",
    "    print(\"Nilai E\")\n",
    "    print(\"Perbaiki tahun depan\")"
   ]
  },
  {
   "cell_type": "code",
   "execution_count": 99,
   "id": "44c7d7f3",
   "metadata": {
    "scrolled": false
   },
   "outputs": [
    {
     "name": "stdout",
     "output_type": "stream",
     "text": [
      "Panduan Ukuran Kemeja Wanita Uniqlo\n",
      "Masukan panjang belakang tubuh (range 74-84): 79\n",
      "M\n",
      "Masukan lebar tubuh (range 58-75): 63\n",
      "M\n",
      "Masukan panjang lengan (range 74-81): 77\n",
      "M\n"
     ]
    }
   ],
   "source": [
    "print(\"Panduan Ukuran Kemeja Wanita Uniqlo\")\n",
    "pjg_blk = float(input(\"Masukan panjang belakang tubuh (range 74-84): \"))\n",
    "if pjg_blk >= 84:\n",
    "    print(\"XXXL\")\n",
    "elif pjg_blk >= 83:\n",
    "    print(\"XXL\")\n",
    "elif pjg_blk >= 82:\n",
    "    print(\"XL\")\n",
    "elif pjg_blk >= 80:\n",
    "    print(\"L\")\n",
    "elif pjg_blk >= 78:\n",
    "    print(\"M\")\n",
    "elif pjg_blk >= 76:\n",
    "    print(\"S\")\n",
    "if pjg_blk < 74:\n",
    "    print(\"XS\")\n",
    "    \n",
    "lebar_tubuh = float(input(\"Masukan lebar tubuh (range 58-75): \"))\n",
    "if lebar_tubuh >= 74:\n",
    "    print(\"XXXL\")\n",
    "elif lebar_tubuh >= 71:\n",
    "    print(\"XXL\")\n",
    "elif lebar_tubuh >= 68:\n",
    "    print(\"XL\")\n",
    "elif lebar_tubuh >= 65:\n",
    "    print(\"L\")\n",
    "elif lebar_tubuh >= 62:\n",
    "    print(\"M\")\n",
    "elif lebar_tubuh >= 60:\n",
    "    print(\"S\")\n",
    "if lebar_tubuh < 58:\n",
    "    print(\"XS\")\n",
    "    \n",
    "pjg_lengan = float(input(\"Masukan panjang lengan (range 74-81): \"))\n",
    "if pjg_lengan >= 81:\n",
    "    print(\"XXXL\")\n",
    "elif pjg_lengan >= 80:\n",
    "    print(\"XXL\")\n",
    "elif pjg_lengan >= 79:\n",
    "    print(\"XL\")\n",
    "elif pjg_lengan >= 78:\n",
    "    print(\"L\")\n",
    "elif pjg_lengan >= 77:\n",
    "    print(\"M\")\n",
    "elif pjg_lengan >= 76:\n",
    "    print(\"S\")\n",
    "if pjg_lengan < 74:\n",
    "    print(\"XS\")"
   ]
  }
 ],
 "metadata": {
  "kernelspec": {
   "display_name": "Python 3 (ipykernel)",
   "language": "python",
   "name": "python3"
  },
  "language_info": {
   "codemirror_mode": {
    "name": "ipython",
    "version": 3
   },
   "file_extension": ".py",
   "mimetype": "text/x-python",
   "name": "python",
   "nbconvert_exporter": "python",
   "pygments_lexer": "ipython3",
   "version": "3.9.13"
  }
 },
 "nbformat": 4,
 "nbformat_minor": 5
}
