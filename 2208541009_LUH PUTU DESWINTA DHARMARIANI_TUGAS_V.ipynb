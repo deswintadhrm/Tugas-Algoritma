{
 "cells": [
  {
   "cell_type": "markdown",
   "id": "a5e89a72",
   "metadata": {},
   "source": [
    "# 5.16 List 2 Dimensi"
   ]
  },
  {
   "cell_type": "markdown",
   "id": "813eff1b",
   "metadata": {},
   "source": [
    "List 2 dimensi pada umumnya adalah menempatkan sebuah list di dalam list. List 2 Dimensi biasanya menyimpan data yang kompleks seperti maktriks."
   ]
  },
  {
   "cell_type": "code",
   "execution_count": 31,
   "id": "a8ebc758",
   "metadata": {},
   "outputs": [
    {
     "name": "stdout",
     "output_type": "stream",
     "text": [
      "Matriks yang kita miliki adalah :\n",
      "[[1, 2, 3, 4], [5, 6, 7, 8], [9, 10, 11, 12], [13, 14, 15, 16]]\n",
      "\n",
      "Elemen yang terletak di baris ke-3 dan kolom ke-4 yaitu :\n",
      "12\n",
      "\n",
      "Elemen yang terletak di baris ke-4 yaitu :\n",
      "[13, 14, 15, 16]\n",
      "\n",
      "Elemen yang terletak di baris ke-2 dan ke-3 yaitu :\n",
      "[[5, 6, 7, 8], [9, 10, 11, 12]]\n"
     ]
    }
   ],
   "source": [
    "matrix = [[1,2,3,4],\n",
    "          [5,6,7,8],\n",
    "          [9,10,11,12],\n",
    "          [13,14,15,16],]\n",
    "print(\"Matriks yang kita miliki adalah :\")\n",
    "print (matrix)\n",
    "\n",
    "# List 2 Dimensi terlihat seperti ada list di dalam list.\n",
    "# INGAT!! Indeks selalu dimulai dari 0\n",
    "#  - berarti dari matriks diatas terdapat kolom 0, kolom 1, sampai kolom 4\n",
    "#  - dari matriks diatas terdapat baris 0, baris 1, sampai baris 4\n",
    "\n",
    "#Cara menampilkan data pada List 2 Dimensi bisa menggunakan perulangan atau menunjukkan indeksnya\n",
    "\n",
    "###### Menampilkan data dengan menunjukkan indeksnya ######\n",
    "# Contoh, saya ingin mencetak data 12, data 12 terletak pada baris ketiga dan kolom keempat\n",
    "# Karena indeks dimulai dari nol, maka data 12 terletak pada indeks 2 dan 3\n",
    "# Kita bisa menampilkan dengan cara :\n",
    "print(\"\\nElemen yang terletak di baris ke-3 dan kolom ke-4 yaitu :\")\n",
    "print(matrix [2][3])\n",
    "\n",
    "# Kita juga bisa membuatnya tanpa kata \"PRINT\"\n",
    "# Kurung siku pertama menandakan indeks untuk baris dan kurung siku kedua menandakan indeks untuk kolom\n",
    "\n",
    "# Contoh lain, saya ingin mencetak semua data yang ada pada baris keempat\n",
    "# Karena indeks dimulai dari nol, maka baris keempat memiliki indeks 3\n",
    "# Kita bisa menampilkan dengan cara :\n",
    "print(\"\\nElemen yang terletak di baris ke-4 yaitu :\")\n",
    "print(matrix [3])\n",
    "\n",
    "# Kita juga bisa membuatnya tanpa kata \"PRINT\"\n",
    "# Hanya terdapat 1 kurung siku yang menandakan indeks tersebut untuk baris\n",
    "\n",
    "###### Menampilkan data dengan menunjukkan jangkauan indeksnya ######\n",
    "# Contoh, saya ingin mencetak data baris kedua dan ketiga\n",
    "# Karena indeks dimulai dari nol, maka baris jangkauan barisnya terletak pada 1-3 dengan indeks 3 tidak termasuk\n",
    "# Kita bisa menampilkan dengan cara :\n",
    "print(\"\\nElemen yang terletak di baris ke-2 dan ke-3 yaitu :\")\n",
    "print(matrix [1:3])"
   ]
  },
  {
   "cell_type": "code",
   "execution_count": 45,
   "id": "1056fed7",
   "metadata": {
    "scrolled": false
   },
   "outputs": [
    {
     "name": "stdout",
     "output_type": "stream",
     "text": [
      "Berikut matriks yang memiliki jumlah digit karakter berbeda :\n",
      "1 2 3 4 \n",
      "5 6 7 8 \n",
      "9 10 11 12 \n",
      "13 14 15 16 \n",
      "\n",
      "Berikut matriks yang memiliki 1 digit karakter :\n",
      "1 2 3 \n",
      "2 4 6 \n",
      "3 5 7 \n",
      "\n",
      "Berikut matriks yang memiliki 2 digit karakter :\n",
      "12 13 \n",
      "14 15 \n"
     ]
    }
   ],
   "source": [
    "###### Menampilkan data dengan perulangan menunjuk indeksnya ######\n",
    "print(\"Berikut matriks yang memiliki jumlah digit karakter berbeda :\")\n",
    "for i in range(4):                       #perulangan pertama menunjukkan baris yaitu ada 4 baris\n",
    "    for j in range (4):                  #perulangan kedua menunjukkan kolom yaitu ada 4 kolom\n",
    "        print(matrix[i][j], end=' ')     #agar data yang tercetak terlihat seperti matriks, tambahkan (end=' ')\n",
    "    print()                              #dan ketika perulangan j selesai, kita tambahkan enter dengan \"print()\"\n",
    "    \n",
    "#Saya masih belum tau caranya agar matriks ini terlihat lebih rapi, karena elemen-elemennya mengandung jumlah digit karakter yang berbeda\n",
    "print()\n",
    "\n",
    "#Contoh matriks lainnya\n",
    "print(\"Berikut matriks yang memiliki 1 digit karakter :\")\n",
    "matriks1 =[[1,2,3,4],\n",
    "          [2,4,6,8],\n",
    "          [3,5,7,9]]\n",
    "for i in range(3):                         #perulangan pertama menunjukkan baris yaitu ada 3 baris\n",
    "    for j in range (3):                    #perulangan kedua menunjukkan kolom yaitu ada 3 kolom\n",
    "        print(matriks1[i][j], end=' ')     #agar data yang tercetak terlihat seperti matriks, tambahkan (end=' ')\n",
    "    print()                                #dan ketika perulangan j selesai, kita tambahkan enter dengan \"print()\"\n",
    "    \n",
    "print()\n",
    "print(\"Berikut matriks yang memiliki 2 digit karakter :\")\n",
    "matriks2 =[[12,13],\n",
    "          [14,15]]\n",
    "for i in range(2):                         #perulangan pertama menunjukkan baris yaitu ada 2 baris\n",
    "    for j in range (2):                    #perulangan kedua menunjukkan kolom yaitu ada 2 kolom\n",
    "        print(matriks2[i][j], end=' ')     #agar data yang tercetak terlihat seperti matriks, tambahkan (end=' ')\n",
    "    print()                                #dan ketika perulangan j selesai, kita tambahkan enter dengan \"print()\"\n",
    "    \n",
    "    "
   ]
  },
  {
   "cell_type": "code",
   "execution_count": 54,
   "id": "8c9f7194",
   "metadata": {
    "scrolled": false
   },
   "outputs": [
    {
     "name": "stdout",
     "output_type": "stream",
     "text": [
      "Berikut hasil matriks dengan perulangan tanpa menunjuk indeksnya :\n",
      "1 2 3 4 \n",
      "5 6 7 8 \n",
      "9 10 11 12 \n",
      "13 14 15 16 \n",
      "\n",
      "Berikut contoh lainnya :\n",
      "1 2 3 4 \n",
      "2 4 6 8 \n",
      "3 5 7 9 \n"
     ]
    }
   ],
   "source": [
    "###### Menampilkan data dengan perulangan tanpa menunjuk indeksnya ######\n",
    "print(\"Berikut hasil matriks dengan perulangan tanpa menunjuk indeksnya :\")\n",
    "for i in matrix:               #kita akan mengakses data pada variabel matrix, i akan menunjukkan elemen pada setiap baris\n",
    "    for j in i:                #j akan menunjukkan setiap elemen pada kolom\n",
    "        print(j, end=' ')      #agar data yang tercetak terlihat seperti matriks, tambahkan (end=' ')\n",
    "    print()                    #dan ketika perulangan j selesai, kita tambahkan enter dengan \"print()\"\n",
    "\n",
    "print()\n",
    "\n",
    "#Contoh lain\n",
    "print(\"Berikut contoh lainnya :\")\n",
    "for i in matriks1:             #kita akan mengakses data pada variabel matrix, i akan menunjukkan elemen pada setiap baris\n",
    "    for j in i:                #j akan menunjukkan setiap elemen pada kolom\n",
    "        print(j, end=' ')      #agar data yang tercetak terlihat seperti matriks, tambahkan (end=' ')\n",
    "    print()                    #dan ketika perulangan j selesai, kita tambahkan enter dengan \"print()\""
   ]
  },
  {
   "cell_type": "code",
   "execution_count": 7,
   "id": "c519d539",
   "metadata": {
    "scrolled": true
   },
   "outputs": [
    {
     "name": "stdout",
     "output_type": "stream",
     "text": [
      "[1, 2, 3, 4]\n",
      "1\n",
      "2\n",
      "3\n",
      "4\n",
      "[5, 6, 7, 8]\n",
      "5\n",
      "6\n",
      "7\n",
      "8\n",
      "[9, 10, 11, 12]\n",
      "9\n",
      "10\n",
      "11\n",
      "12\n",
      "[13, 14, 15, 16]\n",
      "13\n",
      "14\n",
      "15\n",
      "16\n"
     ]
    }
   ],
   "source": [
    "for baris in matrix:\n",
    "    print(baris)\n",
    "    for kolom in baris:\n",
    "        print(kolom)"
   ]
  },
  {
   "cell_type": "markdown",
   "id": "8c684978",
   "metadata": {},
   "source": [
    "# 5.17 Tuples"
   ]
  },
  {
   "cell_type": "code",
   "execution_count": 9,
   "id": "3f2f1a4c",
   "metadata": {},
   "outputs": [
    {
     "name": "stdout",
     "output_type": "stream",
     "text": [
      "0\n"
     ]
    }
   ],
   "source": [
    "angka = (0,1,1,3,4,5)\n",
    "print(angka[0])"
   ]
  },
  {
   "cell_type": "code",
   "execution_count": null,
   "id": "fd862e81",
   "metadata": {},
   "outputs": [],
   "source": []
  },
  {
   "cell_type": "markdown",
   "id": "d9b6c77d",
   "metadata": {},
   "source": [
    "# 5.18 Dictionaries"
   ]
  },
  {
   "cell_type": "code",
   "execution_count": 25,
   "id": "67a2091d",
   "metadata": {
    "scrolled": true
   },
   "outputs": [
    {
     "name": "stdout",
     "output_type": "stream",
     "text": [
      "Ketut Dogler\n",
      "\n",
      "\n",
      "None\n",
      "Ketut Dogler\n"
     ]
    }
   ],
   "source": [
    "dataOrang={\n",
    "    'nama' : 'Ketut Dogler',\n",
    "    'umur' : 12,\n",
    "    'apakah single?' : False\n",
    "}\n",
    "\n",
    "print(dataOrang['nama'])\n",
    "# print(dataOrang['Nama'])\n",
    "\n",
    "print('\\n')\n",
    "print(dataOrang.get('Nama'))\n",
    "print(dataOrang.get('nama'))"
   ]
  },
  {
   "cell_type": "code",
   "execution_count": 31,
   "id": "9fec83e8",
   "metadata": {
    "scrolled": true
   },
   "outputs": [
    {
     "name": "stdout",
     "output_type": "stream",
     "text": [
      "None\n",
      "2-2-2010\n",
      "{'nama': 'Ketut Dogler', 'umur': 12, 'apakah single?': False, 'HP': '0812345678'}\n"
     ]
    },
    {
     "ename": "KeyError",
     "evalue": "'tanggal-lahir'",
     "output_type": "error",
     "traceback": [
      "\u001b[1;31m---------------------------------------------------------------------------\u001b[0m",
      "\u001b[1;31mKeyError\u001b[0m                                  Traceback (most recent call last)",
      "\u001b[1;32m~\\AppData\\Local\\Temp\\ipykernel_26392\\3639771202.py\u001b[0m in \u001b[0;36m<module>\u001b[1;34m\u001b[0m\n\u001b[0;32m      3\u001b[0m \u001b[0mprint\u001b[0m\u001b[1;33m(\u001b[0m\u001b[0mdataOrang\u001b[0m\u001b[1;33m)\u001b[0m\u001b[1;33m\u001b[0m\u001b[1;33m\u001b[0m\u001b[0m\n\u001b[0;32m      4\u001b[0m \u001b[1;33m\u001b[0m\u001b[0m\n\u001b[1;32m----> 5\u001b[1;33m \u001b[0mprint\u001b[0m\u001b[1;33m(\u001b[0m\u001b[0mdataOrang\u001b[0m\u001b[1;33m[\u001b[0m\u001b[1;34m'tanggal-lahir'\u001b[0m\u001b[1;33m]\u001b[0m\u001b[1;33m)\u001b[0m\u001b[1;33m\u001b[0m\u001b[1;33m\u001b[0m\u001b[0m\n\u001b[0m",
      "\u001b[1;31mKeyError\u001b[0m: 'tanggal-lahir'"
     ]
    }
   ],
   "source": [
    "print(dataOrang.get('tanggal-lahir'))\n",
    "print(dataOrang.get('tanggal-lahir','2-2-2010'))\n",
    "print(dataOrang)\n",
    "\n",
    "print(dataOrang['tanggal-lahir']) #bersifat sementara"
   ]
  },
  {
   "cell_type": "code",
   "execution_count": 29,
   "id": "27fb1c10",
   "metadata": {
    "scrolled": true
   },
   "outputs": [
    {
     "name": "stdout",
     "output_type": "stream",
     "text": [
      "0812345678\n",
      "{'nama': 'Ketut Dogler', 'umur': 12, 'apakah single?': False, 'HP': '0812345678'}\n"
     ]
    }
   ],
   "source": [
    "dataOrang[\"HP\"] = '0812345678'\n",
    "print(dataOrang[\"HP\"])\n",
    "print(dataOrang)"
   ]
  },
  {
   "cell_type": "code",
   "execution_count": 32,
   "id": "d9765ad5",
   "metadata": {
    "scrolled": true
   },
   "outputs": [
    {
     "name": "stdout",
     "output_type": "stream",
     "text": [
      "Masukkan nomor HP anda : 085739846062\n",
      "nol delapan lima tujuh tiga sembilan delapan empat enam nol enam dua \n"
     ]
    }
   ],
   "source": [
    "angka = {\n",
    "    '0' : 'nol',\n",
    "    '1' : 'satu',\n",
    "    '2' : 'dua',\n",
    "    '3' : 'tiga',\n",
    "    '4' : 'empat',\n",
    "    '5' : 'lima',\n",
    "    '6' : 'enam',\n",
    "    '7' : 'tujuh',\n",
    "    '8' : 'delapan',\n",
    "    '9' : 'sembilan',\n",
    "}\n",
    "\n",
    "nomorHP = input(\"Masukkan nomor HP anda : \")\n",
    "nomorAngka = \"\"\n",
    "for isi in nomorHP:\n",
    "    nomorAngka += angka.get(isi) + \" \"\n",
    "print(nomorAngka)"
   ]
  },
  {
   "cell_type": "code",
   "execution_count": 34,
   "id": "b2abc635",
   "metadata": {
    "scrolled": true
   },
   "outputs": [
    {
     "ename": "SyntaxError",
     "evalue": "expression cannot contain assignment, perhaps you meant \"==\"? (2114928737.py, line 2)",
     "output_type": "error",
     "traceback": [
      "\u001b[1;36m  File \u001b[1;32m\"C:\\Users\\Deswinta\\AppData\\Local\\Temp\\ipykernel_26392\\2114928737.py\"\u001b[1;36m, line \u001b[1;32m2\u001b[0m\n\u001b[1;33m    0 =  'nol',\u001b[0m\n\u001b[1;37m    ^\u001b[0m\n\u001b[1;31mSyntaxError\u001b[0m\u001b[1;31m:\u001b[0m expression cannot contain assignment, perhaps you meant \"==\"?\n"
     ]
    }
   ],
   "source": [
    "angka = dict(\n",
    "    0 =  'nol',\n",
    "    1 = 'satu',\n",
    "    2 = 'dua',\n",
    "    3 = 'tiga',\n",
    "    4 = 'empat',\n",
    "    5 = 'lima',\n",
    "    6 = 'enam',\n",
    "    7 = 'tujuh',\n",
    "    8 = 'delapan',\n",
    "    9 = 'sembilan',\n",
    ")\n",
    "\n",
    "nomorHP = input(\"Masukkan nomor HP anda : \")\n",
    "nomorAngka = \"\"\n",
    "for isi in nomorHP:\n",
    "    nomorAngka += angka.get(isi) + \" \"\n",
    "print(nomorAngka)"
   ]
  },
  {
   "cell_type": "markdown",
   "id": "a34bad80",
   "metadata": {},
   "source": [
    "# 5.19 Fungsi dalam Python"
   ]
  },
  {
   "cell_type": "code",
   "execution_count": 55,
   "id": "3987265e",
   "metadata": {},
   "outputs": [],
   "source": [
    "def fullName(firstName,lastName):\n",
    "    print(f'Nama Lengkapnya adalah {firstName} {lastName}')"
   ]
  },
  {
   "cell_type": "code",
   "execution_count": 57,
   "id": "288aff61",
   "metadata": {
    "scrolled": false
   },
   "outputs": [
    {
     "name": "stdout",
     "output_type": "stream",
     "text": [
      "Nama depan anda adalah Putu\n",
      "Nama belakang anda adalah Deswinta\n",
      "Nama Lengkapnya adalah Putu Deswinta\n"
     ]
    }
   ],
   "source": [
    "firstName = input(\"Nama depan anda adalah \")\n",
    "lastName = input(\"Nama belakang anda adalah \")\n",
    "fullName(firstName,lastName)"
   ]
  },
  {
   "cell_type": "code",
   "execution_count": 61,
   "id": "2bf26eeb",
   "metadata": {
    "scrolled": false
   },
   "outputs": [
    {
     "name": "stdout",
     "output_type": "stream",
     "text": [
      "Siapa nama anda? Deswinta\n",
      "Anda berasal dari mana? Denpasar\n",
      "Perkenalkan saya Deswinta dari Denpasar\n",
      "\n",
      "\n"
     ]
    }
   ],
   "source": [
    "def perkenalan(nama, asal):\n",
    "  print(f\"Perkenalkan saya {nama} dari {asal}\")\n",
    "\n",
    "nama = input('Siapa nama anda? ')\n",
    "asal = input('Anda berasal dari mana? ')\n",
    "\n",
    "perkenalan(nama, asal)\n",
    "print(\"\\n\")"
   ]
  },
  {
   "cell_type": "markdown",
   "id": "57eafe9f",
   "metadata": {
    "scrolled": true
   },
   "source": [
    "## 5.19.1 Tugas Fungsi pada Python"
   ]
  },
  {
   "cell_type": "code",
   "execution_count": 68,
   "id": "6b23600d",
   "metadata": {},
   "outputs": [
    {
     "name": "stdout",
     "output_type": "stream",
     "text": [
      "1.3333333333333333\n",
      "1.3333333333333333\n",
      "None\n"
     ]
    }
   ],
   "source": [
    "def waktuSampai(jarak,kecepatan):\n",
    "    waktu = jarak/kecepatan\n",
    "    print(waktu)\n",
    "    \n",
    "waktuSampai(80,60)\n",
    "\n",
    "a = waktuSampai(80,60)\n",
    "print(a)"
   ]
  },
  {
   "cell_type": "code",
   "execution_count": 69,
   "id": "fcbf7abc",
   "metadata": {
    "scrolled": true
   },
   "outputs": [
    {
     "name": "stdout",
     "output_type": "stream",
     "text": [
      "1.3333333333333333\n"
     ]
    }
   ],
   "source": [
    "def waktuTempuh(jarak,kecepatan):\n",
    "    waktu = jarak/kecepatan\n",
    "    return waktu\n",
    "    \n",
    "waktuTempuh(80,60)\n",
    "\n",
    "b = waktuTempuh(80,60)\n",
    "print(b)"
   ]
  },
  {
   "cell_type": "markdown",
   "id": "dc28581f",
   "metadata": {},
   "source": [
    "# 5.20 Numpy"
   ]
  },
  {
   "cell_type": "code",
   "execution_count": 73,
   "id": "5e0e31f9",
   "metadata": {},
   "outputs": [],
   "source": [
    "import numpy as np"
   ]
  },
  {
   "cell_type": "code",
   "execution_count": 74,
   "id": "cae085e9",
   "metadata": {
    "scrolled": true
   },
   "outputs": [
    {
     "name": "stdout",
     "output_type": "stream",
     "text": [
      "[0 1 2 3 4]\n"
     ]
    }
   ],
   "source": [
    "a = np.array([0,1,2,3,4])\n",
    "print(a)"
   ]
  },
  {
   "cell_type": "code",
   "execution_count": 79,
   "id": "b25e3fdf",
   "metadata": {
    "scrolled": true
   },
   "outputs": [
    {
     "name": "stdout",
     "output_type": "stream",
     "text": [
      "[[5 6 7 8]\n",
      " [9 8 7 6]]\n"
     ]
    }
   ],
   "source": [
    "b = np.array([[5,6,7,8],[9,8,7,6]])\n",
    "print(b)"
   ]
  },
  {
   "cell_type": "code",
   "execution_count": 94,
   "id": "43737c6c",
   "metadata": {},
   "outputs": [
    {
     "name": "stdout",
     "output_type": "stream",
     "text": [
      "[[[0 1 2 3]\n",
      "  [4 5 6 7]]\n",
      "\n",
      " [[8 9 8 7]\n",
      "  [6 5 4 3]]\n",
      "\n",
      " [[1 2 3 4]\n",
      "  [5 6 7 8]]]\n"
     ]
    }
   ],
   "source": [
    "c = np.array([[[0,1,2,3],[4,5,6,7]],\n",
    "              [[8,9,8,7],[6,5,4,3]],\n",
    "              [[1,2,3,4],[5,6,7,8]]])\n",
    "print(c)"
   ]
  },
  {
   "cell_type": "code",
   "execution_count": 92,
   "id": "0a9d7f90",
   "metadata": {},
   "outputs": [
    {
     "data": {
      "text/plain": [
       "2"
      ]
     },
     "execution_count": 92,
     "metadata": {},
     "output_type": "execute_result"
    }
   ],
   "source": [
    "b.ndim"
   ]
  },
  {
   "cell_type": "code",
   "execution_count": 95,
   "id": "cc8d6175",
   "metadata": {},
   "outputs": [
    {
     "data": {
      "text/plain": [
       "3"
      ]
     },
     "execution_count": 95,
     "metadata": {},
     "output_type": "execute_result"
    }
   ],
   "source": [
    "c.ndim"
   ]
  },
  {
   "cell_type": "code",
   "execution_count": 96,
   "id": "f0047c41",
   "metadata": {
    "scrolled": true
   },
   "outputs": [
    {
     "data": {
      "text/plain": [
       "(3, 2, 4)"
      ]
     },
     "execution_count": 96,
     "metadata": {},
     "output_type": "execute_result"
    }
   ],
   "source": [
    "c.shape"
   ]
  }
 ],
 "metadata": {
  "kernelspec": {
   "display_name": "Python 3 (ipykernel)",
   "language": "python",
   "name": "python3"
  },
  "language_info": {
   "codemirror_mode": {
    "name": "ipython",
    "version": 3
   },
   "file_extension": ".py",
   "mimetype": "text/x-python",
   "name": "python",
   "nbconvert_exporter": "python",
   "pygments_lexer": "ipython3",
   "version": "3.9.13"
  }
 },
 "nbformat": 4,
 "nbformat_minor": 5
}
