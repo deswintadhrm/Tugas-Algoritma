{
 "cells": [
  {
   "cell_type": "markdown",
   "id": "a5e89a72",
   "metadata": {},
   "source": [
    "# 5.16 List 2 Dimensi"
   ]
  },
  {
   "cell_type": "markdown",
   "id": "813eff1b",
   "metadata": {},
   "source": [
    "List 2 dimensi pada umumnya adalah menempatkan sebuah list di dalam list. List 2 Dimensi biasanya menyimpan data yang kompleks seperti maktriks."
   ]
  },
  {
   "cell_type": "code",
   "execution_count": 13,
   "id": "a8ebc758",
   "metadata": {},
   "outputs": [
    {
     "name": "stdout",
     "output_type": "stream",
     "text": [
      "Matriks yang kita miliki adalah :\n",
      "[[1, 2, 3, 4], [5, 6, 7, 8], [9, 10, 11, 12], [13, 14, 15, 16]]\n",
      "\n",
      "Elemen yang terletak di baris ke-3 dan kolom ke-4 yaitu :\n",
      "12\n",
      "\n",
      "Elemen yang terletak di baris ke-4 yaitu :\n",
      "[13, 14, 15, 16]\n",
      "\n",
      "Elemen yang terletak di baris ke-2 dan ke-3 yaitu :\n",
      "[[5, 6, 7, 8], [9, 10, 11, 12]]\n",
      "\n",
      "Berikut Matriks yang rapi dengan menggunakan perulangan for :\n",
      "[1, 0]\n",
      "[0, 1]\n",
      "\n",
      "Berikut contoh lainnya:\n",
      "[1, 2, 3, 4]\n",
      "[5, 6, 7, 8]\n",
      "[9, 10, 11, 12]\n",
      "[13, 14, 15, 16]\n"
     ]
    }
   ],
   "source": [
    "matrix = [[ 1, 2, 3, 4],\n",
    "          [ 5, 6, 7, 8],\n",
    "          [ 9,10,11,12],\n",
    "          [13,14,15,16]]\n",
    "print(\"Matriks yang kita miliki adalah :\")\n",
    "print (matrix)\n",
    "\n",
    "# List 2 Dimensi terlihat seperti ada list di dalam list.\n",
    "# INGAT!! Indeks selalu dimulai dari 0\n",
    "#  - berarti dari matriks diatas terdapat kolom 0, kolom 1, sampai kolom 4\n",
    "#  - dari matriks diatas terdapat baris 0, baris 1, sampai baris 4\n",
    "\n",
    "#Cara menampilkan data pada List 2 Dimensi bisa menggunakan perulangan atau menunjukkan indeksnya\n",
    "\n",
    "###### Menampilkan data dengan menunjukkan indeksnya ######\n",
    "# Contoh, saya ingin mencetak data 12, data 12 terletak pada baris ketiga dan kolom keempat\n",
    "# Karena indeks dimulai dari nol, maka data 12 terletak pada indeks 2 dan 3\n",
    "# Kita bisa menampilkan dengan cara :\n",
    "print(\"\\nElemen yang terletak di baris ke-3 dan kolom ke-4 yaitu :\")\n",
    "print(matrix [2][3])\n",
    "\n",
    "# Kita juga bisa membuatnya tanpa kata \"PRINT\"\n",
    "# Kurung siku pertama menandakan indeks untuk baris dan kurung siku kedua menandakan indeks untuk kolom\n",
    "\n",
    "# Contoh lain, saya ingin mencetak semua data yang ada pada baris keempat\n",
    "# Karena indeks dimulai dari nol, maka baris keempat memiliki indeks 3\n",
    "# Kita bisa menampilkan dengan cara :\n",
    "print(\"\\nElemen yang terletak di baris ke-4 yaitu :\")\n",
    "print(matrix [3])\n",
    "\n",
    "# Kita juga bisa membuatnya tanpa kata \"PRINT\"\n",
    "# Hanya terdapat 1 kurung siku yang menandakan indeks tersebut untuk baris\n",
    "\n",
    "###### Menampilkan data dengan menunjukkan jangkauan indeksnya ######\n",
    "# Contoh, saya ingin mencetak data baris kedua dan ketiga\n",
    "# Karena indeks dimulai dari nol, maka baris jangkauan barisnya terletak pada 1-3 dengan indeks 3 tidak termasuk\n",
    "# Kita bisa menampilkan dengan cara :\n",
    "print(\"\\nElemen yang terletak di baris ke-2 dan ke-3 yaitu :\")\n",
    "print(matrix [1:3])\n",
    "\n",
    "###### Mencetak data Matriks dengan rapi ######\n",
    "# Kita dapat mencetak data matriks dengan rapi menggunakan perulangan for\n",
    "# Posisi entri-entrinya tidak akan mendatar untuk semuanya, namun akan tercetak sama seperti bentuk matriks yang biasa kita lihat\n",
    "print(\"\\nBerikut Matriks yang rapi dengan menggunakan perulangan for :\")\n",
    "matriksId = [[ 1,0],\n",
    "             [0,1]]\n",
    "for baris in matriksId:\n",
    "    print(baris)\n",
    "print(\"\\nBerikut contoh lainnya:\")\n",
    "for baris in matrix:\n",
    "    print(baris)\n",
    "#Saya masih belum tau caranya agar matriks terlihat lebih rapi, karena elemen-elemennya mengandung jumlah digit karakter yang berbeda"
   ]
  },
  {
   "cell_type": "code",
   "execution_count": 20,
   "id": "1056fed7",
   "metadata": {
    "scrolled": false
   },
   "outputs": [
    {
     "name": "stdout",
     "output_type": "stream",
     "text": [
      "Berikut matriks yang memiliki jumlah digit karakter berbeda :\n",
      "1 2 3 4 \n",
      "5 6 7 8 \n",
      "9 10 11 12 \n",
      "13 14 15 16 \n",
      "\n",
      "Berikut matriks yang memiliki 1 digit karakter :\n",
      "1 2 3 \n",
      "2 4 6 \n",
      "3 5 7 \n",
      "\n",
      "Berikut matriks yang memiliki 2 digit karakter :\n",
      "12 13 \n",
      "14 15 \n"
     ]
    }
   ],
   "source": [
    "###### Menampilkan data dengan perulangan menunjuk indeksnya ######\n",
    "print(\"Berikut matriks yang memiliki jumlah digit karakter berbeda :\")\n",
    "for i in range(4):                       #perulangan pertama menunjukkan baris yaitu ada 4 baris\n",
    "    for j in range (4):                  #perulangan kedua menunjukkan kolom yaitu ada 4 kolom\n",
    "        print(matrix[i][j], end=' ')     #agar data yang tercetak terlihat seperti matriks, tambahkan (end=' ')\n",
    "    print()                              #dan ketika perulangan j selesai, kita tambahkan enter dengan \"print()\"\n",
    "    \n",
    "#Saya masih belum tau caranya agar matriks ini terlihat lebih rapi, karena elemen-elemennya mengandung jumlah digit karakter yang berbeda\n",
    "print()\n",
    "\n",
    "#Contoh matriks lainnya\n",
    "print(\"Berikut matriks yang memiliki 1 digit karakter :\")\n",
    "matriks1 =[[1,2,3,4],\n",
    "          [2,4,6,8],\n",
    "          [3,5,7,9]]\n",
    "for i in range(3):                         #perulangan pertama menunjukkan baris yaitu ada 3 baris\n",
    "    for j in range (3):                    #perulangan kedua menunjukkan kolom yaitu ada 3 kolom\n",
    "        print(matriks1[i][j], end=' ')     #agar data yang tercetak terlihat seperti matriks, tambahkan (end=' ')\n",
    "    print()                                #dan ketika perulangan j selesai, kita tambahkan enter dengan \"print()\"\n",
    "    \n",
    "print()\n",
    "print(\"Berikut matriks yang memiliki 2 digit karakter :\")\n",
    "matriks2 =[[12,13],\n",
    "          [14,15]]\n",
    "for i in range(2):                         #perulangan pertama menunjukkan baris yaitu ada 2 baris\n",
    "    for j in range (2):                    #perulangan kedua menunjukkan kolom yaitu ada 2 kolom\n",
    "        print(matriks2[i][j], end=' ')     #agar data yang tercetak terlihat seperti matriks, tambahkan (end=' ')\n",
    "    print()                                #dan ketika perulangan j selesai, kita tambahkan enter dengan \"print()\"\n",
    "    \n",
    "    "
   ]
  },
  {
   "cell_type": "code",
   "execution_count": 54,
   "id": "8c9f7194",
   "metadata": {
    "scrolled": true
   },
   "outputs": [
    {
     "name": "stdout",
     "output_type": "stream",
     "text": [
      "Berikut hasil matriks dengan perulangan tanpa menunjuk indeksnya :\n",
      "1 2 3 4 \n",
      "5 6 7 8 \n",
      "9 10 11 12 \n",
      "13 14 15 16 \n",
      "\n",
      "Berikut contoh lainnya :\n",
      "1 2 3 4 \n",
      "2 4 6 8 \n",
      "3 5 7 9 \n"
     ]
    }
   ],
   "source": [
    "###### Menampilkan data dengan perulangan tanpa menunjuk indeksnya ######\n",
    "print(\"Berikut hasil matriks dengan perulangan tanpa menunjuk indeksnya :\")\n",
    "for i in matrix:               #kita akan mengakses data pada variabel matrix, i akan menunjukkan elemen pada setiap baris\n",
    "    for j in i:                #j akan menunjukkan setiap elemen pada kolom\n",
    "        print(j, end=' ')      #agar data yang tercetak terlihat seperti matriks, tambahkan (end=' ')\n",
    "    print()                    #dan ketika perulangan j selesai, kita tambahkan enter dengan \"print()\"\n",
    "\n",
    "print()\n",
    "\n",
    "#Contoh lain\n",
    "print(\"Berikut contoh lainnya :\")\n",
    "for i in matriks1:             #kita akan mengakses data pada variabel matrix, i akan menunjukkan elemen pada setiap baris\n",
    "    for j in i:                #j akan menunjukkan setiap elemen pada kolom\n",
    "        print(j, end=' ')      #agar data yang tercetak terlihat seperti matriks, tambahkan (end=' ')\n",
    "    print()                    #dan ketika perulangan j selesai, kita tambahkan enter dengan \"print()\""
   ]
  },
  {
   "cell_type": "code",
   "execution_count": 117,
   "id": "6e22360f",
   "metadata": {
    "scrolled": true
   },
   "outputs": [
    {
     "name": "stdout",
     "output_type": "stream",
     "text": [
      "Berikut output list data dengan biasa : [0, 1, 2, 3]\n",
      "Berikut output menggabungan list yang berbeda : [[0, 1], [2, 3]]\n"
     ]
    }
   ],
   "source": [
    "# Kita juga bisa menggabungkan list-list yang kita miliki\n",
    "data1 = [0,1]\n",
    "data2 = [2,3]\n",
    "listdataBiasa = [0,1,2,3]\n",
    "listGabungan = [data1,data2]\n",
    "print(\"Berikut output list data dengan biasa :\", listdataBiasa)\n",
    "print(\"Berikut output menggabungan list yang berbeda :\", listGabungan)"
   ]
  },
  {
   "cell_type": "markdown",
   "id": "2c81dfb2",
   "metadata": {},
   "source": [
    "###### Contoh (1) "
   ]
  },
  {
   "cell_type": "code",
   "execution_count": 85,
   "id": "9908a0e7",
   "metadata": {
    "scrolled": true
   },
   "outputs": [
    {
     "name": "stdout",
     "output_type": "stream",
     "text": [
      "Berikut merupakan biodata mahasiswa Prodi Matematika Angkatan 2022 :\n",
      "Nama          : Dudung\n",
      "Umur          : 18\n",
      "Jenis Kelamin : Perempuan\n",
      "\n",
      "Nama          : Ucup\n",
      "Umur          : 20\n",
      "Jenis Kelamin : Laki-laki\n",
      "\n",
      "Nama          : Bunga\n",
      "Umur          : 19\n",
      "Jenis Kelamin : Perempuan\n",
      "\n",
      "Nama          : Gaia\n",
      "Umur          : 19\n",
      "Jenis Kelamin : Perempuan\n",
      "\n",
      "Nama          : Axel\n",
      "Umur          : 20\n",
      "Jenis Kelamin : Laki-laki\n",
      "\n"
     ]
    }
   ],
   "source": [
    "# Kita memiliki data biodata mahasiswa Prodi Matematika Angkatan 2022\n",
    "mhs1 = ['Dudung',18,'Perempuan']\n",
    "mhs2 = ['Ucup',20,'Laki-laki']\n",
    "mhs3 = ['Bunga',19,'Perempuan']\n",
    "mhs4 = ['Gaia',19,'Perempuan']\n",
    "mhs5 = ['Axel',20,'Laki-laki']\n",
    "\n",
    "listMhs = [mhs1,mhs2,mhs3,mhs4,mhs5]\n",
    "print(\"Berikut merupakan biodata mahasiswa Prodi Matematika Angkatan 2022 :\")\n",
    "for mhs in listMhs:\n",
    "    print(\"Nama          :\", mhs[0])\n",
    "    print('Umur          :', mhs[1])\n",
    "    print('Jenis Kelamin :', mhs[2])\n",
    "    print()"
   ]
  },
  {
   "cell_type": "markdown",
   "id": "a464bc34",
   "metadata": {},
   "source": [
    "###### Contoh (2) "
   ]
  },
  {
   "cell_type": "code",
   "execution_count": 86,
   "id": "fa9e1cdf",
   "metadata": {},
   "outputs": [
    {
     "name": "stdout",
     "output_type": "stream",
     "text": [
      "Masukkan data buku\n",
      "Judul buku\t: Rentang Kisah\n",
      "Nama penulis\t: Gita Savitri Devi\n",
      "\n",
      " ==================== Data Buku Perpustakaan ====================\n",
      "No. | Judul\t\t\t | Penulis\n",
      "1   | Rentang Kisah \t\t | Gita Savitri Devi\n",
      "\n",
      " ==================================================================\n",
      "Apakah ingin menginput lagi? (y/n)y\n",
      "Masukkan data buku\n",
      "Judul buku\t: Masih Belajar\n",
      "Nama penulis\t: Iman Usman\n",
      "\n",
      " ==================== Data Buku Perpustakaan ====================\n",
      "No. | Judul\t\t\t | Penulis\n",
      "1   | Rentang Kisah \t\t | Gita Savitri Devi\n",
      "2   | Masih Belajar \t\t | Iman Usman\n",
      "\n",
      " ==================================================================\n",
      "Apakah ingin menginput lagi? (y/n)n\n",
      "-Terima Kasih-\n"
     ]
    }
   ],
   "source": [
    "# Program List Buku Perpustakaan\n",
    "listBuku = []                                                     #list kosong sebagai penampung list yang baru diinput\n",
    "while True:                                                       #gunakan perulangan while agar perulangan diolah sampai kita cancel \n",
    "    print('Masukkan data buku')\n",
    "    judul = input('Judul buku\\t: ')\n",
    "    penulis = input('Nama penulis\\t: ')\n",
    "    buku = [judul,penulis]                                        #menggabungkan list yang kita miliki\n",
    "    listBuku.append(buku)                                         #fungsi append untuk menambahkan list baru pada list kosong\n",
    "    \n",
    "    print('\\n','='*20,'Data Buku Perpustakaan','='*20)\n",
    "    print('No.','|','Judul\\t\\t\\t','|','Penulis' )                 # '\\t' memiliki fungsi sebagai tab, untuk merapikan indentasi output   \n",
    "    for index,kumBuku in enumerate(listBuku):                     #gunakan looping untuk print buku, enumerate digunakan agar kita mengetahui indexnya\n",
    "        print(index+1,' ','|',kumBuku[0],'\\t\\t','|',kumBuku[1])   #indeks pada python selalu dimulai dari nol, maka kita tambahkan 1 agar nomor dapat dimulai dari 1\n",
    "    \n",
    "    print('\\n','='*66)\n",
    "    lanjut = input('Apakah ingin menginput lagi? (y/n)')          #karena while tidak akan berhenti tanpa ada cancel,\n",
    "    if lanjut == 'n':                                             #maka kita buatkan looping for untuk menyelesaikan input ketika input ingin diselesaikan\n",
    "        break                                                     #break digunakan untuk menghentikan perulangan\n",
    "        \n",
    "print(\"-Terima Kasih-\")"
   ]
  },
  {
   "cell_type": "markdown",
   "id": "8c684978",
   "metadata": {},
   "source": [
    "# 5.17 Tuples"
   ]
  },
  {
   "cell_type": "markdown",
   "id": "0db2afdd",
   "metadata": {},
   "source": [
    "Tuple merupakan collection data type, artinya tuple dapat digunakan untuk menampung sekumpulan nilai/data.\n",
    "Tuple merupakan sequence data type, artinya nilai/data yang tersimpan di dalam tuple dapat diakses berdasarkan urutan penyimpanannya. Dalam hal ini kita dapat memanfaatkan index.\n",
    "Tuple merupakan immutable data type, artinya kita tidak dapat mengubah, menambah, ataupun menghapus nilai/data yang ditampung di dalam sebuah tuple."
   ]
  },
  {
   "cell_type": "code",
   "execution_count": 92,
   "id": "65320fca",
   "metadata": {},
   "outputs": [
    {
     "name": "stdout",
     "output_type": "stream",
     "text": [
      "Pendefinisian variabel dengan mengapit kumpulan data menggunakan tanda kurung :\n",
      "(0, 1, 1, 3, 4, 5)\n",
      "\n",
      "Pendefinisian variabel tanpa mengapit kumpulan data menggunakan tanda kurung :\n",
      "(0, 1, 1, 3, 4, 5)\n",
      "\n",
      "Pendefinisian variabel yang hanya memiliki satu elemen :\n",
      "(15,)\n",
      "\n",
      "Tuple dapat menampung sekumpulan nilai dengan tipe data yang bervariasi :\n",
      "(2, 5, 3.3, 'deswinta', 5, 2, ['x', 'y'], True, 1, 5, 2.3, 3.3, 2)\n",
      "\n",
      "Berikut frekuensi nilai 2 pada Tuple1 : 3\n",
      "\n",
      "Berikut letak 'deswinta' pada Tuple1 : 3\n"
     ]
    }
   ],
   "source": [
    "print(\"Pendefinisian variabel dengan mengapit kumpulan data menggunakan tanda kurung :\")\n",
    "angka = (0,1,1,3,4,5)\n",
    "print(angka)\n",
    "print(\"\\nPendefinisian variabel tanpa mengapit kumpulan data menggunakan tanda kurung :\")\n",
    "angka = 0,1,1,3,4,5\n",
    "print(angka)\n",
    "# Suatu Tuples tidak harus didefinisikan dengan mengapit kumpulan data dengan tanda kurung\n",
    "# Output yang tercetak juga tetap Tuple\n",
    "\n",
    "# Bagaimana jika suatu Tuple hanya memiliki 1 elemen?\n",
    "# agar definisi Tuple tidak terindentifikasi sebagai int, \n",
    "# data Tuple dapat didefinisikan sebagai berikut\n",
    "print(\"\\nPendefinisian variabel yang hanya memiliki satu elemen :\")\n",
    "satuE = 15,\n",
    "print(satuE)\n",
    "\n",
    "# Tuple juga dapat menampung sekumpulan nilai dengan tipe data yang bervariasi\n",
    "print(\"\\nTuple dapat menampung sekumpulan nilai dengan tipe data yang bervariasi :\")\n",
    "tuple1 = (2,5,3.3,'deswinta',5,2,['x','y'],True,1,5,2.3,3.3,2 )\n",
    "print(tuple1)\n",
    "# Dapat dilihat tuple1 dapat menampung nilai-nilai dengan tipe data yang beragam\n",
    "# Seperti contoh di atas terdapat tipe data int, float, string, list dan boolean \n",
    "# di dalam suatu tuple kita juga dapat menyimpan list dan suatu tuple lainnya\n",
    "\n",
    "# Untuk menghitung frekuensi nilai yang kita miliki dalam Tuple\n",
    "# kita dapat menggunakan fungsi count\n",
    "print(\"\\nBerikut frekuensi nilai 2 pada Tuple1 :\", tuple1.count(2))\n",
    "\n",
    "# Untuk mengetahui urutan nilai dalam Tuple\n",
    "# kita dapat menggunakan fungsi index\n",
    "print(\"\\nBerikut letak 'deswinta' pada Tuple1 :\", tuple1.index('deswinta'))"
   ]
  },
  {
   "cell_type": "raw",
   "id": "1a7a9341",
   "metadata": {},
   "source": [
    "Karena Tuple immutable data type, maka fungsi append dan remove tidak dapat digunakan \n",
    "\n",
    "angka.append(10)\n",
    "angka.remove(5)"
   ]
  },
  {
   "cell_type": "markdown",
   "id": "d9b6c77d",
   "metadata": {},
   "source": [
    "# 5.18 Dictionaries"
   ]
  },
  {
   "cell_type": "markdown",
   "id": "72553c31",
   "metadata": {},
   "source": [
    "##### Dictionary"
   ]
  },
  {
   "cell_type": "code",
   "execution_count": 12,
   "id": "67a2091d",
   "metadata": {
    "scrolled": true
   },
   "outputs": [
    {
     "name": "stdout",
     "output_type": "stream",
     "text": [
      "Berikut adalah bentuk dari dictionary kita :\n",
      "{'key': 'value', 'ds': 'Deswinta', 'st': 'Sinta', 'no': 11, 'list': ['ibu', 'ayah', 'adik']}\n",
      "Berikut adalah data yang terpanggil dari \"st\" :\n",
      "Sinta\n"
     ]
    }
   ],
   "source": [
    "# Dictionary (dict) disebut associative array. \n",
    "# Kita mengakses datanya sebagai identifier, tidak seperti data list yang menggunakan indeks\n",
    "# Contoh\n",
    "dataList = ['ibu','ayah','adik']\n",
    "dataNama={\n",
    "    'key': 'value',\n",
    "    'ds' : 'Deswinta',\n",
    "    'st' : 'Sinta',\n",
    "    'no' : 11,\n",
    "    'list' : dataList,     #kita juga dapat mengisi data list pada dictionary\n",
    "}\n",
    "print('Berikut adalah bentuk dari dictionary kita :')\n",
    "print(dataNama) \n",
    "\n",
    "print('Berikut adalah data yang terpanggil dari \"st\" :')\n",
    "print(dataNama['st'])       #kita tidak perlu menggunakan indeks dalam pemanggilan\n"
   ]
  },
  {
   "cell_type": "markdown",
   "id": "55b39a87",
   "metadata": {},
   "source": [
    "##### Operasi Dictionary"
   ]
  },
  {
   "cell_type": "code",
   "execution_count": 32,
   "id": "4b4dc5dc",
   "metadata": {
    "scrolled": true
   },
   "outputs": [
    {
     "name": "stdout",
     "output_type": "stream",
     "text": [
      "Panjang dictionary adalah 3\n",
      "Apakah kupu ada pada dictionary : True\n",
      "Apakah luou ada pada dictionary : False\n",
      "\n",
      "Ini merupakan output dari fungsi get untuk mengakses nilai data pada dictionary :\n",
      "kata kata\n",
      "kata kata\n",
      "None\n",
      "nilai tidak ditemukan\n",
      "\n",
      "Berikut output saat mengupdate data :\n",
      "{'kupu': 'kupu kupu', 'kata': 'kata kata', 'tiba': 'tiba tiba cinta datang'}\n",
      "\n",
      "Berikut output saat menambah data :\n",
      "{'kupu': 'kupu kupu', 'kata': 'kata kata', 'tiba': 'tiba tiba cinta datang', 'aku': 'aku suka kwetiauw'}\n"
     ]
    }
   ],
   "source": [
    "dataDict = {\n",
    "    'kupu' : 'kupu kupu',\n",
    "    'kata' : 'kata kata',\n",
    "    'tiba' : 'tiba tiba'\n",
    "}\n",
    "\n",
    "# panjang dictionary\n",
    "lendict = len(dataDict)\n",
    "print('Panjang dictionary adalah', lendict)\n",
    "\n",
    "# mengecek apakah variabel ada atau tidak\n",
    "key = 'kupu'                 #coba dengan elemen yang benar\n",
    "checkkey = key in dataDict\n",
    "print('Apakah', key, 'ada pada dictionary :', checkkey)\n",
    "key = 'luou'\n",
    "checkkey = key in dataDict   ##coba dengan elemen yang salah\n",
    "print('Apakah', key, 'ada pada dictionary :', checkkey)\n",
    "#output yang akan dimunculkan tipe data boolean, yaitu True or False\n",
    "\n",
    "# mengakses/read nilai pada data dict dengan fungsi get\n",
    "print('\\nIni merupakan output dari fungsi get untuk mengakses nilai data pada dictionary :')\n",
    "print(dataDict['kata'])      #jika kita menggunakan ini, kita sulit membedakan mana dict dan list\n",
    "print(dataDict.get('kata'))  #dengan menggunakan get, kita bisa tau bahwa ini merupakan dictionary\n",
    "print(dataDict.get('etp'))   #karena 'etp' bukan merupakan anggota dict, maka output yang dihasilkan yaitu 'None'\n",
    "print(dataDict.get('etp', 'nilai tidak ditemukan'))   #karena 'etp' bukan anggota dict, kita bisa mengganti output 'None' menjadi pesan yang berbeda\n",
    "\n",
    "# cara mengupdate dan menambah data pada dict\n",
    "print('\\nBerikut output saat mengupdate data :')\n",
    "dataDict.update({'tiba' : 'tiba tiba cinta datang'})   #ketika variabel pada data dict sudah ada, maka fungsi akan mengganti nilainya\n",
    "print(dataDict)\n",
    "print('\\nBerikut output saat menambah data :')\n",
    "dataDict.update({'aku' : 'aku suka kwetiauw'})         #ketika variabel pada data dict belum ada, maka fungsi akan menambah data baru\n",
    "print(dataDict)"
   ]
  },
  {
   "cell_type": "markdown",
   "id": "a34bad80",
   "metadata": {},
   "source": [
    "# 5.19 Fungsi dalam Python"
   ]
  },
  {
   "cell_type": "code",
   "execution_count": 92,
   "id": "bb7590ec",
   "metadata": {},
   "outputs": [
    {
     "name": "stdout",
     "output_type": "stream",
     "text": [
      "Ini adalah fungsi\n"
     ]
    }
   ],
   "source": [
    "# Fungsi di definisikan untu\n",
    "def fungsi():                     #pendefinisian fungsi\n",
    "    print('Ini adalah fungsi')    #tugas fungsi\n",
    "fungsi()                          #pemanggilan fungsi harus setelah fungsi didefinisikan"
   ]
  },
  {
   "cell_type": "code",
   "execution_count": 95,
   "id": "3987265e",
   "metadata": {
    "scrolled": true
   },
   "outputs": [
    {
     "name": "stdout",
     "output_type": "stream",
     "text": [
      "Nama depan anda adalah Putu\n",
      "Nama belakang anda adalah Deswinta\n",
      "\n",
      "Nama lengkapnya adalah Putu Deswinta\n"
     ]
    }
   ],
   "source": [
    "# Fungsi Nama Lengkap menerima input nama depan dan belakang\n",
    "def fullName(firstName,lastName):                              #pendefisian fungsi\n",
    "    print(f'\\nNama lengkapnya adalah {firstName} {lastName}')\n",
    "firstName = input(\"Nama depan anda adalah \")\n",
    "lastName = input(\"Nama belakang anda adalah \")\n",
    "fullName(firstName,lastName)"
   ]
  },
  {
   "cell_type": "code",
   "execution_count": 108,
   "id": "fcbf7abc",
   "metadata": {
    "scrolled": true
   },
   "outputs": [
    {
     "name": "stdout",
     "output_type": "stream",
     "text": [
      "1.3333333333333333\n"
     ]
    }
   ],
   "source": [
    "# Fungsi Waktu tempuh\n",
    "def waktuTempuh(jarak,kecepatan):\n",
    "    waktu = jarak/kecepatan\n",
    "    return waktu\n",
    "    \n",
    "waktuTempuh(80,60)\n",
    "\n",
    "b = waktuTempuh(80,60)\n",
    "print(b)"
   ]
  },
  {
   "cell_type": "code",
   "execution_count": null,
   "id": "8337e58d",
   "metadata": {},
   "outputs": [],
   "source": []
  },
  {
   "cell_type": "code",
   "execution_count": null,
   "id": "405248c8",
   "metadata": {},
   "outputs": [],
   "source": [
    "# Fungsi Luas Segitiga\n",
    "def luasSegitiga(alas, tinggi):\n",
    "    luas = 0.5*alas*tinggi\n",
    "    return luas\n",
    "\n",
    "# Fungsi Luas Lingkaran\n",
    "def luaslingkaran(jari_jari):\n",
    "    luas = 3.14*(jari_jari**2)\n",
    "    return luas\n",
    "\n",
    "# Fungsi Luas Persegi\n",
    "def luaspeserta (jari_jari):\n",
    "    luas = sisi**2\n",
    "    return luas"
   ]
  },
  {
   "cell_type": "markdown",
   "id": "dc28581f",
   "metadata": {},
   "source": [
    "# 5.20 Numpy"
   ]
  },
  {
   "cell_type": "code",
   "execution_count": 73,
   "id": "5e0e31f9",
   "metadata": {},
   "outputs": [],
   "source": [
    "import numpy as np"
   ]
  },
  {
   "cell_type": "code",
   "execution_count": 74,
   "id": "cae085e9",
   "metadata": {
    "scrolled": true
   },
   "outputs": [
    {
     "name": "stdout",
     "output_type": "stream",
     "text": [
      "[0 1 2 3 4]\n"
     ]
    }
   ],
   "source": [
    "a = np.array([0,1,2,3,4])\n",
    "print(a)"
   ]
  },
  {
   "cell_type": "code",
   "execution_count": 79,
   "id": "b25e3fdf",
   "metadata": {
    "scrolled": true
   },
   "outputs": [
    {
     "name": "stdout",
     "output_type": "stream",
     "text": [
      "[[5 6 7 8]\n",
      " [9 8 7 6]]\n"
     ]
    }
   ],
   "source": [
    "b = np.array([[5,6,7,8],[9,8,7,6]])\n",
    "print(b)"
   ]
  },
  {
   "cell_type": "code",
   "execution_count": 94,
   "id": "43737c6c",
   "metadata": {},
   "outputs": [
    {
     "name": "stdout",
     "output_type": "stream",
     "text": [
      "[[[0 1 2 3]\n",
      "  [4 5 6 7]]\n",
      "\n",
      " [[8 9 8 7]\n",
      "  [6 5 4 3]]\n",
      "\n",
      " [[1 2 3 4]\n",
      "  [5 6 7 8]]]\n"
     ]
    }
   ],
   "source": [
    "c = np.array([[[0,1,2,3],[4,5,6,7]],\n",
    "              [[8,9,8,7],[6,5,4,3]],\n",
    "              [[1,2,3,4],[5,6,7,8]]])\n",
    "print(c)"
   ]
  },
  {
   "cell_type": "code",
   "execution_count": 92,
   "id": "0a9d7f90",
   "metadata": {},
   "outputs": [
    {
     "data": {
      "text/plain": [
       "2"
      ]
     },
     "execution_count": 92,
     "metadata": {},
     "output_type": "execute_result"
    }
   ],
   "source": [
    "b.ndim"
   ]
  },
  {
   "cell_type": "code",
   "execution_count": 95,
   "id": "cc8d6175",
   "metadata": {},
   "outputs": [
    {
     "data": {
      "text/plain": [
       "3"
      ]
     },
     "execution_count": 95,
     "metadata": {},
     "output_type": "execute_result"
    }
   ],
   "source": [
    "c.ndim"
   ]
  },
  {
   "cell_type": "code",
   "execution_count": 96,
   "id": "f0047c41",
   "metadata": {
    "scrolled": true
   },
   "outputs": [
    {
     "data": {
      "text/plain": [
       "(3, 2, 4)"
      ]
     },
     "execution_count": 96,
     "metadata": {},
     "output_type": "execute_result"
    }
   ],
   "source": [
    "c.shape"
   ]
  }
 ],
 "metadata": {
  "kernelspec": {
   "display_name": "Python 3 (ipykernel)",
   "language": "python",
   "name": "python3"
  },
  "language_info": {
   "codemirror_mode": {
    "name": "ipython",
    "version": 3
   },
   "file_extension": ".py",
   "mimetype": "text/x-python",
   "name": "python",
   "nbconvert_exporter": "python",
   "pygments_lexer": "ipython3",
   "version": "3.9.13"
  }
 },
 "nbformat": 4,
 "nbformat_minor": 5
}
