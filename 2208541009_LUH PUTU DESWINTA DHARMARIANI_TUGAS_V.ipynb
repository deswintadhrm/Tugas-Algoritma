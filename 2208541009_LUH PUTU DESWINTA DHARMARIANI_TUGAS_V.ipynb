{
 "cells": [
  {
   "cell_type": "markdown",
   "id": "a5e89a72",
   "metadata": {},
   "source": [
    "# 5.16 List 2 Dimensi"
   ]
  },
  {
   "cell_type": "markdown",
   "id": "813eff1b",
   "metadata": {},
   "source": [
    "List 2 dimensi pada umumnya adalah menempatkan sebuah list di dalam list. List 2 Dimensi biasanya menyimpan data yang kompleks seperti maktriks."
   ]
  },
  {
   "cell_type": "code",
   "execution_count": 13,
   "id": "a8ebc758",
   "metadata": {},
   "outputs": [
    {
     "name": "stdout",
     "output_type": "stream",
     "text": [
      "Matriks yang kita miliki adalah :\n",
      "[[1, 2, 3, 4], [5, 6, 7, 8], [9, 10, 11, 12], [13, 14, 15, 16]]\n",
      "\n",
      "Elemen yang terletak di baris ke-3 dan kolom ke-4 yaitu :\n",
      "12\n",
      "\n",
      "Elemen yang terletak di baris ke-4 yaitu :\n",
      "[13, 14, 15, 16]\n",
      "\n",
      "Elemen yang terletak di baris ke-2 dan ke-3 yaitu :\n",
      "[[5, 6, 7, 8], [9, 10, 11, 12]]\n",
      "\n",
      "Berikut Matriks yang rapi dengan menggunakan perulangan for :\n",
      "[1, 0]\n",
      "[0, 1]\n",
      "\n",
      "Berikut contoh lainnya:\n",
      "[1, 2, 3, 4]\n",
      "[5, 6, 7, 8]\n",
      "[9, 10, 11, 12]\n",
      "[13, 14, 15, 16]\n"
     ]
    }
   ],
   "source": [
    "matrix = [[ 1, 2, 3, 4],\n",
    "          [ 5, 6, 7, 8],\n",
    "          [ 9,10,11,12],\n",
    "          [13,14,15,16]]\n",
    "print(\"Matriks yang kita miliki adalah :\")\n",
    "print (matrix)\n",
    "\n",
    "# List 2 Dimensi terlihat seperti ada list di dalam list.\n",
    "# INGAT!! Indeks selalu dimulai dari 0\n",
    "#  - berarti dari matriks diatas terdapat kolom 0, kolom 1, sampai kolom 4\n",
    "#  - dari matriks diatas terdapat baris 0, baris 1, sampai baris 4\n",
    "\n",
    "#Cara menampilkan data pada List 2 Dimensi bisa menggunakan perulangan atau menunjukkan indeksnya\n",
    "\n",
    "###### Menampilkan data dengan menunjukkan indeksnya ######\n",
    "# Contoh, saya ingin mencetak data 12, data 12 terletak pada baris ketiga dan kolom keempat\n",
    "# Karena indeks dimulai dari nol, maka data 12 terletak pada indeks 2 dan 3\n",
    "# Kita bisa menampilkan dengan cara :\n",
    "print(\"\\nElemen yang terletak di baris ke-3 dan kolom ke-4 yaitu :\")\n",
    "print(matrix [2][3])\n",
    "\n",
    "# Kita juga bisa membuatnya tanpa kata \"PRINT\"\n",
    "# Kurung siku pertama menandakan indeks untuk baris dan kurung siku kedua menandakan indeks untuk kolom\n",
    "\n",
    "# Contoh lain, saya ingin mencetak semua data yang ada pada baris keempat\n",
    "# Karena indeks dimulai dari nol, maka baris keempat memiliki indeks 3\n",
    "# Kita bisa menampilkan dengan cara :\n",
    "print(\"\\nElemen yang terletak di baris ke-4 yaitu :\")\n",
    "print(matrix [3])\n",
    "\n",
    "# Kita juga bisa membuatnya tanpa kata \"PRINT\"\n",
    "# Hanya terdapat 1 kurung siku yang menandakan indeks tersebut untuk baris\n",
    "\n",
    "###### Menampilkan data dengan menunjukkan jangkauan indeksnya ######\n",
    "# Contoh, saya ingin mencetak data baris kedua dan ketiga\n",
    "# Karena indeks dimulai dari nol, maka baris jangkauan barisnya terletak pada 1-3 dengan indeks 3 tidak termasuk\n",
    "# Kita bisa menampilkan dengan cara :\n",
    "print(\"\\nElemen yang terletak di baris ke-2 dan ke-3 yaitu :\")\n",
    "print(matrix [1:3])\n",
    "\n",
    "###### Mencetak data Matriks dengan rapi ######\n",
    "# Kita dapat mencetak data matriks dengan rapi menggunakan perulangan for\n",
    "# Posisi entri-entrinya tidak akan mendatar untuk semuanya, namun akan tercetak sama seperti bentuk matriks yang biasa kita lihat\n",
    "print(\"\\nBerikut Matriks yang rapi dengan menggunakan perulangan for :\")\n",
    "matriksId = [[ 1,0],\n",
    "             [0,1]]\n",
    "for baris in matriksId:\n",
    "    print(baris)\n",
    "print(\"\\nBerikut contoh lainnya:\")\n",
    "for baris in matrix:\n",
    "    print(baris)\n",
    "#Saya masih belum tau caranya agar matriks terlihat lebih rapi, karena elemen-elemennya mengandung jumlah digit karakter yang berbeda"
   ]
  },
  {
   "cell_type": "code",
   "execution_count": 20,
   "id": "1056fed7",
   "metadata": {
    "scrolled": false
   },
   "outputs": [
    {
     "name": "stdout",
     "output_type": "stream",
     "text": [
      "Berikut matriks yang memiliki jumlah digit karakter berbeda :\n",
      "1 2 3 4 \n",
      "5 6 7 8 \n",
      "9 10 11 12 \n",
      "13 14 15 16 \n",
      "\n",
      "Berikut matriks yang memiliki 1 digit karakter :\n",
      "1 2 3 \n",
      "2 4 6 \n",
      "3 5 7 \n",
      "\n",
      "Berikut matriks yang memiliki 2 digit karakter :\n",
      "12 13 \n",
      "14 15 \n"
     ]
    }
   ],
   "source": [
    "###### Menampilkan data dengan perulangan menunjuk indeksnya ######\n",
    "print(\"Berikut matriks yang memiliki jumlah digit karakter berbeda :\")\n",
    "for i in range(4):                       #perulangan pertama menunjukkan baris yaitu ada 4 baris\n",
    "    for j in range (4):                  #perulangan kedua menunjukkan kolom yaitu ada 4 kolom\n",
    "        print(matrix[i][j], end=' ')     #agar data yang tercetak terlihat seperti matriks, tambahkan (end=' ')\n",
    "    print()                              #dan ketika perulangan j selesai, kita tambahkan enter dengan \"print()\"\n",
    "    \n",
    "#Saya masih belum tau caranya agar matriks ini terlihat lebih rapi, karena elemen-elemennya mengandung jumlah digit karakter yang berbeda\n",
    "print()\n",
    "\n",
    "#Contoh matriks lainnya\n",
    "print(\"Berikut matriks yang memiliki 1 digit karakter :\")\n",
    "matriks1 =[[1,2,3,4],\n",
    "          [2,4,6,8],\n",
    "          [3,5,7,9]]\n",
    "for i in range(3):                         #perulangan pertama menunjukkan baris yaitu ada 3 baris\n",
    "    for j in range (3):                    #perulangan kedua menunjukkan kolom yaitu ada 3 kolom\n",
    "        print(matriks1[i][j], end=' ')     #agar data yang tercetak terlihat seperti matriks, tambahkan (end=' ')\n",
    "    print()                                #dan ketika perulangan j selesai, kita tambahkan enter dengan \"print()\"\n",
    "    \n",
    "print()\n",
    "print(\"Berikut matriks yang memiliki 2 digit karakter :\")\n",
    "matriks2 =[[12,13],\n",
    "          [14,15]]\n",
    "for i in range(2):                         #perulangan pertama menunjukkan baris yaitu ada 2 baris\n",
    "    for j in range (2):                    #perulangan kedua menunjukkan kolom yaitu ada 2 kolom\n",
    "        print(matriks2[i][j], end=' ')     #agar data yang tercetak terlihat seperti matriks, tambahkan (end=' ')\n",
    "    print()                                #dan ketika perulangan j selesai, kita tambahkan enter dengan \"print()\"\n",
    "    \n",
    "    "
   ]
  },
  {
   "cell_type": "code",
   "execution_count": 54,
   "id": "8c9f7194",
   "metadata": {
    "scrolled": true
   },
   "outputs": [
    {
     "name": "stdout",
     "output_type": "stream",
     "text": [
      "Berikut hasil matriks dengan perulangan tanpa menunjuk indeksnya :\n",
      "1 2 3 4 \n",
      "5 6 7 8 \n",
      "9 10 11 12 \n",
      "13 14 15 16 \n",
      "\n",
      "Berikut contoh lainnya :\n",
      "1 2 3 4 \n",
      "2 4 6 8 \n",
      "3 5 7 9 \n"
     ]
    }
   ],
   "source": [
    "###### Menampilkan data dengan perulangan tanpa menunjuk indeksnya ######\n",
    "print(\"Berikut hasil matriks dengan perulangan tanpa menunjuk indeksnya :\")\n",
    "for i in matrix:               #kita akan mengakses data pada variabel matrix, i akan menunjukkan elemen pada setiap baris\n",
    "    for j in i:                #j akan menunjukkan setiap elemen pada kolom\n",
    "        print(j, end=' ')      #agar data yang tercetak terlihat seperti matriks, tambahkan (end=' ')\n",
    "    print()                    #dan ketika perulangan j selesai, kita tambahkan enter dengan \"print()\"\n",
    "\n",
    "print()\n",
    "\n",
    "#Contoh lain\n",
    "print(\"Berikut contoh lainnya :\")\n",
    "for i in matriks1:             #kita akan mengakses data pada variabel matrix, i akan menunjukkan elemen pada setiap baris\n",
    "    for j in i:                #j akan menunjukkan setiap elemen pada kolom\n",
    "        print(j, end=' ')      #agar data yang tercetak terlihat seperti matriks, tambahkan (end=' ')\n",
    "    print()                    #dan ketika perulangan j selesai, kita tambahkan enter dengan \"print()\""
   ]
  },
  {
   "cell_type": "code",
   "execution_count": 117,
   "id": "6e22360f",
   "metadata": {
    "scrolled": true
   },
   "outputs": [
    {
     "name": "stdout",
     "output_type": "stream",
     "text": [
      "Berikut output list data dengan biasa : [0, 1, 2, 3]\n",
      "Berikut output menggabungan list yang berbeda : [[0, 1], [2, 3]]\n"
     ]
    }
   ],
   "source": [
    "# Kita juga bisa menggabungkan list-list yang kita miliki\n",
    "data1 = [0,1]\n",
    "data2 = [2,3]\n",
    "listdataBiasa = [0,1,2,3]\n",
    "listGabungan = [data1,data2]\n",
    "print(\"Berikut output list data dengan biasa :\", listdataBiasa)\n",
    "print(\"Berikut output menggabungan list yang berbeda :\", listGabungan)"
   ]
  },
  {
   "cell_type": "markdown",
   "id": "6c17de58",
   "metadata": {},
   "source": [
    "###### Contoh (1) "
   ]
  },
  {
   "cell_type": "code",
   "execution_count": 85,
   "id": "9908a0e7",
   "metadata": {
    "scrolled": true
   },
   "outputs": [
    {
     "name": "stdout",
     "output_type": "stream",
     "text": [
      "Berikut merupakan biodata mahasiswa Prodi Matematika Angkatan 2022 :\n",
      "Nama          : Dudung\n",
      "Umur          : 18\n",
      "Jenis Kelamin : Perempuan\n",
      "\n",
      "Nama          : Ucup\n",
      "Umur          : 20\n",
      "Jenis Kelamin : Laki-laki\n",
      "\n",
      "Nama          : Bunga\n",
      "Umur          : 19\n",
      "Jenis Kelamin : Perempuan\n",
      "\n",
      "Nama          : Gaia\n",
      "Umur          : 19\n",
      "Jenis Kelamin : Perempuan\n",
      "\n",
      "Nama          : Axel\n",
      "Umur          : 20\n",
      "Jenis Kelamin : Laki-laki\n",
      "\n"
     ]
    }
   ],
   "source": [
    "# Kita memiliki data biodata mahasiswa Prodi Matematika Angkatan 2022\n",
    "mhs1 = ['Dudung',18,'Perempuan']\n",
    "mhs2 = ['Ucup',20,'Laki-laki']\n",
    "mhs3 = ['Bunga',19,'Perempuan']\n",
    "mhs4 = ['Gaia',19,'Perempuan']\n",
    "mhs5 = ['Axel',20,'Laki-laki']\n",
    "\n",
    "listMhs = [mhs1,mhs2,mhs3,mhs4,mhs5]\n",
    "print(\"Berikut merupakan biodata mahasiswa Prodi Matematika Angkatan 2022 :\")\n",
    "for mhs in listMhs:\n",
    "    print(\"Nama          :\", mhs[0])\n",
    "    print('Umur          :', mhs[1])\n",
    "    print('Jenis Kelamin :', mhs[2])\n",
    "    print()"
   ]
  },
  {
   "cell_type": "markdown",
   "id": "8889f05f",
   "metadata": {},
   "source": [
    "###### Contoh (2) "
   ]
  },
  {
   "cell_type": "code",
   "execution_count": 86,
   "id": "fa9e1cdf",
   "metadata": {},
   "outputs": [
    {
     "name": "stdout",
     "output_type": "stream",
     "text": [
      "Masukkan data buku\n",
      "Judul buku\t: Rentang Kisah\n",
      "Nama penulis\t: Gita Savitri Devi\n",
      "\n",
      " ==================== Data Buku Perpustakaan ====================\n",
      "No. | Judul\t\t\t | Penulis\n",
      "1   | Rentang Kisah \t\t | Gita Savitri Devi\n",
      "\n",
      " ==================================================================\n",
      "Apakah ingin menginput lagi? (y/n)y\n",
      "Masukkan data buku\n",
      "Judul buku\t: Masih Belajar\n",
      "Nama penulis\t: Iman Usman\n",
      "\n",
      " ==================== Data Buku Perpustakaan ====================\n",
      "No. | Judul\t\t\t | Penulis\n",
      "1   | Rentang Kisah \t\t | Gita Savitri Devi\n",
      "2   | Masih Belajar \t\t | Iman Usman\n",
      "\n",
      " ==================================================================\n",
      "Apakah ingin menginput lagi? (y/n)n\n",
      "-Terima Kasih-\n"
     ]
    }
   ],
   "source": [
    "# Program List Buku Perpustakaan\n",
    "listBuku = []                                                     #list kosong sebagai penampung list yang baru diinput\n",
    "while True:                                                       #gunakan perulangan while agar perulangan diolah sampai kita cancel \n",
    "    print('Masukkan data buku')\n",
    "    judul = input('Judul buku\\t: ')\n",
    "    penulis = input('Nama penulis\\t: ')\n",
    "    buku = [judul,penulis]                                        #menggabungkan list yang kita miliki\n",
    "    listBuku.append(buku)                                         #fungsi append untuk menambahkan list baru pada list kosong\n",
    "    \n",
    "    print('\\n','='*20,'Data Buku Perpustakaan','='*20)\n",
    "    print('No.','|','Judul\\t\\t\\t','|','Penulis' )                 # '\\t' memiliki fungsi sebagai tab, untuk merapikan indentasi output   \n",
    "    for index,kumBuku in enumerate(listBuku):                     #gunakan looping untuk print buku, enumerate digunakan agar kita mengetahui indexnya\n",
    "        print(index+1,' ','|',kumBuku[0],'\\t\\t','|',kumBuku[1])   #indeks pada python selalu dimulai dari nol, maka kita tambahkan 1 agar nomor dapat dimulai dari 1\n",
    "    \n",
    "    print('\\n','='*66)\n",
    "    lanjut = input('Apakah ingin menginput lagi? (y/n)')          #karena while tidak akan berhenti tanpa ada cancel,\n",
    "    if lanjut == 'n':                                             #maka kita buatkan looping for untuk menyelesaikan input ketika input ingin diselesaikan\n",
    "        break                                                     #break digunakan untuk menghentikan perulangan\n",
    "        \n",
    "print(\"-Terima Kasih-\")"
   ]
  },
  {
   "cell_type": "markdown",
   "id": "8c684978",
   "metadata": {},
   "source": [
    "# 5.17 Tuples"
   ]
  },
  {
   "cell_type": "markdown",
   "id": "0db2afdd",
   "metadata": {},
   "source": [
    "Tuple merupakan collection data type, artinya tuple dapat digunakan untuk menampung sekumpulan nilai/data.\n",
    "Tuple merupakan sequence data type, artinya nilai/data yang tersimpan di dalam tuple dapat diakses berdasarkan urutan penyimpanannya. Dalam hal ini kita dapat memanfaatkan index.\n",
    "Tuple merupakan immutable data type, artinya kita tidak dapat mengubah, menambah, ataupun menghapus nilai/data yang ditampung di dalam sebuah tuple."
   ]
  },
  {
   "cell_type": "code",
   "execution_count": 92,
   "id": "65320fca",
   "metadata": {},
   "outputs": [
    {
     "name": "stdout",
     "output_type": "stream",
     "text": [
      "Pendefinisian variabel dengan mengapit kumpulan data menggunakan tanda kurung :\n",
      "(0, 1, 1, 3, 4, 5)\n",
      "\n",
      "Pendefinisian variabel tanpa mengapit kumpulan data menggunakan tanda kurung :\n",
      "(0, 1, 1, 3, 4, 5)\n",
      "\n",
      "Pendefinisian variabel yang hanya memiliki satu elemen :\n",
      "(15,)\n",
      "\n",
      "Tuple dapat menampung sekumpulan nilai dengan tipe data yang bervariasi :\n",
      "(2, 5, 3.3, 'deswinta', 5, 2, ['x', 'y'], True, 1, 5, 2.3, 3.3, 2)\n",
      "\n",
      "Berikut frekuensi nilai 2 pada Tuple1 : 3\n",
      "\n",
      "Berikut letak 'deswinta' pada Tuple1 : 3\n"
     ]
    }
   ],
   "source": [
    "print(\"Pendefinisian variabel dengan mengapit kumpulan data menggunakan tanda kurung :\")\n",
    "angka = (0,1,1,3,4,5)\n",
    "print(angka)\n",
    "print(\"\\nPendefinisian variabel tanpa mengapit kumpulan data menggunakan tanda kurung :\")\n",
    "angka = 0,1,1,3,4,5\n",
    "print(angka)\n",
    "# Suatu Tuples tidak harus didefinisikan dengan mengapit kumpulan data dengan tanda kurung\n",
    "# Output yang tercetak juga tetap Tuple\n",
    "\n",
    "# Bagaimana jika suatu Tuple hanya memiliki 1 elemen?\n",
    "# agar definisi Tuple tidak terindentifikasi sebagai int, \n",
    "# data Tuple dapat didefinisikan sebagai berikut\n",
    "print(\"\\nPendefinisian variabel yang hanya memiliki satu elemen :\")\n",
    "satuE = 15,\n",
    "print(satuE)\n",
    "\n",
    "# Tuple juga dapat menampung sekumpulan nilai dengan tipe data yang bervariasi\n",
    "print(\"\\nTuple dapat menampung sekumpulan nilai dengan tipe data yang bervariasi :\")\n",
    "tuple1 = (2,5,3.3,'deswinta',5,2,['x','y'],True,1,5,2.3,3.3,2 )\n",
    "print(tuple1)\n",
    "# Dapat dilihat tuple1 dapat menampung nilai-nilai dengan tipe data yang beragam\n",
    "# Seperti contoh di atas terdapat tipe data int, float, string, list dan boolean \n",
    "# di dalam suatu tuple kita juga dapat menyimpan list dan suatu tuple lainnya\n",
    "\n",
    "# Untuk menghitung frekuensi nilai yang kita miliki dalam Tuple\n",
    "# kita dapat menggunakan fungsi count\n",
    "print(\"\\nBerikut frekuensi nilai 2 pada Tuple1 :\", tuple1.count(2))\n",
    "\n",
    "# Untuk mengetahui urutan nilai dalam Tuple\n",
    "# kita dapat menggunakan fungsi index\n",
    "print(\"\\nBerikut letak 'deswinta' pada Tuple1 :\", tuple1.index('deswinta'))"
   ]
  },
  {
   "cell_type": "raw",
   "id": "1a7a9341",
   "metadata": {},
   "source": [
    "Karena Tuple immutable data type, maka fungsi append dan remove tidak dapat digunakan \n",
    "\n",
    "angka.append(10)\n",
    "angka.remove(5)"
   ]
  },
  {
   "cell_type": "markdown",
   "id": "d9b6c77d",
   "metadata": {},
   "source": [
    "# 5.18 Dictionaries"
   ]
  },
  {
   "cell_type": "markdown",
   "id": "5d621fff",
   "metadata": {},
   "source": [
    "##### Dictionary"
   ]
  },
  {
   "cell_type": "code",
   "execution_count": 12,
   "id": "67a2091d",
   "metadata": {
    "scrolled": true
   },
   "outputs": [
    {
     "name": "stdout",
     "output_type": "stream",
     "text": [
      "Berikut adalah bentuk dari dictionary kita :\n",
      "{'key': 'value', 'ds': 'Deswinta', 'st': 'Sinta', 'no': 11, 'list': ['ibu', 'ayah', 'adik']}\n",
      "Berikut adalah data yang terpanggil dari \"st\" :\n",
      "Sinta\n"
     ]
    }
   ],
   "source": [
    "# Dictionary (dict) disebut associative array. \n",
    "# Kita mengakses datanya sebagai identifier, tidak seperti data list yang menggunakan indeks\n",
    "# Contoh\n",
    "dataList = ['ibu','ayah','adik']\n",
    "dataNama={\n",
    "    'key': 'value',\n",
    "    'ds' : 'Deswinta',\n",
    "    'st' : 'Sinta',\n",
    "    'no' : 11,\n",
    "    'list' : dataList,     #kita juga dapat mengisi data list pada dictionary\n",
    "}\n",
    "print('Berikut adalah bentuk dari dictionary kita :')\n",
    "print(dataNama) \n",
    "\n",
    "print('Berikut adalah data yang terpanggil dari \"st\" :')\n",
    "print(dataNama['st'])       #kita tidak perlu menggunakan indeks dalam pemanggilan\n"
   ]
  },
  {
   "cell_type": "markdown",
   "id": "80324845",
   "metadata": {},
   "source": [
    "##### Operasi Dictionary"
   ]
  },
  {
   "cell_type": "code",
   "execution_count": 32,
   "id": "e1657d38",
   "metadata": {
    "scrolled": true
   },
   "outputs": [
    {
     "name": "stdout",
     "output_type": "stream",
     "text": [
      "Panjang dictionary adalah 3\n",
      "Apakah kupu ada pada dictionary : True\n",
      "Apakah luou ada pada dictionary : False\n",
      "\n",
      "Ini merupakan output dari fungsi get untuk mengakses nilai data pada dictionary :\n",
      "kata kata\n",
      "kata kata\n",
      "None\n",
      "nilai tidak ditemukan\n",
      "\n",
      "Berikut output saat mengupdate data :\n",
      "{'kupu': 'kupu kupu', 'kata': 'kata kata', 'tiba': 'tiba tiba cinta datang'}\n",
      "\n",
      "Berikut output saat menambah data :\n",
      "{'kupu': 'kupu kupu', 'kata': 'kata kata', 'tiba': 'tiba tiba cinta datang', 'aku': 'aku suka kwetiauw'}\n"
     ]
    }
   ],
   "source": [
    "dataDict = {\n",
    "    'kupu' : 'kupu kupu',\n",
    "    'kata' : 'kata kata',\n",
    "    'tiba' : 'tiba tiba'\n",
    "}\n",
    "\n",
    "# panjang dictionary\n",
    "lendict = len(dataDict)\n",
    "print('Panjang dictionary adalah', lendict)\n",
    "\n",
    "# mengecek apakah variabel ada atau tidak\n",
    "key = 'kupu'                 #coba dengan elemen yang benar\n",
    "checkkey = key in dataDict\n",
    "print('Apakah', key, 'ada pada dictionary :', checkkey)\n",
    "key = 'luou'\n",
    "checkkey = key in dataDict   ##coba dengan elemen yang salah\n",
    "print('Apakah', key, 'ada pada dictionary :', checkkey)\n",
    "#output yang akan dimunculkan tipe data boolean, yaitu True or False\n",
    "\n",
    "# mengakses/read nilai pada data dict dengan fungsi get\n",
    "print('\\nIni merupakan output dari fungsi get untuk mengakses nilai data pada dictionary :')\n",
    "print(dataDict['kata'])      #jika kita menggunakan ini, kita sulit membedakan mana dict dan list\n",
    "print(dataDict.get('kata'))  #dengan menggunakan get, kita bisa tau bahwa ini merupakan dictionary\n",
    "print(dataDict.get('etp'))   #karena 'etp' bukan merupakan anggota dict, maka output yang dihasilkan yaitu 'None'\n",
    "print(dataDict.get('etp', 'nilai tidak ditemukan'))   #karena 'etp' bukan anggota dict, kita bisa mengganti output 'None' menjadi pesan yang berbeda\n",
    "\n",
    "# cara mengupdate dan menambah data pada dict\n",
    "print('\\nBerikut output saat mengupdate data :')\n",
    "dataDict.update({'tiba' : 'tiba tiba cinta datang'})   #ketika variabel pada data dict sudah ada, maka fungsi akan mengganti nilainya\n",
    "print(dataDict)\n",
    "print('\\nBerikut output saat menambah data :')\n",
    "dataDict.update({'aku' : 'aku suka kwetiauw'})         #ketika variabel pada data dict belum ada, maka fungsi akan menambah data baru\n",
    "print(dataDict)"
   ]
  },
  {
   "cell_type": "markdown",
   "id": "a34bad80",
   "metadata": {},
   "source": [
    "# 5.19 Fungsi dalam Python"
   ]
  },
  {
   "cell_type": "code",
   "execution_count": 165,
   "id": "cc8905d2",
   "metadata": {},
   "outputs": [
    {
     "name": "stdout",
     "output_type": "stream",
     "text": [
      "Ini adalah fungsi\n"
     ]
    }
   ],
   "source": [
    "# Fungsi di definisikan untuk meringkas kerja\n",
    "def fungsi():                     #pendefinisian fungsi\n",
    "    print('Ini adalah fungsi')    #tugas fungsi\n",
    "fungsi()                          #pemanggilan fungsi harus setelah fungsi didefinisikan"
   ]
  },
  {
   "cell_type": "code",
   "execution_count": 95,
   "id": "3987265e",
   "metadata": {
    "scrolled": true
   },
   "outputs": [
    {
     "name": "stdout",
     "output_type": "stream",
     "text": [
      "Nama depan anda adalah Putu\n",
      "Nama belakang anda adalah Deswinta\n",
      "\n",
      "Nama lengkapnya adalah Putu Deswinta\n"
     ]
    }
   ],
   "source": [
    "# Fungsi Nama Lengkap menerima input nama depan dan belakang\n",
    "def fullName(firstName,lastName):                              #pendefisian fungsi\n",
    "    print(f'\\nNama lengkapnya adalah {firstName} {lastName}')\n",
    "firstName = input(\"Nama depan anda adalah \")\n",
    "lastName = input(\"Nama belakang anda adalah \")\n",
    "fullName(firstName,lastName)"
   ]
  },
  {
   "cell_type": "code",
   "execution_count": 108,
   "id": "fcbf7abc",
   "metadata": {
    "scrolled": true
   },
   "outputs": [
    {
     "name": "stdout",
     "output_type": "stream",
     "text": [
      "1.3333333333333333\n"
     ]
    }
   ],
   "source": [
    "# Fungsi Waktu tempuh\n",
    "def waktuTempuh(jarak,kecepatan):\n",
    "    waktu = jarak/kecepatan\n",
    "    return waktu\n",
    "    \n",
    "waktuTempuh(80,60)\n",
    "\n",
    "b = waktuTempuh(80,60)\n",
    "print(b)"
   ]
  },
  {
   "cell_type": "code",
   "execution_count": 112,
   "id": "ce1fe5e3",
   "metadata": {},
   "outputs": [],
   "source": [
    "# Fungsi Luas Segitiga\n",
    "def luasSegitiga(alas, tinggi):\n",
    "    luas = 0.5*alas*tinggi\n",
    "    return luas\n",
    "\n",
    "# Fungsi Luas Lingkaran\n",
    "def luasLingkaran(jari_jari):\n",
    "    luas = 3.14*(jari_jari**2)\n",
    "    return luas\n",
    "\n",
    "# Fungsi Luas Persegi\n",
    "def luasPersegi (sisi):\n",
    "    luas = sisi**2\n",
    "    return luas\n",
    "\n",
    "# Fungsi Luas Persegi Panjang\n",
    "def luasPersegiPanjang (panjang, lebar):\n",
    "    luas = panjang*lebar\n",
    "    return luas"
   ]
  },
  {
   "cell_type": "code",
   "execution_count": 174,
   "id": "434e9b0e",
   "metadata": {
    "scrolled": false
   },
   "outputs": [
    {
     "name": "stdout",
     "output_type": "stream",
     "text": [
      "Selamat datang pada program sederhana mencari Luas suatu bidang :)\n",
      "Silakan memasukkan bidang yang ingin anda hitung (dalam huruf kapital) : LINGKARAN\n",
      "Berapakah jari-jarinya? (dalam cm) 1\n",
      "Luas LINGKARAN adalah 3.14\n",
      "Apakah ingin menginput lagi? (y/n)y\n",
      "Selamat datang pada program sederhana mencari Luas suatu bidang :)\n",
      "Silakan memasukkan bidang yang ingin anda hitung (dalam huruf kapital) : TRAPESIUM\n",
      "Mohon coba kembali, bidang yang anda input tidak tersedia untuk saat ini\n",
      "\n",
      "Apakah ingin menginput lagi? (y/n)n\n",
      "----Program Selesai Terimakasih----\n",
      "\n",
      "\n"
     ]
    }
   ],
   "source": [
    "# Contoh Penggunaan dengan IF dan ELIF Statement\n",
    "def header():\n",
    "    print('Selamat datang pada program sederhana mencari Luas suatu bidang :)')\n",
    "\n",
    "while True:                                                         #menggunakan while agar fungsi bisa diberhentikan\n",
    "    header()\n",
    "    jenisBid = input('Silakan memasukkan bidang yang ingin anda hitung (dalam huruf kapital) : ')\n",
    "    if jenisBid == 'SEGITIGA':\n",
    "        alas = float(input('Berapakah alasnya? (dalam cm) '))\n",
    "        tinggi = float(input('Berapakah tingginya? (dalam cm) '))\n",
    "        luas = luasSegitiga(alas, tinggi)\n",
    "        print(F'Luas {jenisBid} adalah {luas}')\n",
    "    elif jenisBid == 'LINGKARAN':\n",
    "        jari_jari = float(input('Berapakah jari-jarinya? (dalam cm) '))\n",
    "        luas = luasLingkaran(jari_jari)\n",
    "        print(F'Luas {jenisBid} adalah {luas}')\n",
    "    elif jenisBid == 'PERSEGI':\n",
    "        sisi = float(input('Berapakah panjang sisinya? (dalam cm) '))\n",
    "        luas = luasPersegi (sisi)\n",
    "        print(F'Luas {jenisBid} adalah {luas}')\n",
    "    elif jenisBid == 'PERSEGI PANJANG':\n",
    "        lebar = float(input('Berapakah lebarnya? (dalam cm) '))\n",
    "        panjang = float(input('Berapakah panjangnya? (dalam cm) '))\n",
    "        luas = luasPersegiPanjang (panjang, lebar)\n",
    "        print(F'Luas {jenisBid} adalah {luas}')  \n",
    "    else:\n",
    "        print('Mohon coba kembali, bidang yang anda input tidak tersedia untuk saat ini\\n')\n",
    "    lanjut = input('Apakah ingin menginput lagi? (y/n)')          #karena while tidak akan berhenti tanpa ada cancel,\n",
    "    if lanjut == 'n':                                             #maka kita buatkan looping for untuk menyelesaikan input ketika input ingin diselesaikan\n",
    "        break \n",
    "print('----Program Selesai Terimakasih----\\n\\n')\n"
   ]
  },
  {
   "cell_type": "code",
   "execution_count": 183,
   "id": "b09ed021",
   "metadata": {
    "scrolled": true
   },
   "outputs": [
    {
     "name": "stdout",
     "output_type": "stream",
     "text": [
      "Masukkan deret bilangan (pisahkan dengan koma): 1,2,3,4,5\n",
      "Data : [1, 2, 3, 4, 5]\n",
      "Mean : 3\n"
     ]
    }
   ],
   "source": [
    "# Contoh Fungsi RETURN\n",
    "\n",
    "import statistics    #mengimpor modul statistika\n",
    "\n",
    "inputan = input('Masukkan deret bilangan (pisahkan dengan koma): ')\n",
    "data = []    #menyiapkan data kosong sebagai tempat inputan\n",
    "\n",
    "# konversi inputan ke dalam list yg berisi integer\n",
    "for bilangan in inputan.split(','):    #diberikan split, karena inputan berisi tanda koma\n",
    "    data.append(int(bilangan))         #mencari panjang/banyak data\n",
    "\n",
    "rerata = statistics.mean(data)        #gunakan fungsi yang ada pada modul statistika\n",
    "print(f'Data : {data}')               #memunculkan data terinput\n",
    "print(f'Mean : {rerata}')             #memberi output berupak hasil rata-rata"
   ]
  },
  {
   "cell_type": "code",
   "execution_count": null,
   "id": "6958898f",
   "metadata": {},
   "outputs": [],
   "source": [
    "# Fungsi Return\n",
    "def namaFungsi (argument):\n",
    "    badan fungsi\n",
    "    return output"
   ]
  },
  {
   "cell_type": "code",
   "execution_count": 168,
   "id": "9eb3f970",
   "metadata": {},
   "outputs": [
    {
     "name": "stdout",
     "output_type": "stream",
     "text": [
      "9\n"
     ]
    }
   ],
   "source": [
    "# Contoh Fungsi\n",
    "def kuadrat(input):\n",
    "    outputKuadrat = input**2\n",
    "    return outputKuadrat\n",
    "\n",
    "y = kuadrat(3)\n",
    "print(y)"
   ]
  },
  {
   "cell_type": "code",
   "execution_count": 190,
   "id": "853fedb7",
   "metadata": {},
   "outputs": [
    {
     "name": "stdout",
     "output_type": "stream",
     "text": [
      "Masukkan panjang deret:10\n",
      "[0, 1, 1, 2, 3, 5, 8, 13, 21, 34]\n"
     ]
    }
   ],
   "source": [
    "# Contoh memunculkan deret Fibonacci\n",
    "def fibonacci (n):\n",
    "    if n < 1:\n",
    "        return [n]\n",
    "\n",
    "    listSebelumN = fibonacci(n - 1)\n",
    "    angka1 = listSebelumN[-2] if len(listSebelumN) > 2 else 0\n",
    "    angka2 = listSebelumN[-1] if len(listSebelumN) > 2 else 1 \n",
    "    \n",
    "    return listSebelumN + [angka1 + angka2]\n",
    "\n",
    "panjang = int(input('Masukkan panjang deret:'))\n",
    "\n",
    "# kita kurangin satu agar tidak kelebihan\n",
    "print(fibonacci(panjang - 1))"
   ]
  },
  {
   "cell_type": "markdown",
   "id": "dc28581f",
   "metadata": {},
   "source": [
    "# 5.20 Numpy"
   ]
  },
  {
   "cell_type": "code",
   "execution_count": 209,
   "id": "5e0e31f9",
   "metadata": {},
   "outputs": [],
   "source": [
    "#mengimpor numpy dan menggunakan nama alias np agar tidak ngetik kepanjangan\n",
    "import numpy as np "
   ]
  },
  {
   "cell_type": "markdown",
   "id": "9fa41ef6",
   "metadata": {},
   "source": [
    "##### 5.20.1 Perintah Dasar pada Numpy"
   ]
  },
  {
   "cell_type": "code",
   "execution_count": 212,
   "id": "cae085e9",
   "metadata": {
    "scrolled": true
   },
   "outputs": [
    {
     "name": "stdout",
     "output_type": "stream",
     "text": [
      "\n",
      "Output array 1 dimensi : \n",
      "[0 1 2 3 4]\n",
      "\n",
      "Output array 2 dimensi : \n",
      "[[5 6 7 8]\n",
      " [9 8 7 6]]\n",
      "\n",
      "Output array 3 dimensi : \n",
      "[[[0 1 2 3]\n",
      "  [4 5 6 7]]\n",
      "\n",
      " [[8 9 8 7]\n",
      "  [6 5 4 3]]\n",
      "\n",
      " [[1 2 3 4]\n",
      "  [5 6 7 8]]]\n",
      "\n",
      "Output data array a dengan indeks 3 : \n",
      "3\n"
     ]
    }
   ],
   "source": [
    "# membuat array dengan numpy\n",
    "print('\\nOutput array 1 dimensi : ')\n",
    "a = np.array([0,1,2,3,4])\n",
    "print(a)\n",
    "\n",
    "print('\\nOutput array 2 dimensi : ')\n",
    "b = np.array([[5,6,7,8],[9,8,7,6]])\n",
    "print(b)\n",
    "\n",
    "print('\\nOutput array 3 dimensi : ')\n",
    "c = np.array([[[0,1,2,3],[4,5,6,7]],\n",
    "              [[8,9,8,7],[6,5,4,3]],\n",
    "              [[1,2,3,4],[5,6,7,8]]])\n",
    "print(c)\n",
    "\n",
    "#mengakses data array\n",
    "print('\\nOutput data array a dengan indeks 3 : ')\n",
    "print(a[3])  #mengakses data pada array di numpy sama seperti list"
   ]
  },
  {
   "cell_type": "code",
   "execution_count": 92,
   "id": "0a9d7f90",
   "metadata": {},
   "outputs": [
    {
     "data": {
      "text/plain": [
       "2"
      ]
     },
     "execution_count": 92,
     "metadata": {},
     "output_type": "execute_result"
    }
   ],
   "source": [
    "#ndim digunakan untuk mengecek dimensi pada array\n",
    "b.ndim"
   ]
  },
  {
   "cell_type": "code",
   "execution_count": 207,
   "id": "f0047c41",
   "metadata": {
    "scrolled": true
   },
   "outputs": [
    {
     "data": {
      "text/plain": [
       "(3, 2, 4)"
      ]
     },
     "execution_count": 207,
     "metadata": {},
     "output_type": "execute_result"
    }
   ],
   "source": [
    "#shape digunakan untuk mengecek dimensi, baris dan kolom suatu array\n",
    "c.shape"
   ]
  },
  {
   "cell_type": "raw",
   "id": "b0aacfe0",
   "metadata": {},
   "source": [
    "#saya mendapatkan ini dari internet sebagai tambahan materi\n",
    "Berikut beberapa fungsi yang dapat digunakan dalam membuat array antara lain zeros(), ones(), arange(), linspace(), logspace(),\n",
    "\n",
    "zeros()    : Membuat array dengan nilai 0\n",
    "ones()     : Membuat array dengan nilai 1\n",
    "arange()   : Membuat array dengan nilai dalam range \n",
    "linspace() : Membuat array dengan nilai dalam interval\n",
    "logspace() : Membuat array dengan nilai log Base10 dalam interval\n",
    "\n",
    "#Contoh\n",
    "np.zeros(3) # membuat array dengan nilai 0 sebanyak 3 \n",
    "np.ones(6) # membuat array dengan nilai 1 sebanyak 5 \n",
    "np.arange(3, 12, 2) #arange(start, stop, step)\n",
    "np.linspace(1, 20, 3) # linespace(start, stop, number)\n",
    "np.logspace(4, 50, 5) # logspace(start, stop, number)"
   ]
  },
  {
   "cell_type": "markdown",
   "id": "19c6bb3e",
   "metadata": {},
   "source": [
    "##### 5.20.2 Memanggil Anggota, Kolom dan Baris dengan Numpy"
   ]
  },
  {
   "cell_type": "code",
   "execution_count": 219,
   "id": "6012571c",
   "metadata": {
    "scrolled": true
   },
   "outputs": [
    {
     "name": "stdout",
     "output_type": "stream",
     "text": [
      "[[ 1  2  3  4]\n",
      " [ 5  6  7  8]\n",
      " [ 9 10 11 12]]\n",
      "4\n",
      "[5 6 7 8]\n",
      "[ 3  7 11]\n",
      "[1 3]\n",
      "[[100   2   3   4]\n",
      " [  5   6   7   8]\n",
      " [  9  10  11  12]]\n"
     ]
    }
   ],
   "source": [
    "d = np.array([[1,2,3,4],[5,6,7,8],[9,10,11,12]]) #menginisialisasi variabel\n",
    "print(d)                                         #mencetak array\n",
    "\n",
    "print (d[0,3])       #indeks pada python selalu dimulai dari 0, maka ini mencetak elemen array d yg berada di baris 1 kolom 4\n",
    "print(d[1,:])        #untuk mencetak semua elemen pada baris kedua \n",
    "print(d[:,2])        #untuk mencetak semua elemen pada kolom ketiga\n",
    "print(d[0,0:3:2])    #untuk baris pertama, kolom pertama sampai kolom 3 dengan loncatan 2\n",
    "\n",
    "d[0,0] = 100         #ketika ingin mengubah suatu elemen pada array\n",
    "print(d)             #untuk mencetak perintah"
   ]
  },
  {
   "cell_type": "markdown",
   "id": "95f870f5",
   "metadata": {},
   "source": [
    "##### 5.20.3 Matrix pada Numpy"
   ]
  },
  {
   "cell_type": "code",
   "execution_count": 240,
   "id": "af09a167",
   "metadata": {
    "scrolled": false
   },
   "outputs": [
    {
     "name": "stdout",
     "output_type": "stream",
     "text": [
      "Output matriks anggota 1 dengan baris 2 dan kolom 3 : \n",
      "[[1. 1. 1.]\n",
      " [1. 1. 1.]]\n",
      "\n",
      "Output matriks anggota 0 dengan baris 3 dan kolom 2 : \n",
      "[[0. 0.]\n",
      " [0. 0.]\n",
      " [0. 0.]]\n",
      "\n",
      "Output matriks identitas 4 x 4 : \n",
      "[[1. 0. 0. 0.]\n",
      " [0. 1. 0. 0.]\n",
      " [0. 0. 1. 0.]\n",
      " [0. 0. 0. 1.]]\n",
      "\n",
      "Output matriks anggota 1 dengan jumlah matriks 2, 3 baris dan 4 kolom : \n",
      "[[[1. 1. 1. 1.]\n",
      "  [1. 1. 1. 1.]\n",
      "  [1. 1. 1. 1.]]\n",
      "\n",
      " [[1. 1. 1. 1.]\n",
      "  [1. 1. 1. 1.]\n",
      "  [1. 1. 1. 1.]]]\n",
      "\n",
      "Output matriks anggota 9 dengan 3 baris dan 2 kolom : \n",
      "[[9 9]\n",
      " [9 9]\n",
      " [9 9]]\n",
      "\n",
      "Output matriks anggota random dengan 4 baris dan 3 kolom : \n",
      "[[0.00307041 0.57991713 0.312947  ]\n",
      " [0.446758   0.49173617 0.11790004]\n",
      " [0.60733415 0.42571899 0.48412442]\n",
      " [0.7055605  0.35400399 0.24398799]]\n",
      "\n",
      "Output matriks anggota random integer 1-10 dengan 3 baris dan 4 kolom : \n",
      "[[5 5 1 3]\n",
      " [2 3 9 5]\n",
      " [5 6 6 1]]\n"
     ]
    }
   ],
   "source": [
    "# Beberapa perintah dalam Numpy untuk membuat matrix\n",
    "\n",
    "#np.ones((...,...))\n",
    "#mencetak matriks dengan anggota 1, dengan baris dan kolom sesuai dengan yg diperintahkan\n",
    "print('Output matriks anggota 1 dengan baris 2 dan kolom 3 : ')\n",
    "print(np.ones((2,3)))    \n",
    "\n",
    "print()\n",
    "\n",
    "#np.zeros((...,...))\n",
    "#mencetak matriks dengan anggota 0, dengan baris dan kolom sesuai dengan yg diperintahkan\n",
    "print('Output matriks anggota 0 dengan baris 3 dan kolom 2 : ')\n",
    "print(np.zeros((3,2))) \n",
    "\n",
    "print()\n",
    "\n",
    "#np.identity((...,...))\n",
    "#mencetak matriks identitas, dengan baris dan kolom sesuai dengan yg diperintahkan\n",
    "print('Output matriks identitas 4 x 4 : ')\n",
    "print(np.identity(4)) \n",
    "\n",
    "print()\n",
    "\n",
    "#np.ones((...,...,...))\n",
    "#mencetak matriks dengan anggota 1, dengan jumlah, baris dan kolom sesuai dengan yg diperintahkan\n",
    "print('Output matriks anggota 1 dengan jumlah matriks 2, 3 baris dan 4 kolom : ')\n",
    "print(np.ones((2,3,4)))    \n",
    "\n",
    "print()\n",
    "\n",
    "#np.full((...,...),...)\n",
    "#mencetak matriks dengan anggota pada indeks ketiga, dengan jumlah, baris dan kolom sesuai dengan yg diperintahkan\n",
    "print('Output matriks anggota 9 dengan 3 baris dan 2 kolom : ')\n",
    "print(np.full((3,2),9))    \n",
    "\n",
    "print()\n",
    "\n",
    "#np.random.rand(...,...)\n",
    "#mencetak matriks yang anggotanya acak \n",
    "print('Output matriks anggota random dengan 4 baris dan 3 kolom : ')\n",
    "print(np.random.rand(4,3)) \n",
    "\n",
    "print()\n",
    "\n",
    "#np.random.randint(...,..., size=(...,...))\n",
    "#mencetak matriks yang anggotanya acak dengan tipe data integer acak dari ukuran yang diberikan\n",
    "print('Output matriks anggota random integer 1-10 dengan 3 baris dan 4 kolom : ')\n",
    "print(np.random.randint(1,10,size=(3,4)))  "
   ]
  },
  {
   "cell_type": "code",
   "execution_count": null,
   "id": "6f75b74c",
   "metadata": {},
   "outputs": [],
   "source": [
    "#Latihan membuat matrik ukuran 10 x 10 dengan menggunakan Numpy\n",
    "\n",
    "a = np.zeros((10,10))       #membuat base matriks\n",
    "print(a) \n",
    "\n",
    "b = np.identity(4)          #membuat base diagonal utama\n",
    "print(b)\n",
    "\n",
    "c = 9*b                     #mengganti diagonal dengan angka 9\n",
    "print(c)\n",
    "\n",
    "d = np.ones((8,8))          #membuat matriks 8 x 8 untuk bagian dalam matriks 10 x 10\n",
    "e = np.identity(8)*8        #membuat matriks identitas pada materiks 8 x 8\n",
    "f = d+e                     #menggabungkan hasil d dan e\n",
    "print (f)\n",
    "\n",
    "c[1:-1,1:-1] = f            #update c yaitu baris kedua sampai 9 menjadi f\n",
    "print(c)\n",
    "\n",
    "g = np.identity(6)*9        #membuat matriks identitas 6 x 6 dengan diagonal 9\n",
    "c[2:-2,2:-2] = g            #update c yaitu baris ketiga sampai 8 menjadi g\n",
    "print(c)\n",
    "\n",
    "h = np.ones((4,4))*2        #membuat matriks 4 x 4 dengan elemen 2\n",
    "i = np.identity(4)*7        #membuat identitas 4 x 4 dengan elemen 7\n",
    "j = h+i                     #menggabungkan hasil h dan i\n",
    "print(j)\n",
    "\n",
    "c[3:-3,3:-3] = j            #update c yaitu baris keempat sampai 7 menjadi j\n",
    "\n",
    "k = np.identity(2)*9        #membuat matriks identitas 2 x 2 dengan diagonal 9\n",
    "\n",
    "c[4:-4,4:-4] = k            #update c yaitu baris kelima sampai 6 menjadi k\n",
    "print(c)"
   ]
  },
  {
   "cell_type": "markdown",
   "id": "f2db0780",
   "metadata": {},
   "source": [
    "##### 5.20.4 Copy pada Numpy"
   ]
  },
  {
   "cell_type": "code",
   "execution_count": 256,
   "id": "8ecc015a",
   "metadata": {
    "scrolled": true
   },
   "outputs": [
    {
     "name": "stdout",
     "output_type": "stream",
     "text": [
      "[1 2 3 4 5]\n",
      "[1 2 3 4 5]\n",
      "[10  2  3  4  5]\n",
      "[10  2  3  4  5]\n"
     ]
    }
   ],
   "source": [
    "# Kasus yang tidak diinginkan\n",
    "a = np.array([1,2,3,4,5])       #menginisialisasi array a\n",
    "print(a)\n",
    "\n",
    "b = a                           #array b sama dengan a\n",
    "print(b)\n",
    "\n",
    "b[0] = 10                       #mengubah array b dengan indeks 0 menjadi 10\n",
    "print(b)\n",
    "\n",
    "print (a)                       #karena a = b, maka output yg tercetak akan sama"
   ]
  },
  {
   "cell_type": "code",
   "execution_count": 258,
   "id": "49816d79",
   "metadata": {
    "scrolled": true
   },
   "outputs": [
    {
     "name": "stdout",
     "output_type": "stream",
     "text": [
      "[1 2 3 4 5]\n",
      "[1 2 3 4 5]\n",
      "[10  2  3  4  5]\n",
      "[1 2 3 4 5]\n"
     ]
    }
   ],
   "source": [
    "c = np.array([1,2,3,4,5])     #menginisialisasi array a\n",
    "print(c)\n",
    "\n",
    "d = c.copy()                  #mengcopy array c ke d\n",
    "print(d)\n",
    "\n",
    "d[0] = 10                     #mengubah array d dengan indeks 0 menjadi 10\n",
    "print(d)\n",
    "\n",
    "print(c)                      #karena array c dicopy ke d, maka elemen pada array c tidak ikut berubah"
   ]
  },
  {
   "cell_type": "markdown",
   "id": "e76e2354",
   "metadata": {},
   "source": [
    "##### 5.20.5 Operasi Matematika pada Numpy"
   ]
  },
  {
   "cell_type": "code",
   "execution_count": 267,
   "id": "443bfff8",
   "metadata": {
    "scrolled": true
   },
   "outputs": [
    {
     "name": "stdout",
     "output_type": "stream",
     "text": [
      "Berikut matriks yang akan dioperasikan :\n",
      "[1 2 3 4 5]\n",
      "[ 6  7  8  9 10]\n",
      "\n",
      "Berikut hasil dari penjumlahan matriks a dan b :\n",
      "[ 7  9 11 13 15]\n",
      "\n",
      "Berikut hasil dari pengurangan matriks a dan b:\n",
      "[-5 -5 -5 -5 -5]\n",
      "\n",
      "Berikut hasil dari perkalian matriks a dan b:\n",
      "[ 6 14 24 36 50]\n",
      "\n",
      "Berikut hasil dari pembagian matriks a dan b:\n",
      "[0.16666667 0.28571429 0.375      0.44444444 0.5       ]\n",
      "\n",
      "Berikut hasil dari matriks b dipangkatkan a:\n",
      "[     6     49    512   6561 100000]\n"
     ]
    }
   ],
   "source": [
    "#operasi skalar dengan matriks\n",
    "print('Berikut matriks yang akan dioperasikan :')\n",
    "a = np.array([1,2,3,4,5])       #menginisialisasi array a\n",
    "print(a)\n",
    "b = np.array([6,7,8,9,10])     #menginisialisasi array b      \n",
    "print(b)\n",
    "\n",
    "print('\\nBerikut hasil dari penjumlahan matriks a dan b :')\n",
    "print(a+b)\n",
    "\n",
    "print('\\nBerikut hasil dari pengurangan matriks a dan b:')\n",
    "print(a-b)\n",
    "\n",
    "print('\\nBerikut hasil dari perkalian matriks a dan b:')\n",
    "print(a*b)\n",
    "\n",
    "print('\\nBerikut hasil dari pembagian matriks a dan b:')\n",
    "print(a/b)\n",
    "\n",
    "print('\\nBerikut hasil dari matriks b dipangkatkan a:')\n",
    "print(b**a)"
   ]
  },
  {
   "cell_type": "code",
   "execution_count": 280,
   "id": "2a0a639c",
   "metadata": {},
   "outputs": [
    {
     "name": "stdout",
     "output_type": "stream",
     "text": [
      "1.0\n",
      "[1.         0.8660254  0.70710678 0.58778525]\n",
      "[1.57079633 3.14159265 4.71238898 6.28318531]\n",
      "[ 90. 180. 270. 360.]\n"
     ]
    }
   ],
   "source": [
    "# Fungsi Trigonometri pada Numpy\n",
    "#Numpy menyediakan fungsi sin(), cos() dan tan() yang mengambil nilai dalam radian dan menghasilkan nilai sin, cos, dan tan yang seharusnya.\n",
    "\n",
    "#1 np.cos(a)   -> untuk mencari nilai cos masing-masing elemen pada a\n",
    "#2 np.sin(a)   -> untuk mencari nilai sin masing-masing elemen pada a\n",
    "#3 np.tan(a)   -> untuk mencari nilai tan masing-masing elemen pada a\n",
    "#4 np.sinh(a)  -> untuk mencari nilai invers/hiperbolik sin masing-masing elemen pada a\n",
    "#5 np.cosh(a)  -> untuk mencari nilai invers/hiperbolik cos masing-masing elemen pada a\n",
    "#6 np.tanh(a)  -> untuk mencari nilai invers/hiperbolik tan masing-masing elemen pada a\n",
    "#7 np.sqrt(a)  -> untuk mencari nilai akar kuadrat masing-masing elemen pada a\n",
    "\n",
    "#Contoh 1 menemukan nilai sinus pi/2\n",
    "p = np.sin(np.pi/2)\n",
    "print(p)\n",
    "\n",
    "#Contoh 2 menemukan nilai sinus untuk semua nilai di dataSudut\n",
    "dataSudut = np.array([np.pi/2, np.pi/3, np.pi/4, np.pi/5])\n",
    "\n",
    "q = np.sin(dataSudut)\n",
    "\n",
    "print(q)\n",
    "\n",
    "#Contoh 3 mengubah semua nilai dalam array berikut menjadi radian\n",
    "sudutDerajat = np.array([90, 180, 270, 360])\n",
    "\n",
    "r = np.deg2rad(sudutDerajat)\n",
    "\n",
    "print(r)\n",
    "\n",
    "#Contoh 4 mengubah semua nilai dalam array berikut menjadi derajat\n",
    "sudutRadian = np.array([np.pi/2, np.pi, 1.5*np.pi, 2*np.pi])\n",
    "\n",
    "s = np.rad2deg(sudutRadian)\n",
    "\n",
    "print(s)"
   ]
  },
  {
   "cell_type": "markdown",
   "id": "621a1a6f",
   "metadata": {},
   "source": [
    "##### 5.20.6 Perkalian Matrik pada Numpy"
   ]
  },
  {
   "cell_type": "markdown",
   "id": "9898009e",
   "metadata": {},
   "source": [
    "Pada contoh sebelumnya, perkalian matriks dilakukan dengan mengoperasikan elemen yang baris dan kolomnya sama. Hal ini tentunya akan memberikan hasil berbeda jika yang kita kehendaki adalah perkalian dua\n",
    "matriks. Perkalian matrik pada Numpy dapat menggunakan perintah matmul. Perlu dijadikan perhatian tentang ukuran matrik yang akan dikalikan harus\n",
    "sesuai dengan persyaratan. Misalnya matrik ukuran (1x2) dapat dikalikan dengan matrik ukuran (2x3)."
   ]
  },
  {
   "cell_type": "code",
   "execution_count": 289,
   "id": "c6fb2c21",
   "metadata": {
    "scrolled": true
   },
   "outputs": [
    {
     "name": "stdout",
     "output_type": "stream",
     "text": [
      "Berikut matriks yang akan dioperasikan :\n",
      "a\n",
      "[[1 2 3 4]\n",
      " [5 6 7 8]]\n",
      "b\n",
      "[[ 9 10 11 12]\n",
      " [13 14 15 16]]\n",
      "\n",
      "Berikut hasil operasi perkalian matriks a dan b :\n",
      "[[  9  20  33  48]\n",
      " [ 65  84 105 128]]\n"
     ]
    }
   ],
   "source": [
    "print('Berikut matriks yang akan dioperasikan :')\n",
    "print('a')\n",
    "a = np.array([[1,2,3,4],[5,6,7,8]])          #menginisialisasi array a 2 x 4\n",
    "print(a)\n",
    "print('b')\n",
    "b = np.array([[9,10,11,12],[13,14,15,16]])   #menginisialisasi array b 2 x 4\n",
    "print(b)\n",
    "\n",
    "#perkalian matriks a dan b tidak sesuai kaidah, karena memiliki ukuran yang tidak sesuai, output yang dihasilkan tentu tidak sesuai juga\n",
    "print('\\nBerikut hasil operasi perkalian matriks a dan b :')\n",
    "c = a*b\n",
    "print(c)        #namun, output yang dihasilkan tidak sesuai dengan kaidah perkalian 2 matriks\n",
    "#output yang dikasilkan seperti perkalian skalar karena kedua matriks memiliki ukuran yang sama\n",
    "\n",
    "#kita coba gunakan matmul\n",
    "# d = np.matmul(a,b)\n",
    "# print(t)\n",
    "\n",
    "#outputnya yaitu \n",
    "#  ValueError: matmul: Input operand 1 has a mismatch in its core dimension 0, \n",
    "       # with gufunc signature (n?,k),(k,m?)->(n?,m?) (size 2 is different from 4)"
   ]
  },
  {
   "cell_type": "code",
   "execution_count": 294,
   "id": "8ebd093c",
   "metadata": {
    "scrolled": true
   },
   "outputs": [
    {
     "name": "stdout",
     "output_type": "stream",
     "text": [
      "Berikut matriks yang akan dioperasikan :\n",
      "a\n",
      "[[1 2 3 4]\n",
      " [5 6 7 8]]\n",
      "b\n",
      "[[ 9 10]\n",
      " [11 12]\n",
      " [13 14]\n",
      " [15 16]]\n",
      "\n",
      "Berikut hasil operasi perkalian matriks a dan e :\n",
      "[[130 140]\n",
      " [322 348]]\n"
     ]
    }
   ],
   "source": [
    "#Contoh yang sesuai kaidah\n",
    "print('Berikut matriks yang akan dioperasikan :')\n",
    "print('a')\n",
    "a = np.array([[1,2,3,4],[5,6,7,8]])          #menginisialisasi array a 2 x 4\n",
    "print(a)\n",
    "print('b')\n",
    "e = np.array([[9,10],[11,12],[13,14],[15,16]])   #menginisialisasi array e 4 x 2\n",
    "print(e)\n",
    "\n",
    "print('\\nBerikut hasil operasi perkalian matriks a dan e :')\n",
    "f = np.matmul(a,e)\n",
    "print(f)\n",
    "\n",
    "# g = a*e\n",
    "# print(g) \n",
    "#output error karena kedua matriks memiliki ukuran yang berbeda, sehingga perkalian skalar tidak terjadi"
   ]
  },
  {
   "cell_type": "markdown",
   "id": "c13cd3a6",
   "metadata": {},
   "source": [
    "##### 5.20.7 min, max dan sum pada Numpy"
   ]
  },
  {
   "cell_type": "code",
   "execution_count": 315,
   "id": "737358c6",
   "metadata": {},
   "outputs": [
    {
     "name": "stdout",
     "output_type": "stream",
     "text": [
      "Berikut adalah matriks a :\n",
      "[[ 1  2  3  4]\n",
      " [ 5  6  7  8]\n",
      " [ 9 10 11 12]]\n",
      "\n",
      "Berikut adalah nilai minimum elemen pada matriks a :\n",
      "1\n",
      "\n",
      "Berikut adalah nilai minimum elemen baris pada masing-masing baris matriks a :\n",
      "[1 5 9]\n",
      "\n",
      "Berikut adalah nilai minimum elemen kolom pada masing-masing baris matriks a :\n",
      "[1 2 3 4]\n",
      "\n",
      "Berikut adalah nilai maksimum elemen pada matriks a :\n",
      "12\n",
      "\n",
      "Berikut adalah nilai maksimum elemen baris pada masing-masing baris matriks a :\n",
      "[ 4  8 12]\n",
      "\n",
      "Berikut adalah nilai maksimum elemen kolom pada masing-masing baris matriks a :\n",
      "[ 9 10 11 12]\n",
      "\n",
      "Berikut adalah jumlah nilai semua elemen pada matriks a :\n",
      "78\n",
      "\n",
      "Berikut adalah jumlah nilai elemen pada masing-masing baris matriks a :\n",
      "[10 26 42]\n",
      "\n",
      "Berikut adalah jumlah nilai elemen pada masing-masing kolom matriks a :\n",
      "[15 18 21 24]\n"
     ]
    }
   ],
   "source": [
    "#menginisialisasi array\n",
    "print('Berikut adalah matriks a :')\n",
    "a = np.array([[1,2,3,4],\n",
    "            [5,6,7,8],\n",
    "            [9,10,11,12]])\n",
    "print (a)\n",
    "\n",
    "print('\\nBerikut adalah nilai minimum elemen pada matriks a :')\n",
    "b = np.min(a) \n",
    "print(b)\n",
    "\n",
    "print('\\nBerikut adalah nilai minimum elemen baris pada masing-masing baris matriks a :')\n",
    "c = np.min(a, axis=1) \n",
    "print(c)\n",
    "\n",
    "print('\\nBerikut adalah nilai minimum elemen kolom pada masing-masing baris matriks a :')\n",
    "d = np.min(a, axis=0) \n",
    "print(d)\n",
    "\n",
    "print('\\nBerikut adalah nilai maksimum elemen pada matriks a :')\n",
    "e = np.max(a) \n",
    "print(e)\n",
    "\n",
    "print('\\nBerikut adalah nilai maksimum elemen baris pada masing-masing baris matriks a :')\n",
    "f = np.max(a, axis=1) \n",
    "print(f)\n",
    "\n",
    "print('\\nBerikut adalah nilai maksimum elemen kolom pada masing-masing baris matriks a :')\n",
    "g = np.max(a, axis=0) \n",
    "print(g)\n",
    "\n",
    "print('\\nBerikut adalah jumlah nilai semua elemen pada matriks a :')\n",
    "h = np.sum(a)\n",
    "print(h)          \n",
    "\n",
    "print('\\nBerikut adalah jumlah nilai elemen pada masing-masing baris matriks a :')\n",
    "j=np.sum(a,axis=1)\n",
    "print(j)\n",
    "\n",
    "print('\\nBerikut adalah jumlah nilai elemen pada masing-masing kolom matriks a :')\n",
    "j = np.sum(a,axis=0)\n",
    "print(j) "
   ]
  }
 ],
 "metadata": {
  "kernelspec": {
   "display_name": "Python 3 (ipykernel)",
   "language": "python",
   "name": "python3"
  },
  "language_info": {
   "codemirror_mode": {
    "name": "ipython",
    "version": 3
   },
   "file_extension": ".py",
   "mimetype": "text/x-python",
   "name": "python",
   "nbconvert_exporter": "python",
   "pygments_lexer": "ipython3",
   "version": "3.9.13"
  }
 },
 "nbformat": 4,
 "nbformat_minor": 5
}
