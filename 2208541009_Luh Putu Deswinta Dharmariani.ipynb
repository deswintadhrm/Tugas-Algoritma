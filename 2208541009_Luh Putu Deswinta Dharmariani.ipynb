{
 "cells": [
  {
   "cell_type": "code",
   "execution_count": 1,
   "id": "4e468634",
   "metadata": {},
   "outputs": [
    {
     "name": "stdout",
     "output_type": "stream",
     "text": [
      "Saya suka kwetiau\n"
     ]
    }
   ],
   "source": [
    "print('Saya suka kwetiau')"
   ]
  },
  {
   "cell_type": "code",
   "execution_count": 2,
   "id": "6e6b7620",
   "metadata": {},
   "outputs": [
    {
     "name": "stdout",
     "output_type": "stream",
     "text": [
      "Ini Kelas Algoritma\n"
     ]
    }
   ],
   "source": [
    "print('Ini Kelas Algoritma')"
   ]
  },
  {
   "cell_type": "code",
   "execution_count": 3,
   "id": "7ab25f53",
   "metadata": {},
   "outputs": [],
   "source": [
    "#print(I don't understand what are you saying')"
   ]
  },
  {
   "cell_type": "markdown",
   "id": "205e7ac8",
   "metadata": {},
   "source": [
    "ketika menggunakan tanda (') pada kalimat yang ingin ditampilkan, gunakan petik dua (\") agar code tidak error"
   ]
  },
  {
   "cell_type": "code",
   "execution_count": 4,
   "id": "eecd8ec6",
   "metadata": {},
   "outputs": [
    {
     "name": "stdout",
     "output_type": "stream",
     "text": [
      "I don't understand what are you saying\n"
     ]
    }
   ],
   "source": [
    "print(\"I don't understand what are you saying\")"
   ]
  },
  {
   "cell_type": "code",
   "execution_count": 5,
   "id": "3f8092af",
   "metadata": {},
   "outputs": [
    {
     "name": "stdout",
     "output_type": "stream",
     "text": [
      "He is such a \"GENIUS\"\n"
     ]
    }
   ],
   "source": [
    "print('He is such a \"GENIUS\"')"
   ]
  },
  {
   "cell_type": "code",
   "execution_count": 6,
   "id": "a9843b9e",
   "metadata": {},
   "outputs": [],
   "source": [
    "#print(\"He is such a \"GENIUS\"\")"
   ]
  },
  {
   "cell_type": "markdown",
   "id": "c773104a",
   "metadata": {},
   "source": [
    "gunakan salah satu tanda, petik satu (') atau petik dua (\") tidak boleh ada kedua unsur tersebut dalam satu kondisi"
   ]
  },
  {
   "cell_type": "code",
   "execution_count": 7,
   "id": "c0e5d73d",
   "metadata": {},
   "outputs": [
    {
     "name": "stdout",
     "output_type": "stream",
     "text": [
      "I like to eat kwetiau seafood\n"
     ]
    }
   ],
   "source": [
    "print('I like to eat kwetiau seafood')"
   ]
  },
  {
   "cell_type": "code",
   "execution_count": 8,
   "id": "2bd3ccf4",
   "metadata": {},
   "outputs": [
    {
     "name": "stdout",
     "output_type": "stream",
     "text": [
      "Just keep swimming\n"
     ]
    }
   ],
   "source": [
    "print(\"Just keep swimming\")"
   ]
  },
  {
   "cell_type": "code",
   "execution_count": 9,
   "id": "72213450",
   "metadata": {},
   "outputs": [
    {
     "name": "stdout",
     "output_type": "stream",
     "text": [
      "I love seafood\n"
     ]
    }
   ],
   "source": [
    "print('I love seafood')"
   ]
  },
  {
   "cell_type": "code",
   "execution_count": 12,
   "id": "83d22895",
   "metadata": {},
   "outputs": [
    {
     "name": "stdout",
     "output_type": "stream",
     "text": [
      "I love sing a song\n"
     ]
    }
   ],
   "source": [
    "print(\"I love sing a song\")"
   ]
  },
  {
   "cell_type": "code",
   "execution_count": 10,
   "id": "687e2be7",
   "metadata": {},
   "outputs": [
    {
     "name": "stdout",
     "output_type": "stream",
     "text": [
      "42\n",
      "100000\n",
      "4200000\n"
     ]
    }
   ],
   "source": [
    "mahasiswa = 42\n",
    "uang_di_dompet = 100000\n",
    "print(mahasiswa)\n",
    "print(uang_di_dompet)\n",
    "print(mahasiswa*uang_di_dompet)"
   ]
  },
  {
   "cell_type": "code",
   "execution_count": 11,
   "id": "c0d7d148",
   "metadata": {},
   "outputs": [
    {
     "name": "stdout",
     "output_type": "stream",
     "text": [
      "38\n",
      "2500000\n",
      "95000000\n"
     ]
    }
   ],
   "source": [
    "karyawan = 38\n",
    "gaji_perbulan = 2500000\n",
    "print(karyawan)\n",
    "print(gaji_perbulan)\n",
    "print(karyawan*gaji_perbulan)"
   ]
  },
  {
   "cell_type": "code",
   "execution_count": 12,
   "id": "e7fc85c2",
   "metadata": {},
   "outputs": [
    {
     "name": "stdout",
     "output_type": "stream",
     "text": [
      "15\n",
      "750000\n",
      "11250000\n"
     ]
    }
   ],
   "source": [
    "kost_terisi = 15\n",
    "harga_kost = 750000\n",
    "pemasukan_kost = kost_terisi*harga_kost\n",
    "print(kost_terisi)\n",
    "print(harga_kost)\n",
    "print(pemasukan_kost)"
   ]
  },
  {
   "cell_type": "code",
   "execution_count": 13,
   "id": "1e3a3a5f",
   "metadata": {},
   "outputs": [
    {
     "name": "stdout",
     "output_type": "stream",
     "text": [
      "Luh Putu Deswinta Dharmariani\n"
     ]
    }
   ],
   "source": [
    "nama_depan = 'Luh Putu '\n",
    "nama_tengah = 'Deswinta'\n",
    "nama_belakang = ' Dharmariani'\n",
    "print(nama_depan + nama_tengah + nama_belakang)"
   ]
  },
  {
   "cell_type": "code",
   "execution_count": 14,
   "id": "9a297d69",
   "metadata": {},
   "outputs": [
    {
     "name": "stdout",
     "output_type": "stream",
     "text": [
      "Dharmariani, Deswinta\n"
     ]
    }
   ],
   "source": [
    "nama_depan = 'Deswinta'\n",
    "nama_belakang = 'Dharmariani'\n",
    "print(nama_belakang + ', ' +nama_depan)"
   ]
  },
  {
   "cell_type": "markdown",
   "id": "144a16b4",
   "metadata": {},
   "source": [
    "# 5.2 Input"
   ]
  },
  {
   "cell_type": "code",
   "execution_count": 1,
   "id": "9ce540d9",
   "metadata": {},
   "outputs": [
    {
     "name": "stdout",
     "output_type": "stream",
     "text": [
      "Siapakah nama anda? Deswinta\n",
      "Apakah kegiatan anda sekarang, Deswinta? Kuliah\n",
      "Semangat Kuliah nya yah, Deswinta!\n"
     ]
    }
   ],
   "source": [
    "nama = input(\"Siapakah nama anda? \")\n",
    "kegiatan = input('Apakah kegiatan anda sekarang, ' + nama + \"? \")\n",
    "print(\"Semangat \" + kegiatan + \" nya yah, \" + nama + \"!\" )"
   ]
  },
  {
   "cell_type": "code",
   "execution_count": 2,
   "id": "7dfd45b5",
   "metadata": {
    "scrolled": true
   },
   "outputs": [
    {
     "name": "stdout",
     "output_type": "stream",
     "text": [
      "Kamu kuliah dimana? Universitas Udayana\n",
      "Program studi apa tuh? Matematika\n",
      "Wah seru banget kuliah Matematika, kamu yang semangat yaa kuliahnya!\n"
     ]
    }
   ],
   "source": [
    "kuliah = input('Kamu kuliah dimana? ')\n",
    "prodi = input(\"Program studi apa tuh? \")\n",
    "print(\"Wah seru banget kuliah \" + prodi + \", kamu yang semangat yaa kuliahnya!\")"
   ]
  },
  {
   "cell_type": "code",
   "execution_count": 3,
   "id": "42ef176e",
   "metadata": {},
   "outputs": [
    {
     "name": "stdout",
     "output_type": "stream",
     "text": [
      "Biodata mahasiswa Program Studi Matematika Tahun 2022\n",
      "Nama : Luh Putu Deswinta Dharmariani\n",
      "Alamat : Denpasar\n",
      "Umur : 19\n",
      "Luh Putu Deswinta Dharmariani\n",
      "Denpasar\n",
      "19\n"
     ]
    }
   ],
   "source": [
    "print(\"Biodata mahasiswa Program Studi Matematika Tahun 2022\")\n",
    "nama = input(\"Nama : \")\n",
    "alamat = input(\"Alamat : \")\n",
    "umur = input(\"Umur : \")\n",
    "# mencetak isi variabel\n",
    "print(nama)\n",
    "print(alamat)\n",
    "print(umur)"
   ]
  },
  {
   "cell_type": "markdown",
   "id": "fa03b587",
   "metadata": {},
   "source": [
    "# 5.3 Tipe Data pada Python"
   ]
  },
  {
   "cell_type": "code",
   "execution_count": 7,
   "id": "e95090d4",
   "metadata": {},
   "outputs": [
    {
     "name": "stdout",
     "output_type": "stream",
     "text": [
      "Berapakah jumlah uang di dompet anda? 345200\n",
      "Berapakah jumlah uang anda di Bank? 8945600\n",
      "Total uang anda adalah Rp 3452008945600\n"
     ]
    }
   ],
   "source": [
    "uang_di_dompet = input(\"Berapakah jumlah uang di dompet anda? \")\n",
    "uang_di_bank = input('Berapakah jumlah uang anda di Bank? ')\n",
    "print('Total uang anda adalah Rp ' + uang_di_dompet + uang_di_bank)"
   ]
  },
  {
   "cell_type": "markdown",
   "id": "5f7a6fae",
   "metadata": {},
   "source": [
    "ketika kita ingin mencantumkan operasi hitung, kita harus menginisialisasi terlebih dahulu"
   ]
  },
  {
   "cell_type": "code",
   "execution_count": 8,
   "id": "96d091dc",
   "metadata": {},
   "outputs": [
    {
     "name": "stdout",
     "output_type": "stream",
     "text": [
      "Berapakah jumlah uang di dompet anda? 345200\n",
      "Berapakah jumlah uang anda di Bank? 8945600\n",
      "Total uang anda adalah Rp 9290800\n"
     ]
    }
   ],
   "source": [
    "uang_di_dompet = input(\"Berapakah jumlah uang di dompet anda? \")\n",
    "uang_di_bank = input('Berapakah jumlah uang anda di Bank? ')\n",
    "total_uang = int(uang_di_dompet) + int(uang_di_bank)\n",
    "print('Total uang anda adalah Rp ' + str(total_uang))"
   ]
  },
  {
   "cell_type": "code",
   "execution_count": 29,
   "id": "796c7667",
   "metadata": {},
   "outputs": [
    {
     "data": {
      "text/plain": [
       "str"
      ]
     },
     "execution_count": 29,
     "metadata": {},
     "output_type": "execute_result"
    }
   ],
   "source": [
    "type(uang_di_dompet)"
   ]
  },
  {
   "cell_type": "code",
   "execution_count": 30,
   "id": "27edc7ed",
   "metadata": {},
   "outputs": [
    {
     "data": {
      "text/plain": [
       "str"
      ]
     },
     "execution_count": 30,
     "metadata": {},
     "output_type": "execute_result"
    }
   ],
   "source": [
    "type(uang_di_bank)"
   ]
  },
  {
   "cell_type": "code",
   "execution_count": 31,
   "id": "33bd226e",
   "metadata": {},
   "outputs": [
    {
     "data": {
      "text/plain": [
       "int"
      ]
     },
     "execution_count": 31,
     "metadata": {},
     "output_type": "execute_result"
    }
   ],
   "source": [
    "type(total_uang)"
   ]
  },
  {
   "cell_type": "code",
   "execution_count": 32,
   "id": "f7560e82",
   "metadata": {},
   "outputs": [
    {
     "name": "stdout",
     "output_type": "stream",
     "text": [
      "Masukkan bilangan pertama: 1\n",
      "Masukkan bilangan kedua: 2\n",
      "Jumlah kedua bilangan adalah 3.0\n"
     ]
    }
   ],
   "source": [
    "bil_satu = input('Masukkan bilangan pertama: ')\n",
    "bil_kedua = input('Masukkan bilangan kedua: ')\n",
    "jumlah = float(bil_satu) + float(bil_kedua)\n",
    "print(\"Jumlah kedua bilangan adalah \"+ str(jumlah))"
   ]
  },
  {
   "cell_type": "code",
   "execution_count": 10,
   "id": "5f3968fb",
   "metadata": {},
   "outputs": [
    {
     "name": "stdout",
     "output_type": "stream",
     "text": [
      "Halo, selamat datang pada cek Nilai Algoritma!\n",
      "Masukkan nilai tugas Individu: 85\n",
      "Masukkan nilai tugas kelompok: 87\n",
      "Masukkan nilai kehadiran: 100\n",
      "Masukkan nilai kuis: 86\n",
      "Masukkan nilai UTS: 89\n",
      "Masukkan nilai UAS: 88\n",
      "Jadi nilai yang didapat pada mata kuliah Algoritma adalah 89.16666666666667\n"
     ]
    }
   ],
   "source": [
    "print(\"Halo, selamat datang pada cek Nilai Algoritma!\")\n",
    "indiv = input('Masukkan nilai tugas Individu: ')\n",
    "klp = input('Masukkan nilai tugas kelompok: ')\n",
    "hadir = input('Masukkan nilai kehadiran: ')\n",
    "kuis = input('Masukkan nilai kuis: ')\n",
    "uts = input('Masukkan nilai UTS: ')\n",
    "uas = input('Masukkan nilai UAS: ')\n",
    "jumlah = float(indiv) + float(klp) + float(hadir) + float(kuis) + float(uts) + float(uas)\n",
    "rata = float(jumlah) / 6\n",
    "print(\"Jadi nilai yang didapat pada mata kuliah Algoritma adalah \" + str(rata))"
   ]
  },
  {
   "cell_type": "code",
   "execution_count": 9,
   "id": "8b3e7f58",
   "metadata": {},
   "outputs": [
    {
     "name": "stdout",
     "output_type": "stream",
     "text": [
      "Halo, selamat datang pada cek Nilai Algoritma!\n",
      "Masukkan nilai tugas Individu: 85\n",
      "Masukkan nilai tugas kelompok: 87\n",
      "Masukkan nilai kehadiran: 100\n",
      "Masukkan nilai kuis: 86\n",
      "Masukkan nilai UTS: 89\n",
      "Masukkan nilai UAS: 88\n",
      "Jadi nilai yang didapat pada mata kuliah Algoritma adalah 88.0\n"
     ]
    }
   ],
   "source": [
    "print(\"Halo, selamat datang pada cek Nilai Algoritma!\")\n",
    "indiv = input('Masukkan nilai tugas Individu: ')\n",
    "klp = input('Masukkan nilai tugas kelompok: ')\n",
    "hadir = input('Masukkan nilai kehadiran: ')\n",
    "kuis = input('Masukkan nilai kuis: ')\n",
    "uts = input('Masukkan nilai UTS: ')\n",
    "uas = input('Masukkan nilai UAS: ')\n",
    "jumlah = (float(indiv)*float(0.15)) + (float(klp)*float(0.20)) + (float(hadir)*float(0.05)) + (float(kuis)*float(0.10)) + (float(uts)*float(0.25)) + (float(uas)*float(0.25))\n",
    "print(\"Jadi nilai yang didapat pada mata kuliah Algoritma adalah \" + str(jumlah))"
   ]
  },
  {
   "cell_type": "markdown",
   "id": "b6fc8545",
   "metadata": {},
   "source": [
    "code diatas digunakan ketika nilai sudah memiliki bobotnya"
   ]
  },
  {
   "cell_type": "markdown",
   "id": "08c310a6",
   "metadata": {},
   "source": [
    "# 5.4 Formatted String"
   ]
  },
  {
   "cell_type": "code",
   "execution_count": null,
   "id": "70ebd8af",
   "metadata": {},
   "outputs": [],
   "source": [
    "nama = \"Maudy Ayunda\"\n",
    "alamat = 'Jimbaran'\n",
    "print(nama + \" tinggal di \" + alamat)"
   ]
  },
  {
   "cell_type": "code",
   "execution_count": null,
   "id": "085e3df0",
   "metadata": {},
   "outputs": [],
   "source": [
    "#mencoba print dengan format yang berbeda\n",
    "nama = \"Maudy Ayunda\"\n",
    "alamat = 'Jimbaran'\n",
    "print(f'{nama} tinggal di {alamat}.')"
   ]
  },
  {
   "cell_type": "code",
   "execution_count": null,
   "id": "4abf3c97",
   "metadata": {},
   "outputs": [],
   "source": [
    "#mencoba print dengan format yang berbeda\n",
    "nama = \"Maudy Ayunda\"\n",
    "alamat = 'Jimbaran'\n",
    "print(f\"{nama} tinggal di {alamat}.\")"
   ]
  },
  {
   "cell_type": "code",
   "execution_count": null,
   "id": "9b70bbd1",
   "metadata": {},
   "outputs": [],
   "source": [
    "nama = \"Maudy Ayunda\"\n",
    "alamat = 'Jimbaran'\n",
    "\n",
    "print(nama + \" tinggal di \" + alamat)"
   ]
  }
 ],
 "metadata": {
  "kernelspec": {
   "display_name": "Python 3 (ipykernel)",
   "language": "python",
   "name": "python3"
  },
  "language_info": {
   "codemirror_mode": {
    "name": "ipython",
    "version": 3
   },
   "file_extension": ".py",
   "mimetype": "text/x-python",
   "name": "python",
   "nbconvert_exporter": "python",
   "pygments_lexer": "ipython3",
   "version": "3.9.13"
  }
 },
 "nbformat": 4,
 "nbformat_minor": 5
}
